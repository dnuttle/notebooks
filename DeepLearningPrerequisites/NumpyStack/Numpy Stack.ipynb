{
 "cells": [
  {
   "cell_type": "markdown",
   "metadata": {},
   "source": [
    "## Section 2. Numpy\n",
    "### Lists vs. arrays"
   ]
  },
  {
   "cell_type": "code",
   "execution_count": 2,
   "metadata": {},
   "outputs": [],
   "source": [
    "import numpy as np"
   ]
  },
  {
   "cell_type": "code",
   "execution_count": 20,
   "metadata": {},
   "outputs": [
    {
     "name": "stdout",
     "output_type": "stream",
     "text": [
      "1\n",
      "2\n",
      "3\n"
     ]
    }
   ],
   "source": [
    "#Python list\n",
    "L = [1,2,3]\n",
    "#Numpy array\n",
    "A = np.array([1,2,3])\n",
    "\n",
    "for e in L:\n",
    "    print e"
   ]
  },
  {
   "cell_type": "code",
   "execution_count": 8,
   "metadata": {},
   "outputs": [
    {
     "name": "stdout",
     "output_type": "stream",
     "text": [
      "1\n",
      "2\n",
      "3\n"
     ]
    }
   ],
   "source": [
    "for e in A:\n",
    "    print e"
   ]
  },
  {
   "cell_type": "code",
   "execution_count": 21,
   "metadata": {},
   "outputs": [
    {
     "data": {
      "text/plain": [
       "[1, 2, 3, 4]"
      ]
     },
     "execution_count": 21,
     "metadata": {},
     "output_type": "execute_result"
    }
   ],
   "source": [
    "#append to list\n",
    "L.append(4)\n",
    "L"
   ]
  },
  {
   "cell_type": "code",
   "execution_count": 18,
   "metadata": {},
   "outputs": [
    {
     "ename": "AttributeError",
     "evalue": "'numpy.ndarray' object has no attribute 'append'",
     "output_type": "error",
     "traceback": [
      "\u001b[0;31m---------------------------------------------------------------------------\u001b[0m",
      "\u001b[0;31mAttributeError\u001b[0m                            Traceback (most recent call last)",
      "\u001b[0;32m<ipython-input-18-7a3fe4ee3948>\u001b[0m in \u001b[0;36m<module>\u001b[0;34m()\u001b[0m\n\u001b[1;32m      1\u001b[0m \u001b[0;31m#Numpy array has no append method\u001b[0m\u001b[0;34m\u001b[0m\u001b[0;34m\u001b[0m\u001b[0m\n\u001b[0;32m----> 2\u001b[0;31m \u001b[0mA\u001b[0m\u001b[0;34m.\u001b[0m\u001b[0mappend\u001b[0m\u001b[0;34m(\u001b[0m\u001b[0;36m4\u001b[0m\u001b[0;34m)\u001b[0m\u001b[0;34m\u001b[0m\u001b[0m\n\u001b[0m",
      "\u001b[0;31mAttributeError\u001b[0m: 'numpy.ndarray' object has no attribute 'append'"
     ]
    }
   ],
   "source": [
    "#Numpy array has no append method\n",
    "A.append(4)"
   ]
  },
  {
   "cell_type": "code",
   "execution_count": 22,
   "metadata": {},
   "outputs": [
    {
     "data": {
      "text/plain": [
       "[1, 2, 3, 4, 5]"
      ]
     },
     "execution_count": 22,
     "metadata": {},
     "output_type": "execute_result"
    }
   ],
   "source": [
    "L = L + [5]\n",
    "L"
   ]
  },
  {
   "cell_type": "code",
   "execution_count": 23,
   "metadata": {},
   "outputs": [
    {
     "ename": "ValueError",
     "evalue": "operands could not be broadcast together with shapes (3,) (2,) ",
     "output_type": "error",
     "traceback": [
      "\u001b[0;31m---------------------------------------------------------------------------\u001b[0m",
      "\u001b[0;31mValueError\u001b[0m                                Traceback (most recent call last)",
      "\u001b[0;32m<ipython-input-23-232666770e58>\u001b[0m in \u001b[0;36m<module>\u001b[0;34m()\u001b[0m\n\u001b[1;32m      1\u001b[0m \u001b[0;31m#Numpy array also doesn't allow adding\u001b[0m\u001b[0;34m\u001b[0m\u001b[0;34m\u001b[0m\u001b[0m\n\u001b[0;32m----> 2\u001b[0;31m \u001b[0mA\u001b[0m \u001b[0;34m=\u001b[0m \u001b[0mA\u001b[0m \u001b[0;34m+\u001b[0m \u001b[0;34m[\u001b[0m\u001b[0;36m4\u001b[0m\u001b[0;34m,\u001b[0m\u001b[0;36m5\u001b[0m\u001b[0;34m]\u001b[0m\u001b[0;34m\u001b[0m\u001b[0m\n\u001b[0m",
      "\u001b[0;31mValueError\u001b[0m: operands could not be broadcast together with shapes (3,) (2,) "
     ]
    }
   ],
   "source": [
    "#Numpy array also doesn't allow adding\n",
    "A = A + [4,5]"
   ]
  },
  {
   "cell_type": "code",
   "execution_count": 25,
   "metadata": {},
   "outputs": [
    {
     "data": {
      "text/plain": [
       "[2, 4, 6, 8, 10]"
      ]
     },
     "execution_count": 25,
     "metadata": {},
     "output_type": "execute_result"
    }
   ],
   "source": [
    "#To do element-wise addition in a list requires a loop\n",
    "L2 = []\n",
    "for e in L:\n",
    "    L2.append(e + e)\n",
    "L2"
   ]
  },
  {
   "cell_type": "code",
   "execution_count": 27,
   "metadata": {},
   "outputs": [
    {
     "data": {
      "text/plain": [
       "array([2, 4, 6])"
      ]
     },
     "execution_count": 27,
     "metadata": {},
     "output_type": "execute_result"
    }
   ],
   "source": [
    "#Numpy does element-wise addition by default\n",
    "A + A"
   ]
  },
  {
   "cell_type": "code",
   "execution_count": null,
   "metadata": {},
   "outputs": [],
   "source": [
    "#I guess the point is that Numpy arrays are immutable, like Java?"
   ]
  },
  {
   "cell_type": "code",
   "execution_count": 28,
   "metadata": {},
   "outputs": [
    {
     "data": {
      "text/plain": [
       "array([2, 4, 6])"
      ]
     },
     "execution_count": 28,
     "metadata": {},
     "output_type": "execute_result"
    }
   ],
   "source": [
    "#Scalar-vector multiplication\n",
    "2*A"
   ]
  },
  {
   "cell_type": "code",
   "execution_count": 29,
   "metadata": {},
   "outputs": [
    {
     "data": {
      "text/plain": [
       "[1, 2, 3, 4, 5, 1, 2, 3, 4, 5]"
      ]
     },
     "execution_count": 29,
     "metadata": {},
     "output_type": "execute_result"
    }
   ],
   "source": [
    "#Same operation with a list repeats the elements of the list\n",
    "2*L"
   ]
  },
  {
   "cell_type": "code",
   "execution_count": 30,
   "metadata": {},
   "outputs": [
    {
     "ename": "TypeError",
     "evalue": "unsupported operand type(s) for ** or pow(): 'list' and 'int'",
     "output_type": "error",
     "traceback": [
      "\u001b[0;31m---------------------------------------------------------------------------\u001b[0m",
      "\u001b[0;31mTypeError\u001b[0m                                 Traceback (most recent call last)",
      "\u001b[0;32m<ipython-input-30-4350642d22b9>\u001b[0m in \u001b[0;36m<module>\u001b[0;34m()\u001b[0m\n\u001b[1;32m      1\u001b[0m \u001b[0;31m#Can't use exonent on list\u001b[0m\u001b[0;34m\u001b[0m\u001b[0;34m\u001b[0m\u001b[0m\n\u001b[0;32m----> 2\u001b[0;31m \u001b[0mL\u001b[0m\u001b[0;34m**\u001b[0m\u001b[0;36m2\u001b[0m\u001b[0;34m\u001b[0m\u001b[0m\n\u001b[0m",
      "\u001b[0;31mTypeError\u001b[0m: unsupported operand type(s) for ** or pow(): 'list' and 'int'"
     ]
    }
   ],
   "source": [
    "#Can't use exonent on list\n",
    "L**2"
   ]
  },
  {
   "cell_type": "code",
   "execution_count": 32,
   "metadata": {},
   "outputs": [
    {
     "data": {
      "text/plain": [
       "array([1, 4, 9])"
      ]
     },
     "execution_count": 32,
     "metadata": {},
     "output_type": "execute_result"
    }
   ],
   "source": [
    "#You can with np array\n",
    "A**2"
   ]
  },
  {
   "cell_type": "code",
   "execution_count": 37,
   "metadata": {},
   "outputs": [
    {
     "data": {
      "text/plain": [
       "array([ 2.71828183,  7.3890561 , 20.08553692])"
      ]
     },
     "execution_count": 37,
     "metadata": {},
     "output_type": "execute_result"
    }
   ],
   "source": [
    "#Square root, log\n",
    "np.sqrt(A)\n",
    "np.log(A)\n",
    "#note that np does not do logs of any arbitrary base; use math.log for that\n",
    "#exponential\n",
    "np.exp(A)"
   ]
  },
  {
   "cell_type": "code",
   "execution_count": 46,
   "metadata": {},
   "outputs": [
    {
     "data": {
      "text/plain": [
       "1.0"
      ]
     },
     "execution_count": 46,
     "metadata": {},
     "output_type": "execute_result"
    }
   ],
   "source": [
    "#just for fun...math.log takes only a single float, not a list or array...must loop(?)\n",
    "import math\n",
    "math.log(3.0, 3)"
   ]
  },
  {
   "cell_type": "markdown",
   "metadata": {},
   "source": [
    "### Dot product 1: For loop vs. cosine method vs. dot function\n",
    "\n",
    "$$a \\cdot b = a^{T}b = \\sum_{d=1}^{D} a_{d}b_{d}$$\n",
    "$$ a \\cdot b = |a||b|\\cos\\theta_{ab}$$"
   ]
  },
  {
   "cell_type": "code",
   "execution_count": 62,
   "metadata": {},
   "outputs": [
    {
     "name": "stdout",
     "output_type": "stream",
     "text": [
      "4\n",
      "4\n",
      "4\n",
      "4\n",
      "4\n",
      "4\n"
     ]
    }
   ],
   "source": [
    "a = np.array([1,2])\n",
    "b = np.array([2,1])\n",
    "#for loop\n",
    "dot = 0\n",
    "for e, f in zip(a, b):\n",
    "    dot += e*f\n",
    "print(dot)"
   ]
  },
  {
   "cell_type": "code",
   "execution_count": null,
   "metadata": {},
   "outputs": [],
   "source": [
    "#can sum up the element-wise products\n",
    "print(np.sum(a*b))\n",
    "#equivalent:\n",
    "print((a*b).sum())\n",
    "#so sum is an instance method of numpy, though the first version looks static\n"
   ]
  },
  {
   "cell_type": "code",
   "execution_count": null,
   "metadata": {},
   "outputs": [],
   "source": [
    "#the preferred way to get a dot product\n",
    "print(np.dot(a, b))\n",
    "#equivalent:\n",
    "print(a.dot(b))\n",
    "print(b.dot(a))"
   ]
  },
  {
   "cell_type": "code",
   "execution_count": 69,
   "metadata": {},
   "outputs": [
    {
     "name": "stdout",
     "output_type": "stream",
     "text": [
      "2.23606797749979\n",
      "2.23606797749979\n",
      "2.23606797749979\n",
      "2.23606797749979\n"
     ]
    },
    {
     "data": {
      "text/plain": [
       "0.6435011087932847"
      ]
     },
     "execution_count": 69,
     "metadata": {},
     "output_type": "execute_result"
    }
   ],
   "source": [
    "#cosine method\n",
    "#magnitude of array is square root of sum of squares\n",
    "a_mag = np.sqrt((a*a).sum())\n",
    "print(a_mag)\n",
    "b_mag = np.sqrt((b*b).sum())\n",
    "print(b_mag)\n",
    "#numpy has a method for magnitude\n",
    "a_mag = np.linalg.norm(a)\n",
    "print(a_mag)\n",
    "b_mag = np.linalg.norm(b)\n",
    "print(b_mag)\n",
    "\n",
    "cosangle = a.dot(b) / (np.linalg.norm(a) * np.linalg.norm(b))\n",
    "cosangle\n",
    "angle = np.arccos(cosangle)\n",
    "angle\n",
    "\n",
    "#The course here doesn't describe how to use cosine method to get dot product; \n",
    "#the point (I guess) is to show that you need to know the cos and norms ahead of time to get dot product"
   ]
  },
  {
   "cell_type": "markdown",
   "metadata": {},
   "source": [
    "### Dot product 2: speed comparison\n",
    "Following is from course's dot_for.py.\n",
    "\n",
    "np.random.randn returns values from standard normal distribution.\n",
    "\n",
    "xrange returns a \"generator object\" for use in for loops; smaller memory use than range.\n",
    "\n",
    "The code builds a dot product on two vectors with 100 values 100,000 times, first in a loop and second using the numpy dot function, and shows how many times the first method takes than the second (about 30)."
   ]
  },
  {
   "cell_type": "code",
   "execution_count": 71,
   "metadata": {},
   "outputs": [
    {
     "name": "stdout",
     "output_type": "stream",
     "text": [
      "dt1 / dt2: 32.7425422197\n"
     ]
    }
   ],
   "source": [
    "import numpy as np\n",
    "from datetime import datetime\n",
    "\n",
    "a = np.random.randn(100)\n",
    "b = np.random.randn(100)\n",
    "T = 100000\n",
    "\n",
    "def slow_dot_product(a, b):\n",
    "  result = 0\n",
    "  for e, f in zip(a, b):\n",
    "    result += e*f\n",
    "  return result\n",
    "\n",
    "t0 = datetime.now()\n",
    "for t in xrange(T):\n",
    "  slow_dot_product(a, b)\n",
    "dt1 = datetime.now() - t0\n",
    "\n",
    "t0 = datetime.now()\n",
    "for t in xrange(T):\n",
    "  a.dot(b)\n",
    "dt2 = datetime.now() - t0\n",
    "\n",
    "print \"dt1 / dt2:\", dt1.total_seconds() / dt2.total_seconds()"
   ]
  },
  {
   "cell_type": "markdown",
   "metadata": {},
   "source": [
    "### Vectors and matrices"
   ]
  },
  {
   "cell_type": "code",
   "execution_count": 81,
   "metadata": {},
   "outputs": [
    {
     "name": "stdout",
     "output_type": "stream",
     "text": [
      "1\n",
      "1\n",
      "1\n"
     ]
    }
   ],
   "source": [
    "#Create matrix with two lists\n",
    "M = np.array( [ [1,2], [3,4] ] )\n",
    "\n",
    "#Can create list of lists rather than matrix...\n",
    "L=[ [1,2], [3,4] ]\n",
    "#Getting first element of first row in L\n",
    "print(L[0][0])\n",
    "#This also works with the matrix\n",
    "print(M[0][0])\n",
    "#But preferred/expected/shorthand method is two indices in one set of brackets\n",
    "print(M[0,0])"
   ]
  },
  {
   "cell_type": "code",
   "execution_count": 86,
   "metadata": {},
   "outputs": [
    {
     "name": "stdout",
     "output_type": "stream",
     "text": [
      "[[1 2]\n",
      " [3 4]]\n",
      "[[1 2]\n",
      " [3 4]]\n",
      "[[1 3]\n",
      " [2 4]]\n"
     ]
    }
   ],
   "source": [
    "#There is also an object explicitly called matrix (rather than array in example above)\n",
    "M2 = np.matrix(L)\n",
    "print(M2)\n",
    "#The official documentation recommends against using matrix object, prefers use of array\n",
    "#There are differences between array and matrix but he doesn't elaborate\n",
    "#To convert matrix to array\n",
    "A = np.array(M2)\n",
    "print(A)\n",
    "\n",
    "#array still has convenient matrix operations like transpose\n",
    "print(A.T)\n",
    "#note above: T is a property, not a method; is it calculated on the fly?"
   ]
  },
  {
   "cell_type": "markdown",
   "metadata": {},
   "source": [
    "### Generating matrices to work with"
   ]
  },
  {
   "cell_type": "code",
   "execution_count": 14,
   "metadata": {},
   "outputs": [
    {
     "name": "stdout",
     "output_type": "stream",
     "text": [
      "[0. 0. 0. 0. 0. 0. 0. 0. 0. 0.]\n",
      "[[0. 0. 0. 0. 0. 0. 0. 0. 0. 0.]\n",
      " [0. 0. 0. 0. 0. 0. 0. 0. 0. 0.]\n",
      " [0. 0. 0. 0. 0. 0. 0. 0. 0. 0.]\n",
      " [0. 0. 0. 0. 0. 0. 0. 0. 0. 0.]\n",
      " [0. 0. 0. 0. 0. 0. 0. 0. 0. 0.]\n",
      " [0. 0. 0. 0. 0. 0. 0. 0. 0. 0.]\n",
      " [0. 0. 0. 0. 0. 0. 0. 0. 0. 0.]\n",
      " [0. 0. 0. 0. 0. 0. 0. 0. 0. 0.]\n",
      " [0. 0. 0. 0. 0. 0. 0. 0. 0. 0.]\n",
      " [0. 0. 0. 0. 0. 0. 0. 0. 0. 0.]]\n",
      "mean: -0.0005742507570779854\n",
      "var: 0.9821508206521989\n",
      "sd: 0.9910352267463548\n"
     ]
    }
   ],
   "source": [
    "#Generate zeros\n",
    "Z = np.zeros(10)\n",
    "print(Z)\n",
    "#Generate array with zeros (note argument is a tuple of each dimension)\n",
    "Z = np.zeros((10, 10))\n",
    "print(Z)\n",
    "#Also method to generate ones\n",
    "Z = np.ones((10, 10))\n",
    "\n",
    "#np.random.random() generates continuous uniform values between [0, 1)\n",
    "Z = np.random.random((10, 10))\n",
    "\n",
    "#Values from standard normmal distribution\n",
    "#Note that this method takes dimensions as individual arguments\n",
    "G = np.random.randn(10, 10)\n",
    "\n",
    "#Array gives us statistics\n",
    "print(\"mean: \" + str(G.mean()))\n",
    "print(\"var: \" + str(G.var()))\n",
    "print(\"sd: \" + str(G.std()))"
   ]
  },
  {
   "cell_type": "markdown",
   "metadata": {},
   "source": [
    "### Matrix products\n",
    "Definition of matrix multiplication:\n",
    "$$C(i,j) = \\sum_{i=1}^{K} A(i,k) B(k, j)$$\n",
    "\n",
    "This means inner dimensions must match.\n",
    "\n",
    "This section is weak; he talks about matrix multiplication, shows no examples, and then talks about element-wise multiplication. So I will make up my own."
   ]
  },
  {
   "cell_type": "code",
   "execution_count": 22,
   "metadata": {},
   "outputs": [
    {
     "name": "stdout",
     "output_type": "stream",
     "text": [
      "Matrix A\n",
      "[[1 2 3]\n",
      " [4 5 6]]\n",
      "Matrix B\n",
      "[[1 2]\n",
      " [3 4]\n",
      " [5 6]]\n",
      "A multiplied with B\n",
      "[[22 28]\n",
      " [49 64]]\n"
     ]
    }
   ],
   "source": [
    "A = np.array( [ [1,2, 3], [4, 5, 6] ] )\n",
    "B = np.array( [ [1,2], [3,4], [5,6] ] )\n",
    "print(\"Matrix A\")\n",
    "print(A)\n",
    "print(\"Matrix B\")\n",
    "print(B)\n",
    "#To do matrix multiplication, use dot method:\n",
    "print(\"A multiplied with B\")\n",
    "print(A.dot(B))\n",
    "\n",
    "#I have seen other methods; I bet the matrix object has ways of doing it, and the numpy.linalg also.\n",
    "#But not sure which is \"favored\" or warned against. Python seems to have functionality that you're waved away from."
   ]
  },
  {
   "cell_type": "markdown",
   "metadata": {},
   "source": [
    "### More matrix operations"
   ]
  },
  {
   "cell_type": "code",
   "execution_count": 24,
   "metadata": {},
   "outputs": [
    {
     "name": "stdout",
     "output_type": "stream",
     "text": [
      "[[-2.   1. ]\n",
      " [ 1.5 -0.5]]\n"
     ]
    }
   ],
   "source": [
    "#Inverse--in the linalg library\n",
    "A = np.array([[1,2], [3,4]])\n",
    "A_inv = np.linalg.inv(A)\n",
    "print(A_inv)\n",
    "#Confirm by seeing that inverse * matrix gives identity matrix\n",
    "print(A_inv.dot(A))"
   ]
  },
  {
   "cell_type": "code",
   "execution_count": 25,
   "metadata": {},
   "outputs": [
    {
     "name": "stdout",
     "output_type": "stream",
     "text": [
      "[[1.00000000e+00 0.00000000e+00]\n",
      " [2.22044605e-16 1.00000000e+00]]\n"
     ]
    }
   ],
   "source": []
  },
  {
   "cell_type": "code",
   "execution_count": 26,
   "metadata": {},
   "outputs": [
    {
     "name": "stdout",
     "output_type": "stream",
     "text": [
      "-2.0000000000000004\n"
     ]
    }
   ],
   "source": [
    "#Determinant\n",
    "A_det = np.linalg.det(A)\n",
    "print(A_det)"
   ]
  },
  {
   "cell_type": "code",
   "execution_count": 29,
   "metadata": {},
   "outputs": [
    {
     "name": "stdout",
     "output_type": "stream",
     "text": [
      "[1 4]\n",
      "[[1 0]\n",
      " [0 2]]\n"
     ]
    }
   ],
   "source": [
    "#Diagonal (for whatever reason, this is in main np library)\n",
    "print(np.diag(A))\n",
    "#Same method can also create array with supplied values as the diagonal\n",
    "print(np.diag([1,2]))"
   ]
  },
  {
   "cell_type": "code",
   "execution_count": null,
   "metadata": {},
   "outputs": [],
   "source": [
    "#Outer product. Something I haven't gotten to in linear algebra yet."
   ]
  },
  {
   "cell_type": "markdown",
   "metadata": {},
   "source": [
    "$$\\sum = E\\{(x-\\mu) (x-\\mu)^{T})\\} \\approx \\frac{1}{N-1} \\sum_{n=1}{N} (x_n -\\bar{x})(x_n - \\bar{x})^{T}$$"
   ]
  },
  {
   "cell_type": "code",
   "execution_count": 32,
   "metadata": {},
   "outputs": [
    {
     "data": {
      "text/plain": [
       "array([[3, 4],\n",
       "       [6, 8]])"
      ]
     },
     "execution_count": 32,
     "metadata": {},
     "output_type": "execute_result"
    }
   ],
   "source": [
    "a = np.array([1,2])\n",
    "b = np.array([3,4])\n",
    "np.outer(a, b)"
   ]
  },
  {
   "cell_type": "code",
   "execution_count": 34,
   "metadata": {},
   "outputs": [
    {
     "name": "stdout",
     "output_type": "stream",
     "text": [
      "5\n",
      "5\n"
     ]
    }
   ],
   "source": [
    "#Matrix trace: the sum of the diagonals of a matrix\n",
    "print(np.diag(A).sum())\n",
    "#or\n",
    "print(np.trace(A))"
   ]
  },
  {
   "cell_type": "code",
   "execution_count": 37,
   "metadata": {},
   "outputs": [
    {
     "name": "stdout",
     "output_type": "stream",
     "text": [
      "(100, 100)\n",
      "(3, 3)\n"
     ]
    }
   ],
   "source": [
    "#Eigenvalue\n",
    "X = np.random.randn(100,3)\n",
    "cov = np.cov(X)\n",
    "print(cov.shape)\n",
    "#the shape should be 3x3, we want the covariance between the features (columns)\n",
    "cov = np.cov(X.T)\n",
    "print(cov.shape)\n",
    "#lesson: transpose matrix before taking covariance\n"
   ]
  },
  {
   "cell_type": "code",
   "execution_count": null,
   "metadata": {},
   "outputs": [],
   "source": [
    "#skipping the rest of this; it is out of my depth in linear algebra. Need to take a course."
   ]
  },
  {
   "cell_type": "markdown",
   "metadata": {},
   "source": [
    "### Solving a linear system\n",
    "Problem:\n",
    "$$Ax = b$$\n",
    "Solution:\n",
    "$$A^{-1}Ax = x = A^{-1}b$$\n",
    "The above assumes that A is invertible (and therefore square)."
   ]
  },
  {
   "cell_type": "code",
   "execution_count": 45,
   "metadata": {},
   "outputs": [
    {
     "name": "stdout",
     "output_type": "stream",
     "text": [
      "[[1 2]\n",
      " [3 4]]\n",
      "[1 2]\n",
      "[0.  0.5]\n",
      "[1. 2.]\n",
      "[0.  0.5]\n"
     ]
    }
   ],
   "source": [
    "A = np.array([[1,2], [3,4]])\n",
    "b = np.array([1,2])\n",
    "print(A)\n",
    "print(b)\n",
    "x = np.linalg.inv(A).dot(b)\n",
    "print(x)\n",
    "print(A.dot(x))\n",
    "\n",
    "#linalg has this in a single method\n",
    "x = np.linalg.solve(A, b)\n",
    "print(x)\n",
    "\n",
    "#He makes a remark about MATLAB, and then says \"you should always use solve, never use inv--solve is faster\n",
    "#and more accurate.\" Did he mean in Python, or MATLAB, or both?"
   ]
  },
  {
   "cell_type": "markdown",
   "metadata": {},
   "source": [
    "### Word problem\n",
    "The admission fee at a small fair is \\$1.50 for children and \\$4.00 for adults. (What is this, 1958?) On a certain day, 220 people enter the fair and \\$5050 is collected. How many children and how many adults attended? Let:\n",
    "\n",
    "$X1 = $ number of children, $X2 = $ number of adults  \n",
    "$X1 + X2 = 2200$  \n",
    "$1.5X1 + 4X2 = 5050$"
   ]
  },
  {
   "cell_type": "code",
   "execution_count": 53,
   "metadata": {},
   "outputs": [
    {
     "name": "stdout",
     "output_type": "stream",
     "text": [
      "[[1.  1. ]\n",
      " [1.5 4. ]]\n",
      "[2200 5050]\n",
      "Solution:\n",
      "[1500.  700.]\n",
      "Ax:\n",
      "[2200. 5050.]\n"
     ]
    }
   ],
   "source": [
    "A = np.array( [ [1, 1], [1.5, 4] ] )\n",
    "b = np.array([2200, 5050])\n",
    "x = np.linalg.solve(A, b)\n",
    "print(A)\n",
    "print(b)\n",
    "print(\"Solution:\")\n",
    "print(x)\n",
    "print(\"Ax:\")\n",
    "print(A.dot(x))"
   ]
  },
  {
   "cell_type": "markdown",
   "metadata": {},
   "source": [
    "## Pandas\n",
    "### Manual data loading"
   ]
  },
  {
   "cell_type": "code",
   "execution_count": 61,
   "metadata": {},
   "outputs": [
    {
     "data": {
      "text/plain": [
       "['mlr02.xls',\n",
       " 'generate_poly.py',\n",
       " 'lr_poly.py',\n",
       " 'generate_1d.py',\n",
       " 'gradient_descent.py',\n",
       " 'overfitting.py',\n",
       " 'data_2d.csv',\n",
       " 'moore.csv',\n",
       " 'generate_2d.py',\n",
       " 'systolic.py',\n",
       " 'moore.py',\n",
       " 'data_poly.csv',\n",
       " 'l1_regularization.py',\n",
       " 'lr_1d.py',\n",
       " 'lr_2d.py',\n",
       " 'data_1d.csv',\n",
       " 'l2_regularization.py']"
      ]
     },
     "execution_count": 61,
     "metadata": {},
     "output_type": "execute_result"
    }
   ],
   "source": [
    "import os\n",
    "os.listdir(\"../machine_learning_examples/linear_regression_class\")"
   ]
  },
  {
   "cell_type": "code",
   "execution_count": 68,
   "metadata": {},
   "outputs": [
    {
     "data": {
      "text/plain": [
       "[[17.9302012052, 94.5205919533, 320.259529602],\n",
       " [97.1446971852, 69.5932819844, 404.634471526],\n",
       " [81.7759007845, 5.73764809688, 181.485107741],\n",
       " [55.8543424175, 70.3259016768, 321.773638018],\n",
       " [49.3665499855, 75.1140401571, 322.465485583]]"
      ]
     },
     "execution_count": 68,
     "metadata": {},
     "output_type": "execute_result"
    }
   ],
   "source": [
    "#the manual way to load data; useful if data is unstructured or needs pre-processing before being put into\n",
    "#matrix\n",
    "X = []\n",
    "for line in open(\"../machine_learning_examples/linear_regression_class/data_2d.csv\"):\n",
    "    row = line.split(\",\")\n",
    "    sample = map(float, row)\n",
    "    X.append(sample)\n",
    "X[0:5]"
   ]
  },
  {
   "cell_type": "code",
   "execution_count": 66,
   "metadata": {},
   "outputs": [
    {
     "data": {
      "text/plain": [
       "(100, 3)"
      ]
     },
     "execution_count": 66,
     "metadata": {},
     "output_type": "execute_result"
    }
   ],
   "source": [
    "X = np.array(X)\n",
    "X.shape"
   ]
  },
  {
   "cell_type": "markdown",
   "metadata": {},
   "source": [
    "### DataFrames"
   ]
  },
  {
   "cell_type": "code",
   "execution_count": 81,
   "metadata": {},
   "outputs": [
    {
     "name": "stdout",
     "output_type": "stream",
     "text": [
      "<class 'pandas.core.frame.DataFrame'>\n",
      "           0          1           2\n",
      "0  17.930201  94.520592  320.259530\n",
      "1  97.144697  69.593282  404.634472\n",
      "2  81.775901   5.737648  181.485108\n",
      "3  55.854342  70.325902  321.773638\n",
      "4  49.366550  75.114040  322.465486\n"
     ]
    }
   ],
   "source": [
    "import pandas as pd\n",
    "#change to the data path just for fun\n",
    "os.chdir(\"/Users/dnuttle/Documents/python/DeepLearningPrerequisites/machine_learning_examples/linear_regression_class\")\n",
    "X = pd.read_csv(\"data_2d.csv\", header=None)\n",
    "print(type(X))\n",
    "print(X.head(5))"
   ]
  },
  {
   "cell_type": "code",
   "execution_count": 80,
   "metadata": {},
   "outputs": [
    {
     "name": "stdout",
     "output_type": "stream",
     "text": [
      "<class 'pandas.core.frame.DataFrame'>\n",
      "RangeIndex: 100 entries, 0 to 99\n",
      "Data columns (total 3 columns):\n",
      "0    100 non-null float64\n",
      "1    100 non-null float64\n",
      "2    100 non-null float64\n",
      "dtypes: float64(3)\n",
      "memory usage: 2.4 KB\n"
     ]
    }
   ],
   "source": [
    "X.info()"
   ]
  },
  {
   "cell_type": "markdown",
   "metadata": {},
   "source": [
    "### More about dataframes: selecting rows and columns"
   ]
  },
  {
   "cell_type": "code",
   "execution_count": 87,
   "metadata": {},
   "outputs": [
    {
     "name": "stdout",
     "output_type": "stream",
     "text": [
      "17.9302012052\n"
     ]
    },
    {
     "ename": "KeyError",
     "evalue": "(0, 0)",
     "output_type": "error",
     "traceback": [
      "\u001b[0;31m---------------------------------------------------------------------------\u001b[0m",
      "\u001b[0;31mKeyError\u001b[0m                                  Traceback (most recent call last)",
      "\u001b[0;32m<ipython-input-87-f1a92b733d7c>\u001b[0m in \u001b[0;36m<module>\u001b[0;34m()\u001b[0m\n\u001b[1;32m      3\u001b[0m \u001b[0;31m#This allows for accessing by indices, which doesn't work for DataFrame:\u001b[0m\u001b[0;34m\u001b[0m\u001b[0;34m\u001b[0m\u001b[0m\n\u001b[1;32m      4\u001b[0m \u001b[0;32mprint\u001b[0m\u001b[0;34m(\u001b[0m\u001b[0mX2\u001b[0m\u001b[0;34m[\u001b[0m\u001b[0;36m0\u001b[0m\u001b[0;34m,\u001b[0m\u001b[0;36m0\u001b[0m\u001b[0;34m]\u001b[0m\u001b[0;34m)\u001b[0m\u001b[0;34m\u001b[0m\u001b[0m\n\u001b[0;32m----> 5\u001b[0;31m \u001b[0;32mprint\u001b[0m\u001b[0;34m(\u001b[0m\u001b[0mX\u001b[0m\u001b[0;34m[\u001b[0m\u001b[0;36m0\u001b[0m\u001b[0;34m,\u001b[0m\u001b[0;36m0\u001b[0m\u001b[0;34m]\u001b[0m\u001b[0;34m)\u001b[0m\u001b[0;34m\u001b[0m\u001b[0m\n\u001b[0m",
      "\u001b[0;32m/usr/local/lib/python2.7/site-packages/pandas/core/frame.pyc\u001b[0m in \u001b[0;36m__getitem__\u001b[0;34m(self, key)\u001b[0m\n\u001b[1;32m   2137\u001b[0m             \u001b[0;32mreturn\u001b[0m \u001b[0mself\u001b[0m\u001b[0;34m.\u001b[0m\u001b[0m_getitem_multilevel\u001b[0m\u001b[0;34m(\u001b[0m\u001b[0mkey\u001b[0m\u001b[0;34m)\u001b[0m\u001b[0;34m\u001b[0m\u001b[0m\n\u001b[1;32m   2138\u001b[0m         \u001b[0;32melse\u001b[0m\u001b[0;34m:\u001b[0m\u001b[0;34m\u001b[0m\u001b[0m\n\u001b[0;32m-> 2139\u001b[0;31m             \u001b[0;32mreturn\u001b[0m \u001b[0mself\u001b[0m\u001b[0;34m.\u001b[0m\u001b[0m_getitem_column\u001b[0m\u001b[0;34m(\u001b[0m\u001b[0mkey\u001b[0m\u001b[0;34m)\u001b[0m\u001b[0;34m\u001b[0m\u001b[0m\n\u001b[0m\u001b[1;32m   2140\u001b[0m \u001b[0;34m\u001b[0m\u001b[0m\n\u001b[1;32m   2141\u001b[0m     \u001b[0;32mdef\u001b[0m \u001b[0m_getitem_column\u001b[0m\u001b[0;34m(\u001b[0m\u001b[0mself\u001b[0m\u001b[0;34m,\u001b[0m \u001b[0mkey\u001b[0m\u001b[0;34m)\u001b[0m\u001b[0;34m:\u001b[0m\u001b[0;34m\u001b[0m\u001b[0m\n",
      "\u001b[0;32m/usr/local/lib/python2.7/site-packages/pandas/core/frame.pyc\u001b[0m in \u001b[0;36m_getitem_column\u001b[0;34m(self, key)\u001b[0m\n\u001b[1;32m   2144\u001b[0m         \u001b[0;31m# get column\u001b[0m\u001b[0;34m\u001b[0m\u001b[0;34m\u001b[0m\u001b[0m\n\u001b[1;32m   2145\u001b[0m         \u001b[0;32mif\u001b[0m \u001b[0mself\u001b[0m\u001b[0;34m.\u001b[0m\u001b[0mcolumns\u001b[0m\u001b[0;34m.\u001b[0m\u001b[0mis_unique\u001b[0m\u001b[0;34m:\u001b[0m\u001b[0;34m\u001b[0m\u001b[0m\n\u001b[0;32m-> 2146\u001b[0;31m             \u001b[0;32mreturn\u001b[0m \u001b[0mself\u001b[0m\u001b[0;34m.\u001b[0m\u001b[0m_get_item_cache\u001b[0m\u001b[0;34m(\u001b[0m\u001b[0mkey\u001b[0m\u001b[0;34m)\u001b[0m\u001b[0;34m\u001b[0m\u001b[0m\n\u001b[0m\u001b[1;32m   2147\u001b[0m \u001b[0;34m\u001b[0m\u001b[0m\n\u001b[1;32m   2148\u001b[0m         \u001b[0;31m# duplicate columns & possible reduce dimensionality\u001b[0m\u001b[0;34m\u001b[0m\u001b[0;34m\u001b[0m\u001b[0m\n",
      "\u001b[0;32m/usr/local/lib/python2.7/site-packages/pandas/core/generic.pyc\u001b[0m in \u001b[0;36m_get_item_cache\u001b[0;34m(self, item)\u001b[0m\n\u001b[1;32m   1840\u001b[0m         \u001b[0mres\u001b[0m \u001b[0;34m=\u001b[0m \u001b[0mcache\u001b[0m\u001b[0;34m.\u001b[0m\u001b[0mget\u001b[0m\u001b[0;34m(\u001b[0m\u001b[0mitem\u001b[0m\u001b[0;34m)\u001b[0m\u001b[0;34m\u001b[0m\u001b[0m\n\u001b[1;32m   1841\u001b[0m         \u001b[0;32mif\u001b[0m \u001b[0mres\u001b[0m \u001b[0;32mis\u001b[0m \u001b[0mNone\u001b[0m\u001b[0;34m:\u001b[0m\u001b[0;34m\u001b[0m\u001b[0m\n\u001b[0;32m-> 1842\u001b[0;31m             \u001b[0mvalues\u001b[0m \u001b[0;34m=\u001b[0m \u001b[0mself\u001b[0m\u001b[0;34m.\u001b[0m\u001b[0m_data\u001b[0m\u001b[0;34m.\u001b[0m\u001b[0mget\u001b[0m\u001b[0;34m(\u001b[0m\u001b[0mitem\u001b[0m\u001b[0;34m)\u001b[0m\u001b[0;34m\u001b[0m\u001b[0m\n\u001b[0m\u001b[1;32m   1843\u001b[0m             \u001b[0mres\u001b[0m \u001b[0;34m=\u001b[0m \u001b[0mself\u001b[0m\u001b[0;34m.\u001b[0m\u001b[0m_box_item_values\u001b[0m\u001b[0;34m(\u001b[0m\u001b[0mitem\u001b[0m\u001b[0;34m,\u001b[0m \u001b[0mvalues\u001b[0m\u001b[0;34m)\u001b[0m\u001b[0;34m\u001b[0m\u001b[0m\n\u001b[1;32m   1844\u001b[0m             \u001b[0mcache\u001b[0m\u001b[0;34m[\u001b[0m\u001b[0mitem\u001b[0m\u001b[0;34m]\u001b[0m \u001b[0;34m=\u001b[0m \u001b[0mres\u001b[0m\u001b[0;34m\u001b[0m\u001b[0m\n",
      "\u001b[0;32m/usr/local/lib/python2.7/site-packages/pandas/core/internals.pyc\u001b[0m in \u001b[0;36mget\u001b[0;34m(self, item, fastpath)\u001b[0m\n\u001b[1;32m   3841\u001b[0m \u001b[0;34m\u001b[0m\u001b[0m\n\u001b[1;32m   3842\u001b[0m             \u001b[0;32mif\u001b[0m \u001b[0;32mnot\u001b[0m \u001b[0misna\u001b[0m\u001b[0;34m(\u001b[0m\u001b[0mitem\u001b[0m\u001b[0;34m)\u001b[0m\u001b[0;34m:\u001b[0m\u001b[0;34m\u001b[0m\u001b[0m\n\u001b[0;32m-> 3843\u001b[0;31m                 \u001b[0mloc\u001b[0m \u001b[0;34m=\u001b[0m \u001b[0mself\u001b[0m\u001b[0;34m.\u001b[0m\u001b[0mitems\u001b[0m\u001b[0;34m.\u001b[0m\u001b[0mget_loc\u001b[0m\u001b[0;34m(\u001b[0m\u001b[0mitem\u001b[0m\u001b[0;34m)\u001b[0m\u001b[0;34m\u001b[0m\u001b[0m\n\u001b[0m\u001b[1;32m   3844\u001b[0m             \u001b[0;32melse\u001b[0m\u001b[0;34m:\u001b[0m\u001b[0;34m\u001b[0m\u001b[0m\n\u001b[1;32m   3845\u001b[0m                 \u001b[0mindexer\u001b[0m \u001b[0;34m=\u001b[0m \u001b[0mnp\u001b[0m\u001b[0;34m.\u001b[0m\u001b[0marange\u001b[0m\u001b[0;34m(\u001b[0m\u001b[0mlen\u001b[0m\u001b[0;34m(\u001b[0m\u001b[0mself\u001b[0m\u001b[0;34m.\u001b[0m\u001b[0mitems\u001b[0m\u001b[0;34m)\u001b[0m\u001b[0;34m)\u001b[0m\u001b[0;34m[\u001b[0m\u001b[0misna\u001b[0m\u001b[0;34m(\u001b[0m\u001b[0mself\u001b[0m\u001b[0;34m.\u001b[0m\u001b[0mitems\u001b[0m\u001b[0;34m)\u001b[0m\u001b[0;34m]\u001b[0m\u001b[0;34m\u001b[0m\u001b[0m\n",
      "\u001b[0;32m/usr/local/lib/python2.7/site-packages/pandas/core/indexes/base.pyc\u001b[0m in \u001b[0;36mget_loc\u001b[0;34m(self, key, method, tolerance)\u001b[0m\n\u001b[1;32m   2525\u001b[0m                 \u001b[0;32mreturn\u001b[0m \u001b[0mself\u001b[0m\u001b[0;34m.\u001b[0m\u001b[0m_engine\u001b[0m\u001b[0;34m.\u001b[0m\u001b[0mget_loc\u001b[0m\u001b[0;34m(\u001b[0m\u001b[0mkey\u001b[0m\u001b[0;34m)\u001b[0m\u001b[0;34m\u001b[0m\u001b[0m\n\u001b[1;32m   2526\u001b[0m             \u001b[0;32mexcept\u001b[0m \u001b[0mKeyError\u001b[0m\u001b[0;34m:\u001b[0m\u001b[0;34m\u001b[0m\u001b[0m\n\u001b[0;32m-> 2527\u001b[0;31m                 \u001b[0;32mreturn\u001b[0m \u001b[0mself\u001b[0m\u001b[0;34m.\u001b[0m\u001b[0m_engine\u001b[0m\u001b[0;34m.\u001b[0m\u001b[0mget_loc\u001b[0m\u001b[0;34m(\u001b[0m\u001b[0mself\u001b[0m\u001b[0;34m.\u001b[0m\u001b[0m_maybe_cast_indexer\u001b[0m\u001b[0;34m(\u001b[0m\u001b[0mkey\u001b[0m\u001b[0;34m)\u001b[0m\u001b[0;34m)\u001b[0m\u001b[0;34m\u001b[0m\u001b[0m\n\u001b[0m\u001b[1;32m   2528\u001b[0m \u001b[0;34m\u001b[0m\u001b[0m\n\u001b[1;32m   2529\u001b[0m         \u001b[0mindexer\u001b[0m \u001b[0;34m=\u001b[0m \u001b[0mself\u001b[0m\u001b[0;34m.\u001b[0m\u001b[0mget_indexer\u001b[0m\u001b[0;34m(\u001b[0m\u001b[0;34m[\u001b[0m\u001b[0mkey\u001b[0m\u001b[0;34m]\u001b[0m\u001b[0;34m,\u001b[0m \u001b[0mmethod\u001b[0m\u001b[0;34m=\u001b[0m\u001b[0mmethod\u001b[0m\u001b[0;34m,\u001b[0m \u001b[0mtolerance\u001b[0m\u001b[0;34m=\u001b[0m\u001b[0mtolerance\u001b[0m\u001b[0;34m)\u001b[0m\u001b[0;34m\u001b[0m\u001b[0m\n",
      "\u001b[0;32mpandas/_libs/index.pyx\u001b[0m in \u001b[0;36mpandas._libs.index.IndexEngine.get_loc\u001b[0;34m()\u001b[0m\n",
      "\u001b[0;32mpandas/_libs/index.pyx\u001b[0m in \u001b[0;36mpandas._libs.index.IndexEngine.get_loc\u001b[0;34m()\u001b[0m\n",
      "\u001b[0;31mKeyError\u001b[0m: (0, 0)"
     ]
    }
   ],
   "source": [
    "#It is always possible to convert DataFrame to an array (in spite of the name \"as_matrix\", it's an array)\n",
    "X2 = X.as_matrix()\n",
    "#This allows for accessing by indices, which doesn't work for DataFrame:\n",
    "print(X2[0,0])\n"
   ]
  },
  {
   "cell_type": "code",
   "execution_count": 89,
   "metadata": {},
   "outputs": [
    {
     "data": {
      "text/plain": [
       "pandas.core.series.Series"
      ]
     },
     "execution_count": 89,
     "metadata": {},
     "output_type": "execute_result"
    }
   ],
   "source": [
    "#One index in a DataFrame does work (it returns a Pandas Series:\n",
    "type(X[0])\n",
    "#but what is returned is the column in the DataFrame that has the name 0...not necessarily the first column\n",
    "#A Series is a Pandas 1-dimensional list, like a vector"
   ]
  },
  {
   "cell_type": "code",
   "execution_count": 90,
   "metadata": {},
   "outputs": [
    {
     "data": {
      "text/plain": [
       "0     17.930201\n",
       "1     94.520592\n",
       "2    320.259530\n",
       "Name: 0, dtype: float64"
      ]
     },
     "execution_count": 90,
     "metadata": {},
     "output_type": "execute_result"
    }
   ],
   "source": [
    "#To get a row in a DataFrame:\n",
    "X.iloc[0] # returns the 0th row\n",
    "X.ix[0] #also returns 0th row\n",
    "#What course doesn't mention:\n",
    "#Note that ix is deprecated, and acts like loc (using labels), falls back to position-based indexing\n",
    "#Use iloc"
   ]
  },
  {
   "cell_type": "code",
   "execution_count": 92,
   "metadata": {},
   "outputs": [
    {
     "data": {
      "text/html": [
       "<div>\n",
       "<style scoped>\n",
       "    .dataframe tbody tr th:only-of-type {\n",
       "        vertical-align: middle;\n",
       "    }\n",
       "\n",
       "    .dataframe tbody tr th {\n",
       "        vertical-align: top;\n",
       "    }\n",
       "\n",
       "    .dataframe thead th {\n",
       "        text-align: right;\n",
       "    }\n",
       "</style>\n",
       "<table border=\"1\" class=\"dataframe\">\n",
       "  <thead>\n",
       "    <tr style=\"text-align: right;\">\n",
       "      <th></th>\n",
       "      <th>0</th>\n",
       "      <th>2</th>\n",
       "    </tr>\n",
       "  </thead>\n",
       "  <tbody>\n",
       "    <tr>\n",
       "      <th>0</th>\n",
       "      <td>17.930201</td>\n",
       "      <td>320.259530</td>\n",
       "    </tr>\n",
       "    <tr>\n",
       "      <th>1</th>\n",
       "      <td>97.144697</td>\n",
       "      <td>404.634472</td>\n",
       "    </tr>\n",
       "    <tr>\n",
       "      <th>2</th>\n",
       "      <td>81.775901</td>\n",
       "      <td>181.485108</td>\n",
       "    </tr>\n",
       "    <tr>\n",
       "      <th>3</th>\n",
       "      <td>55.854342</td>\n",
       "      <td>321.773638</td>\n",
       "    </tr>\n",
       "    <tr>\n",
       "      <th>4</th>\n",
       "      <td>49.366550</td>\n",
       "      <td>322.465486</td>\n",
       "    </tr>\n",
       "  </tbody>\n",
       "</table>\n",
       "</div>"
      ],
      "text/plain": [
       "           0           2\n",
       "0  17.930201  320.259530\n",
       "1  97.144697  404.634472\n",
       "2  81.775901  181.485108\n",
       "3  55.854342  321.773638\n",
       "4  49.366550  322.465486"
      ]
     },
     "execution_count": 92,
     "metadata": {},
     "output_type": "execute_result"
    }
   ],
   "source": [
    "#To select 2 columns, use list of indices as argument:\n",
    "X[[0,2]].head()"
   ]
  },
  {
   "cell_type": "code",
   "execution_count": 93,
   "metadata": {},
   "outputs": [
    {
     "data": {
      "text/html": [
       "<div>\n",
       "<style scoped>\n",
       "    .dataframe tbody tr th:only-of-type {\n",
       "        vertical-align: middle;\n",
       "    }\n",
       "\n",
       "    .dataframe tbody tr th {\n",
       "        vertical-align: top;\n",
       "    }\n",
       "\n",
       "    .dataframe thead th {\n",
       "        text-align: right;\n",
       "    }\n",
       "</style>\n",
       "<table border=\"1\" class=\"dataframe\">\n",
       "  <thead>\n",
       "    <tr style=\"text-align: right;\">\n",
       "      <th></th>\n",
       "      <th>0</th>\n",
       "      <th>1</th>\n",
       "      <th>2</th>\n",
       "    </tr>\n",
       "  </thead>\n",
       "  <tbody>\n",
       "    <tr>\n",
       "      <th>5</th>\n",
       "      <td>3.192702</td>\n",
       "      <td>29.256299</td>\n",
       "      <td>94.618811</td>\n",
       "    </tr>\n",
       "    <tr>\n",
       "      <th>44</th>\n",
       "      <td>3.593966</td>\n",
       "      <td>96.252217</td>\n",
       "      <td>293.237183</td>\n",
       "    </tr>\n",
       "    <tr>\n",
       "      <th>54</th>\n",
       "      <td>4.593463</td>\n",
       "      <td>46.335932</td>\n",
       "      <td>145.818745</td>\n",
       "    </tr>\n",
       "    <tr>\n",
       "      <th>90</th>\n",
       "      <td>1.382983</td>\n",
       "      <td>84.944087</td>\n",
       "      <td>252.905653</td>\n",
       "    </tr>\n",
       "    <tr>\n",
       "      <th>99</th>\n",
       "      <td>4.142669</td>\n",
       "      <td>52.254726</td>\n",
       "      <td>168.034401</td>\n",
       "    </tr>\n",
       "  </tbody>\n",
       "</table>\n",
       "</div>"
      ],
      "text/plain": [
       "           0          1           2\n",
       "5   3.192702  29.256299   94.618811\n",
       "44  3.593966  96.252217  293.237183\n",
       "54  4.593463  46.335932  145.818745\n",
       "90  1.382983  84.944087  252.905653\n",
       "99  4.142669  52.254726  168.034401"
      ]
     },
     "execution_count": 93,
     "metadata": {},
     "output_type": "execute_result"
    }
   ],
   "source": [
    "#Brackets can be used with booleans to filter by row\n",
    "#To return all rows where the first column's value is < 5\n",
    "X[ X[0] < 5]"
   ]
  },
  {
   "cell_type": "markdown",
   "metadata": {},
   "source": [
    "### Even more about DataFrames: column names"
   ]
  },
  {
   "cell_type": "code",
   "execution_count": 99,
   "metadata": {},
   "outputs": [
    {
     "name": "stdout",
     "output_type": "stream",
     "text": [
      "<class 'pandas.core.frame.DataFrame'>\n",
      "RangeIndex: 144 entries, 0 to 143\n",
      "Data columns (total 2 columns):\n",
      "Month                                                                             144 non-null object\n",
      "International airline passengers: monthly totals in thousands. Jan 49 ? Dec 60    144 non-null int64\n",
      "dtypes: int64(1), object(1)\n",
      "memory usage: 2.3+ KB\n"
     ]
    },
    {
     "data": {
      "text/html": [
       "<div>\n",
       "<style scoped>\n",
       "    .dataframe tbody tr th:only-of-type {\n",
       "        vertical-align: middle;\n",
       "    }\n",
       "\n",
       "    .dataframe tbody tr th {\n",
       "        vertical-align: top;\n",
       "    }\n",
       "\n",
       "    .dataframe thead th {\n",
       "        text-align: right;\n",
       "    }\n",
       "</style>\n",
       "<table border=\"1\" class=\"dataframe\">\n",
       "  <thead>\n",
       "    <tr style=\"text-align: right;\">\n",
       "      <th></th>\n",
       "      <th>Month</th>\n",
       "      <th>International airline passengers: monthly totals in thousands. Jan 49 ? Dec 60</th>\n",
       "    </tr>\n",
       "  </thead>\n",
       "  <tbody>\n",
       "    <tr>\n",
       "      <th>139</th>\n",
       "      <td>1960-08</td>\n",
       "      <td>606</td>\n",
       "    </tr>\n",
       "    <tr>\n",
       "      <th>140</th>\n",
       "      <td>1960-09</td>\n",
       "      <td>508</td>\n",
       "    </tr>\n",
       "    <tr>\n",
       "      <th>141</th>\n",
       "      <td>1960-10</td>\n",
       "      <td>461</td>\n",
       "    </tr>\n",
       "    <tr>\n",
       "      <th>142</th>\n",
       "      <td>1960-11</td>\n",
       "      <td>390</td>\n",
       "    </tr>\n",
       "    <tr>\n",
       "      <th>143</th>\n",
       "      <td>1960-12</td>\n",
       "      <td>432</td>\n",
       "    </tr>\n",
       "  </tbody>\n",
       "</table>\n",
       "</div>"
      ],
      "text/plain": [
       "       Month  \\\n",
       "139  1960-08   \n",
       "140  1960-09   \n",
       "141  1960-10   \n",
       "142  1960-11   \n",
       "143  1960-12   \n",
       "\n",
       "     International airline passengers: monthly totals in thousands. Jan 49 ? Dec 60  \n",
       "139                                                606                               \n",
       "140                                                508                               \n",
       "141                                                461                               \n",
       "142                                                390                               \n",
       "143                                                432                               "
      ]
     },
     "execution_count": 99,
     "metadata": {},
     "output_type": "execute_result"
    }
   ],
   "source": [
    "os.chdir(\"/Users/dnuttle/Documents/python/DeepLearningPrerequisites/machine_learning_examples/airline\")\n",
    "#The file has three extraneous lines at end that should be skipped\n",
    "#This file has a header so there is no header=None argument)\n",
    "#skipfooter does not work with the \"default engine\" whatever that is, hence engine=\"python\"\n",
    "X = pd.read_csv(\"international-airline-passengers.csv\", engine=\"python\", skipfooter=3)\n",
    "X.info()\n",
    "X.tail()"
   ]
  },
  {
   "cell_type": "code",
   "execution_count": 102,
   "metadata": {},
   "outputs": [
    {
     "name": "stdout",
     "output_type": "stream",
     "text": [
      "Index([u'Month', u'International airline passengers: monthly totals in thousands. Jan 49 ? Dec 60'], dtype='object')\n",
      "Index([u'month', u'passengers'], dtype='object')\n"
     ]
    }
   ],
   "source": [
    "#column names are ugly\n",
    "print(X.columns)\n",
    "#now rename them\n",
    "X.columns =[\"month\", \"passengers\"]\n",
    "print(X.columns)"
   ]
  },
  {
   "cell_type": "code",
   "execution_count": 105,
   "metadata": {},
   "outputs": [
    {
     "data": {
      "text/plain": [
       "0    112\n",
       "1    118\n",
       "2    132\n",
       "3    129\n",
       "4    121\n",
       "Name: passengers, dtype: int64"
      ]
     },
     "execution_count": 105,
     "metadata": {},
     "output_type": "execute_result"
    }
   ],
   "source": [
    "#Now select by name\n",
    "X['passengers'].head()"
   ]
  },
  {
   "cell_type": "code",
   "execution_count": 106,
   "metadata": {},
   "outputs": [
    {
     "data": {
      "text/plain": [
       "0    112\n",
       "1    118\n",
       "2    132\n",
       "3    129\n",
       "4    121\n",
       "Name: passengers, dtype: int64"
      ]
     },
     "execution_count": 106,
     "metadata": {},
     "output_type": "execute_result"
    }
   ],
   "source": [
    "#Or:\n",
    "X.passengers.head()\n",
    "#The above method won't work if column name contains whitespace"
   ]
  },
  {
   "cell_type": "code",
   "execution_count": 108,
   "metadata": {},
   "outputs": [
    {
     "data": {
      "text/html": [
       "<div>\n",
       "<style scoped>\n",
       "    .dataframe tbody tr th:only-of-type {\n",
       "        vertical-align: middle;\n",
       "    }\n",
       "\n",
       "    .dataframe tbody tr th {\n",
       "        vertical-align: top;\n",
       "    }\n",
       "\n",
       "    .dataframe thead th {\n",
       "        text-align: right;\n",
       "    }\n",
       "</style>\n",
       "<table border=\"1\" class=\"dataframe\">\n",
       "  <thead>\n",
       "    <tr style=\"text-align: right;\">\n",
       "      <th></th>\n",
       "      <th>month</th>\n",
       "      <th>passengers</th>\n",
       "      <th>ones</th>\n",
       "    </tr>\n",
       "  </thead>\n",
       "  <tbody>\n",
       "    <tr>\n",
       "      <th>0</th>\n",
       "      <td>1949-01</td>\n",
       "      <td>112</td>\n",
       "      <td>1</td>\n",
       "    </tr>\n",
       "    <tr>\n",
       "      <th>1</th>\n",
       "      <td>1949-02</td>\n",
       "      <td>118</td>\n",
       "      <td>1</td>\n",
       "    </tr>\n",
       "    <tr>\n",
       "      <th>2</th>\n",
       "      <td>1949-03</td>\n",
       "      <td>132</td>\n",
       "      <td>1</td>\n",
       "    </tr>\n",
       "    <tr>\n",
       "      <th>3</th>\n",
       "      <td>1949-04</td>\n",
       "      <td>129</td>\n",
       "      <td>1</td>\n",
       "    </tr>\n",
       "    <tr>\n",
       "      <th>4</th>\n",
       "      <td>1949-05</td>\n",
       "      <td>121</td>\n",
       "      <td>1</td>\n",
       "    </tr>\n",
       "  </tbody>\n",
       "</table>\n",
       "</div>"
      ],
      "text/plain": [
       "     month  passengers  ones\n",
       "0  1949-01         112     1\n",
       "1  1949-02         118     1\n",
       "2  1949-03         132     1\n",
       "3  1949-04         129     1\n",
       "4  1949-05         121     1"
      ]
     },
     "execution_count": 108,
     "metadata": {},
     "output_type": "execute_result"
    }
   ],
   "source": [
    "#Adding a column; for example, a column of bias values of 1\n",
    "X['ones'] = 1\n",
    "X.head()"
   ]
  },
  {
   "cell_type": "markdown",
   "metadata": {},
   "source": [
    "### The apply() function"
   ]
  },
  {
   "cell_type": "code",
   "execution_count": null,
   "metadata": {},
   "outputs": [],
   "source": [
    "#apply function can be useful if we want to add a new column to a df with a new value derived from the row\n",
    "#example, x1*x2\n",
    "#df['x1x2'] = df.apply(lambda row: row['x1'] * row['x2'], axis=1)\n",
    "#axis=1 means apply across row instead of column\n"
   ]
  },
  {
   "cell_type": "code",
   "execution_count": 109,
   "metadata": {},
   "outputs": [
    {
     "data": {
      "text/plain": [
       "datetime.datetime(1949, 5, 1, 0, 0)"
      ]
     },
     "execution_count": 109,
     "metadata": {},
     "output_type": "execute_result"
    }
   ],
   "source": [
    "#convert first row of airline data into date and store it\n",
    "from datetime import datetime\n",
    "#strptime can parse out datetime values, e.g.\n",
    "datetime.strptime(\"1949-05\", \"%Y-%m\")"
   ]
  },
  {
   "cell_type": "code",
   "execution_count": 110,
   "metadata": {},
   "outputs": [
    {
     "data": {
      "text/html": [
       "<div>\n",
       "<style scoped>\n",
       "    .dataframe tbody tr th:only-of-type {\n",
       "        vertical-align: middle;\n",
       "    }\n",
       "\n",
       "    .dataframe tbody tr th {\n",
       "        vertical-align: top;\n",
       "    }\n",
       "\n",
       "    .dataframe thead th {\n",
       "        text-align: right;\n",
       "    }\n",
       "</style>\n",
       "<table border=\"1\" class=\"dataframe\">\n",
       "  <thead>\n",
       "    <tr style=\"text-align: right;\">\n",
       "      <th></th>\n",
       "      <th>month</th>\n",
       "      <th>passengers</th>\n",
       "      <th>ones</th>\n",
       "      <th>dt</th>\n",
       "    </tr>\n",
       "  </thead>\n",
       "  <tbody>\n",
       "    <tr>\n",
       "      <th>0</th>\n",
       "      <td>1949-01</td>\n",
       "      <td>112</td>\n",
       "      <td>1</td>\n",
       "      <td>1949-01-01</td>\n",
       "    </tr>\n",
       "    <tr>\n",
       "      <th>1</th>\n",
       "      <td>1949-02</td>\n",
       "      <td>118</td>\n",
       "      <td>1</td>\n",
       "      <td>1949-02-01</td>\n",
       "    </tr>\n",
       "    <tr>\n",
       "      <th>2</th>\n",
       "      <td>1949-03</td>\n",
       "      <td>132</td>\n",
       "      <td>1</td>\n",
       "      <td>1949-03-01</td>\n",
       "    </tr>\n",
       "    <tr>\n",
       "      <th>3</th>\n",
       "      <td>1949-04</td>\n",
       "      <td>129</td>\n",
       "      <td>1</td>\n",
       "      <td>1949-04-01</td>\n",
       "    </tr>\n",
       "    <tr>\n",
       "      <th>4</th>\n",
       "      <td>1949-05</td>\n",
       "      <td>121</td>\n",
       "      <td>1</td>\n",
       "      <td>1949-05-01</td>\n",
       "    </tr>\n",
       "  </tbody>\n",
       "</table>\n",
       "</div>"
      ],
      "text/plain": [
       "     month  passengers  ones         dt\n",
       "0  1949-01         112     1 1949-01-01\n",
       "1  1949-02         118     1 1949-02-01\n",
       "2  1949-03         132     1 1949-03-01\n",
       "3  1949-04         129     1 1949-04-01\n",
       "4  1949-05         121     1 1949-05-01"
      ]
     },
     "execution_count": 110,
     "metadata": {},
     "output_type": "execute_result"
    }
   ],
   "source": [
    "X['dt'] = X.apply(lambda row: datetime.strptime(row['month'], \"%Y-%m\"), axis=1)\n",
    "X.head()"
   ]
  },
  {
   "cell_type": "markdown",
   "metadata": {},
   "source": [
    "### Joins"
   ]
  },
  {
   "cell_type": "code",
   "execution_count": 113,
   "metadata": {},
   "outputs": [
    {
     "name": "stdout",
     "output_type": "stream",
     "text": [
      "   user_id            email  age\n",
      "0        1  alice@gmail.com   20\n",
      "1        2    bob@gmail.com   25\n",
      "2        3  carol@gmail.com   30\n",
      "    user_id  ad_id  click\n",
      "0         1      1      1\n",
      "1         1      2      0\n",
      "2         1      5      0\n",
      "3         2      3      0\n",
      "4         2      4      1\n",
      "5         2      1      0\n",
      "6         3      2      0\n",
      "7         3      1      0\n",
      "8         3      3      0\n",
      "9         3      4      0\n",
      "10        3      5      1\n"
     ]
    }
   ],
   "source": [
    "os.chdir(\"/Users/dnuttle/Documents/python/DeepLearningPrerequisites/machine_learning_examples/numpy_class\")\n",
    "t1 = pd.read_csv(\"table1.csv\")\n",
    "t2 = pd.read_csv(\"table2.csv\")\n",
    "print(t1)\n",
    "print(t2)"
   ]
  },
  {
   "cell_type": "code",
   "execution_count": 115,
   "metadata": {},
   "outputs": [
    {
     "name": "stdout",
     "output_type": "stream",
     "text": [
      "    user_id            email  age  ad_id  click\n",
      "0         1  alice@gmail.com   20      1      1\n",
      "1         1  alice@gmail.com   20      2      0\n",
      "2         1  alice@gmail.com   20      5      0\n",
      "3         2    bob@gmail.com   25      3      0\n",
      "4         2    bob@gmail.com   25      4      1\n",
      "5         2    bob@gmail.com   25      1      0\n",
      "6         3  carol@gmail.com   30      2      0\n",
      "7         3  carol@gmail.com   30      1      0\n",
      "8         3  carol@gmail.com   30      3      0\n",
      "9         3  carol@gmail.com   30      4      0\n",
      "10        3  carol@gmail.com   30      5      1\n"
     ]
    }
   ],
   "source": [
    "#if no value provided for on, uses the row index\n",
    "m = pd.merge(t1, t2, on=\"user_id\")\n",
    "print(m)\n",
    "#alternative\n",
    "m = t1.merge(t2, on=\"user_id\")"
   ]
  },
  {
   "cell_type": "markdown",
   "metadata": {},
   "source": [
    "## Section 3: Matplotlib\n",
    "### Line chart"
   ]
  },
  {
   "cell_type": "code",
   "execution_count": 117,
   "metadata": {},
   "outputs": [
    {
     "data": {
      "text/plain": [
       "[<matplotlib.lines.Line2D at 0x10d019990>]"
      ]
     },
     "execution_count": 117,
     "metadata": {},
     "output_type": "execute_result"
    },
    {
     "data": {
      "image/png": "[encoded data removed]",
      "text/plain": [
       "<matplotlib.figure.Figure at 0x10cfac810>"
      ]
     },
     "metadata": {},
     "output_type": "display_data"
    }
   ],
   "source": [
    "import matplotlib.pyplot as plt\n",
    "#linspace generates values in a range\n",
    "x = np.linspace(0, 10, 10)\n",
    "y = np.sin(x)\n",
    "plt.plot(x, y)"
   ]
  },
  {
   "cell_type": "code",
   "execution_count": 118,
   "metadata": {},
   "outputs": [
    {
     "data": {
      "text/plain": [
       "Text(0.5,1,u'Chart Title')"
      ]
     },
     "execution_count": 118,
     "metadata": {},
     "output_type": "execute_result"
    },
    {
     "data": {
      "image/png": "[encoded data removed]",
      "text/plain": [
       "<matplotlib.figure.Figure at 0x10cfbee50>"
      ]
     },
     "metadata": {},
     "output_type": "display_data"
    }
   ],
   "source": [
    "plt.plot(x,y)\n",
    "plt.xlabel(\"Time\")\n",
    "plt.ylabel(\"Function of time\")\n",
    "plt.title(\"Chart Title\")"
   ]
  },
  {
   "cell_type": "code",
   "execution_count": 119,
   "metadata": {},
   "outputs": [
    {
     "data": {
      "text/plain": [
       "[<matplotlib.lines.Line2D at 0x10d223650>]"
      ]
     },
     "execution_count": 119,
     "metadata": {},
     "output_type": "execute_result"
    },
    {
     "data": {
      "image/png": "[encoded data removed]",
      "text/plain": [
       "<matplotlib.figure.Figure at 0x10cfac850>"
      ]
     },
     "metadata": {},
     "output_type": "display_data"
    }
   ],
   "source": [
    "x = np.linspace(0, 10, 100)\n",
    "y = np.sin(x)\n",
    "plt.plot(x, y)"
   ]
  },
  {
   "cell_type": "markdown",
   "metadata": {},
   "source": [
    "### Scatterplot"
   ]
  },
  {
   "cell_type": "code",
   "execution_count": 126,
   "metadata": {},
   "outputs": [
    {
     "data": {
      "text/plain": [
       "<matplotlib.collections.PathCollection at 0x10d33e3d0>"
      ]
     },
     "execution_count": 126,
     "metadata": {},
     "output_type": "execute_result"
    },
    {
     "data": {
      "image/png": "[encoded data removed]",
      "text/plain": [
       "<matplotlib.figure.Figure at 0x10d260590>"
      ]
     },
     "metadata": {},
     "output_type": "display_data"
    }
   ],
   "source": [
    "os.chdir(\"/Users/dnuttle/Documents/python/DeepLearningPrerequisites/machine_learning_examples/linear_regression_class\")\n",
    "A = pd.read_csv(\"data_1d.csv\", header=None).as_matrix()\n",
    "x = A[:,0]\n",
    "y = A[:,1]\n",
    "plt.scatter(x, y)\n"
   ]
  },
  {
   "cell_type": "code",
   "execution_count": 130,
   "metadata": {},
   "outputs": [
    {
     "data": {
      "text/plain": [
       "[<matplotlib.lines.Line2D at 0x10d557590>]"
      ]
     },
     "execution_count": 130,
     "metadata": {},
     "output_type": "execute_result"
    },
    {
     "data": {
      "image/png": "[encoded data removed]",
      "text/plain": [
       "<matplotlib.figure.Figure at 0x10d5574d0>"
      ]
     },
     "metadata": {},
     "output_type": "display_data"
    }
   ],
   "source": [
    "x_line = np.linspace(0,100,100)\n",
    "y_line = 2 * x_line + 1\n",
    "plt.scatter(x, y)\n",
    "plt.plot(x_line, y_line)"
   ]
  },
  {
   "cell_type": "markdown",
   "metadata": {},
   "source": [
    "### Histogram"
   ]
  },
  {
   "cell_type": "code",
   "execution_count": 131,
   "metadata": {},
   "outputs": [
    {
     "data": {
      "text/plain": [
       "(array([10.,  9.,  5., 13., 10., 10.,  8., 16., 10.,  9.]),\n",
       " array([ 3.21124861, 12.88597188, 22.56069515, 32.23541842, 41.91014169,\n",
       "        51.58486496, 61.25958823, 70.9343115 , 80.60903477, 90.28375804,\n",
       "        99.95848131]),\n",
       " <a list of 10 Patch objects>)"
      ]
     },
     "execution_count": 131,
     "metadata": {},
     "output_type": "execute_result"
    },
    {
     "data": {
      "image/png": "[encoded data removed]",
      "text/plain": [
       "<matplotlib.figure.Figure at 0x10d64a4d0>"
      ]
     },
     "metadata": {},
     "output_type": "display_data"
    }
   ],
   "source": [
    "plt.hist(x)"
   ]
  },
  {
   "cell_type": "code",
   "execution_count": 135,
   "metadata": {},
   "outputs": [
    {
     "data": {
      "text/plain": [
       "(array([1.000e+00, 7.000e+00, 3.300e+01, 7.900e+01, 1.740e+02, 4.020e+02,\n",
       "        6.290e+02, 1.000e+03, 1.259e+03, 1.475e+03, 1.455e+03, 1.273e+03,\n",
       "        9.480e+02, 6.000e+02, 3.560e+02, 1.720e+02, 8.300e+01, 3.100e+01,\n",
       "        2.000e+01, 3.000e+00]),\n",
       " array([-3.72279504, -3.34984055, -2.97688606, -2.60393157, -2.23097708,\n",
       "        -1.85802259, -1.4850681 , -1.11211361, -0.73915912, -0.36620463,\n",
       "         0.00674986,  0.37970435,  0.75265884,  1.12561332,  1.49856781,\n",
       "         1.8715223 ,  2.24447679,  2.61743128,  2.99038577,  3.36334026,\n",
       "         3.73629475]),\n",
       " <a list of 20 Patch objects>)"
      ]
     },
     "execution_count": 135,
     "metadata": {},
     "output_type": "execute_result"
    },
    {
     "data": {
      "image/png": "[encoded data removed]",
      "text/plain": [
       "<matplotlib.figure.Figure at 0x10d187750>"
      ]
     },
     "metadata": {},
     "output_type": "display_data"
    }
   ],
   "source": [
    "N = np.random.randn(10000)\n",
    "plt.hist(N, bins= 20)"
   ]
  },
  {
   "cell_type": "code",
   "execution_count": 138,
   "metadata": {},
   "outputs": [
    {
     "data": {
      "text/plain": [
       "(array([ 6.,  7., 15., 14., 12., 18., 13.,  7.,  6.,  2.]),\n",
       " array([-9.78834827, -7.57337797, -5.35840768, -3.14343738, -0.92846708,\n",
       "         1.28650321,  3.50147351,  5.7164438 ,  7.9314141 , 10.14638439,\n",
       "        12.36135469]),\n",
       " <a list of 10 Patch objects>)"
      ]
     },
     "execution_count": 138,
     "metadata": {},
     "output_type": "execute_result"
    },
    {
     "data": {
      "image/png": "[encoded data removed]",
      "text/plain": [
       "<matplotlib.figure.Figure at 0x10d891490>"
      ]
     },
     "metadata": {},
     "output_type": "display_data"
    }
   ],
   "source": [
    "#residuals should be normally distributed\n",
    "y_actual = 2 * x + 1 #misnomer if you ask me, this is y_predicted; y is \"y actual\" or observed\n",
    "residuals = y - y_actual\n",
    "plt.hist(residuals)"
   ]
  },
  {
   "cell_type": "markdown",
   "metadata": {},
   "source": [
    "### Plotting images"
   ]
  },
  {
   "cell_type": "code",
   "execution_count": 142,
   "metadata": {},
   "outputs": [
    {
     "data": {
      "text/plain": [
       "(42000, 785)"
      ]
     },
     "execution_count": 142,
     "metadata": {},
     "output_type": "execute_result"
    }
   ],
   "source": [
    "os.chdir(\"/Users/dnuttle/Documents/python/kaggle/digit-recognizer\")\n",
    "df = pd.read_csv(\"train.csv\")\n",
    "df.shape"
   ]
  },
  {
   "cell_type": "code",
   "execution_count": 144,
   "metadata": {},
   "outputs": [
    {
     "data": {
      "text/plain": [
       "(784,)"
      ]
     },
     "execution_count": 144,
     "metadata": {},
     "output_type": "execute_result"
    }
   ],
   "source": [
    "M = df.as_matrix()\n",
    "im = M[0, 1:]\n",
    "im.shape"
   ]
  },
  {
   "cell_type": "code",
   "execution_count": 146,
   "metadata": {},
   "outputs": [
    {
     "data": {
      "text/plain": [
       "<matplotlib.image.AxesImage at 0x10ed61410>"
      ]
     },
     "execution_count": 146,
     "metadata": {},
     "output_type": "execute_result"
    },
    {
     "data": {
      "image/png": "[encoded data removed]",
      "text/plain": [
       "<matplotlib.figure.Figure at 0x10d8c9950>"
      ]
     },
     "metadata": {},
     "output_type": "display_data"
    }
   ],
   "source": [
    "im = im.reshape(28,28)\n",
    "im.shape\n",
    "plt.imshow(im)"
   ]
  },
  {
   "cell_type": "code",
   "execution_count": 148,
   "metadata": {
    "scrolled": true
   },
   "outputs": [
    {
     "data": {
      "text/plain": [
       "<matplotlib.image.AxesImage at 0x10baadc10>"
      ]
     },
     "execution_count": 148,
     "metadata": {},
     "output_type": "execute_result"
    },
    {
     "data": {
      "image/png": "[encoded data removed]",
      "text/plain": [
       "<matplotlib.figure.Figure at 0x10ed60890>"
      ]
     },
     "metadata": {},
     "output_type": "display_data"
    }
   ],
   "source": [
    "#show as grayscale\n",
    "plt.imshow(im, cmap=\"gray\")"
   ]
  },
  {
   "cell_type": "code",
   "execution_count": 174,
   "metadata": {},
   "outputs": [
    {
     "data": {
      "text/plain": [
       "(-0.5, 27.5, 27.5, -0.5)"
      ]
     },
     "execution_count": 174,
     "metadata": {},
     "output_type": "execute_result"
    },
    {
     "data": {
      "image/png": "[encoded data removed]",
      "text/plain": [
       "<matplotlib.figure.Figure at 0x11006a4d0>"
      ]
     },
     "metadata": {},
     "output_type": "display_data"
    }
   ],
   "source": [
    "#show as black on white background\n",
    "plt.rcParams['figure.figsize'] = [1,1]\n",
    "fig, axs = plt.subplots(1,2)\n",
    "plt.subplot(1,2,1)\n",
    "plt.imshow(255 - im, cmap=\"gray\")\n",
    "plt.axis('off')\n",
    "plt.subplot(1,2,2)\n",
    "im2 = M[1,1:].reshape(28,28)\n",
    "plt.imshow(255 - im2, cmap=\"gray\")\n",
    "plt.axis('off')\n"
   ]
  },
  {
   "cell_type": "code",
   "execution_count": 192,
   "metadata": {},
   "outputs": [
    {
     "data": {
      "image/png": "[encoded data removed]",
      "text/plain": [
       "<matplotlib.figure.Figure at 0x10fc24190>"
      ]
     },
     "metadata": {},
     "output_type": "display_data"
    },
    {
     "data": {
      "image/png": "[encoded data removed]",
      "text/plain": [
       "<matplotlib.figure.Figure at 0x1106955d0>"
      ]
     },
     "metadata": {},
     "output_type": "display_data"
    },
    {
     "data": {
      "image/png": "[encoded data removed]",
      "text/plain": [
       "<matplotlib.figure.Figure at 0x110046550>"
      ]
     },
     "metadata": {},
     "output_type": "display_data"
    }
   ],
   "source": [
    "plt.rcParams['figure.figsize'] = [6,2]\n",
    "for i in xrange(0,3):\n",
    "    plt.show()\n",
    "    for j in xrange(0,10):\n",
    "        plt.subplot(i+1,10,j+1)\n",
    "        plt.imshow(255 - M[i*10+j,1:].reshape(28,28), cmap=\"gray\")\n",
    "        plt.axis('off')"
   ]
  },
  {
   "cell_type": "markdown",
   "metadata": {},
   "source": [
    "## Section 4: Scipy\n",
    "### Guassian PDF and CDF"
   ]
  },
  {
   "cell_type": "code",
   "execution_count": 151,
   "metadata": {},
   "outputs": [
    {
     "data": {
      "text/plain": [
       "0.3989422804014327"
      ]
     },
     "execution_count": 151,
     "metadata": {},
     "output_type": "execute_result"
    }
   ],
   "source": [
    "from scipy.stats import norm\n",
    "#prob density of 0 in standard normal distribution\n",
    "norm.pdf(0)"
   ]
  },
  {
   "cell_type": "code",
   "execution_count": 152,
   "metadata": {},
   "outputs": [
    {
     "data": {
      "text/plain": [
       "0.03520653267642995"
      ]
     },
     "execution_count": 152,
     "metadata": {},
     "output_type": "execute_result"
    }
   ],
   "source": [
    "#mean other than zero, var other than 1 (he means sd other than 1)\n",
    "#loc is the mean, scale is the std dev\n",
    "norm.pdf(0, loc=5, scale=10)"
   ]
  },
  {
   "cell_type": "code",
   "execution_count": 153,
   "metadata": {},
   "outputs": [
    {
     "data": {
      "text/plain": [
       "array([0.39385632, 0.09842615, 0.37256975, 0.31669684, 0.37710222,\n",
       "       0.12432399, 0.38636397, 0.33025969, 0.36667772, 0.26550401])"
      ]
     },
     "execution_count": 153,
     "metadata": {},
     "output_type": "execute_result"
    }
   ],
   "source": [
    "#calculate density for several values\n",
    "r = np.random.randn(10)\n",
    "norm.pdf(r)"
   ]
  },
  {
   "cell_type": "code",
   "execution_count": 195,
   "metadata": {},
   "outputs": [
    {
     "data": {
      "text/plain": [
       "array([-0.93176912, -2.31844879, -0.98733102, -1.14981029, -0.975239  ,\n",
       "       -2.08486429, -0.95097542, -1.10787598, -1.00327197, -1.32612535])"
      ]
     },
     "execution_count": 195,
     "metadata": {},
     "output_type": "execute_result"
    }
   ],
   "source": [
    "#log of the probability density function\n",
    "norm.logpdf(r)\n",
    "#norm.logpdf() is same as math.log(norm.pdf())"
   ]
  },
  {
   "cell_type": "code",
   "execution_count": 207,
   "metadata": {},
   "outputs": [
    {
     "name": "stdout",
     "output_type": "stream",
     "text": [
      "4.24814816856e-110\n",
      "4.2481481685591575e-110\n",
      "60\n",
      "60.0\n"
     ]
    }
   ],
   "source": [
    "#Lesson: log(x) + log(y) = x * y, and is faster\n",
    "print(math.exp(norm.logpdf(10) + norm.logpdf(20)))\n",
    "print(norm.pdf(10) * norm.pdf(20))\n",
    "#another example:\n",
    "print(10 * 6)\n",
    "print(math.exp(math.log(10) + math.log(6)))"
   ]
  },
  {
   "cell_type": "code",
   "execution_count": 208,
   "metadata": {},
   "outputs": [
    {
     "data": {
      "text/plain": [
       "array([0.4363653 , 0.95283904, 0.64425083, 0.24840513, 0.36860111,\n",
       "       0.06337552, 0.59991534, 0.73062862, 0.34064966, 0.18341517])"
      ]
     },
     "execution_count": 208,
     "metadata": {},
     "output_type": "execute_result"
    }
   ],
   "source": [
    "#cumulative probability function...he says that the integral is not solvable\n",
    "norm.cdf(r)"
   ]
  },
  {
   "cell_type": "code",
   "execution_count": 209,
   "metadata": {},
   "outputs": [
    {
     "data": {
      "text/plain": [
       "array([-0.82927555, -0.04830928, -0.43966714, -1.39269426, -0.99804022,\n",
       "       -2.75867764, -0.51096673, -0.31384999, -1.07690071, -1.69600302])"
      ]
     },
     "execution_count": 209,
     "metadata": {},
     "output_type": "execute_result"
    }
   ],
   "source": [
    "#and again the log\n",
    "norm.logcdf(r)"
   ]
  },
  {
   "cell_type": "markdown",
   "metadata": {},
   "source": [
    "### Sampling from a Guassian distribution (1-D)"
   ]
  },
  {
   "cell_type": "code",
   "execution_count": 211,
   "metadata": {},
   "outputs": [
    {
     "data": {
      "text/plain": [
       "(array([  1.,   0.,   0.,   1.,   0.,   0.,   0.,   3.,   1.,   3.,   2.,\n",
       "          4.,   3.,   5.,   6.,   8.,   7.,  10.,  20.,  19.,  18.,  31.,\n",
       "         26.,  36.,  43.,  58.,  73.,  66.,  89., 106.,  97., 128., 124.,\n",
       "        146., 136., 160., 194., 206., 201., 226., 275., 262., 296., 320.,\n",
       "        268., 306., 317., 315., 310., 308., 338., 315., 288., 262., 311.,\n",
       "        311., 291., 242., 238., 214., 216., 194., 174., 160., 133., 125.,\n",
       "        134., 121., 111.,  85.,  74.,  58.,  58.,  64.,  42.,  43.,  26.,\n",
       "         27.,  17.,  13.,  18.,  16.,  10.,   4.,   7.,   7.,   2.,   9.,\n",
       "          0.,   1.,   2.,   0.,   1.,   0.,   1.,   1.,   1.,   0.,   0.,\n",
       "          1.]),\n",
       " array([-3.88722625, -3.8084264 , -3.72962654, -3.65082668, -3.57202682,\n",
       "        -3.49322696, -3.41442711, -3.33562725, -3.25682739, -3.17802753,\n",
       "        -3.09922768, -3.02042782, -2.94162796, -2.8628281 , -2.78402825,\n",
       "        -2.70522839, -2.62642853, -2.54762867, -2.46882882, -2.39002896,\n",
       "        -2.3112291 , -2.23242924, -2.15362939, -2.07482953, -1.99602967,\n",
       "        -1.91722981, -1.83842996, -1.7596301 , -1.68083024, -1.60203038,\n",
       "        -1.52323052, -1.44443067, -1.36563081, -1.28683095, -1.20803109,\n",
       "        -1.12923124, -1.05043138, -0.97163152, -0.89283166, -0.81403181,\n",
       "        -0.73523195, -0.65643209, -0.57763223, -0.49883238, -0.42003252,\n",
       "        -0.34123266, -0.2624328 , -0.18363295, -0.10483309, -0.02603323,\n",
       "         0.05276663,  0.13156648,  0.21036634,  0.2891662 ,  0.36796606,\n",
       "         0.44676591,  0.52556577,  0.60436563,  0.68316549,  0.76196535,\n",
       "         0.8407652 ,  0.91956506,  0.99836492,  1.07716478,  1.15596463,\n",
       "         1.23476449,  1.31356435,  1.39236421,  1.47116406,  1.54996392,\n",
       "         1.62876378,  1.70756364,  1.78636349,  1.86516335,  1.94396321,\n",
       "         2.02276307,  2.10156292,  2.18036278,  2.25916264,  2.3379625 ,\n",
       "         2.41676235,  2.49556221,  2.57436207,  2.65316193,  2.73196179,\n",
       "         2.81076164,  2.8895615 ,  2.96836136,  3.04716122,  3.12596107,\n",
       "         3.20476093,  3.28356079,  3.36236065,  3.4411605 ,  3.51996036,\n",
       "         3.59876022,  3.67756008,  3.75635993,  3.83515979,  3.91395965,\n",
       "         3.99275951]),\n",
       " <a list of 100 Patch objects>)"
      ]
     },
     "execution_count": 211,
     "metadata": {},
     "output_type": "execute_result"
    },
    {
     "data": {
      "image/png": "[encoded data removed]",
      "text/plain": [
       "<matplotlib.figure.Figure at 0x110073a50>"
      ]
     },
     "metadata": {},
     "output_type": "display_data"
    }
   ],
   "source": [
    "r = np.random.randn(10000)\n",
    "plt.hist(r, bins=100)"
   ]
  },
  {
   "cell_type": "code",
   "execution_count": 213,
   "metadata": {},
   "outputs": [
    {
     "data": {
      "text/plain": [
       "(array([  3.,   0.,   1.,   1.,   0.,   5.,   3.,   7.,   6.,   4.,   6.,\n",
       "          9.,  11.,  11.,  13.,  25.,  22.,  23.,  31.,  28.,  54.,  44.,\n",
       "         62.,  69.,  84.,  81.,  96.,  98.,  94., 132., 113., 163., 137.,\n",
       "        147., 189., 187., 219., 216., 231., 215., 239., 272., 266., 270.,\n",
       "        255., 310., 296., 309., 291., 298., 267., 281., 271., 259., 269.,\n",
       "        257., 237., 220., 205., 203., 194., 191., 164., 176., 145., 129.,\n",
       "        112.,  95.,  81.,  88.,  69.,  56.,  58.,  48.,  56.,  27.,  39.,\n",
       "         26.,  23.,  17.,  25.,  10.,  13.,   7.,   4.,   5.,   4.,   9.,\n",
       "          5.,   1.,   1.,   1.,   1.,   1.,   2.,   0.,   0.,   0.,   0.,\n",
       "          2.]), array([-29.41895333, -28.69885498, -27.97875663, -27.25865828,\n",
       "        -26.53855993, -25.81846158, -25.09836323, -24.37826488,\n",
       "        -23.65816653, -22.93806818, -22.21796983, -21.49787148,\n",
       "        -20.77777313, -20.05767478, -19.33757643, -18.61747808,\n",
       "        -17.89737973, -17.17728138, -16.45718303, -15.73708468,\n",
       "        -15.01698633, -14.29688798, -13.57678963, -12.85669128,\n",
       "        -12.13659293, -11.41649458, -10.69639623,  -9.97629788,\n",
       "         -9.25619953,  -8.53610118,  -7.81600283,  -7.09590448,\n",
       "         -6.37580613,  -5.65570778,  -4.93560943,  -4.21551108,\n",
       "         -3.49541273,  -2.77531438,  -2.05521603,  -1.33511768,\n",
       "         -0.61501933,   0.10507902,   0.82517737,   1.54527572,\n",
       "          2.26537407,   2.98547242,   3.70557077,   4.42566912,\n",
       "          5.14576747,   5.86586582,   6.58596417,   7.30606252,\n",
       "          8.02616087,   8.74625922,   9.46635757,  10.18645592,\n",
       "         10.90655427,  11.62665262,  12.34675097,  13.06684932,\n",
       "         13.78694767,  14.50704602,  15.22714437,  15.94724272,\n",
       "         16.66734107,  17.38743942,  18.10753777,  18.82763612,\n",
       "         19.54773447,  20.26783282,  20.98793117,  21.70802952,\n",
       "         22.42812787,  23.14822622,  23.86832457,  24.58842293,\n",
       "         25.30852128,  26.02861963,  26.74871798,  27.46881633,\n",
       "         28.18891468,  28.90901303,  29.62911138,  30.34920973,\n",
       "         31.06930808,  31.78940643,  32.50950478,  33.22960313,\n",
       "         33.94970148,  34.66979983,  35.38989818,  36.10999653,\n",
       "         36.83009488,  37.55019323,  38.27029158,  38.99038993,\n",
       "         39.71048828,  40.43058663,  41.15068498,  41.87078333,\n",
       "         42.59088168]), <a list of 100 Patch objects>)"
      ]
     },
     "execution_count": 213,
     "metadata": {},
     "output_type": "execute_result"
    },
    {
     "data": {
      "image/png": "[encoded data removed]",
      "text/plain": [
       "<matplotlib.figure.Figure at 0x1103776d0>"
      ]
     },
     "metadata": {},
     "output_type": "display_data"
    }
   ],
   "source": [
    "#To use custom mean and sd, scale\n",
    "#so let sd=10 and mean=5\n",
    "r = 10 * np.random.randn(10000) + 5\n",
    "plt.hist(r, bins=100)"
   ]
  },
  {
   "cell_type": "markdown",
   "metadata": {},
   "source": [
    "   ### Sampling from a Gaussian disribution (spherical and axis-aligned elliptical)"
   ]
  },
  {
   "cell_type": "code",
   "execution_count": 251,
   "metadata": {},
   "outputs": [
    {
     "name": "stdout",
     "output_type": "stream",
     "text": [
      "[[-1.2220012   0.84223469]\n",
      " [-0.42440082 -0.47985252]\n",
      " [-0.04777481  0.36575275]]\n"
     ]
    },
    {
     "data": {
      "text/plain": [
       "<matplotlib.collections.PathCollection at 0x110117c90>"
      ]
     },
     "execution_count": 251,
     "metadata": {},
     "output_type": "execute_result"
    },
    {
     "data": {
      "image/png": "[encoded data removed]",
      "text/plain": [
       "<matplotlib.figure.Figure at 0x1104b12d0>"
      ]
     },
     "metadata": {},
     "output_type": "display_data"
    }
   ],
   "source": [
    "#Multidimensional Gaussia\n",
    "#For example, 2D Guassian with mean=0 and sd=1 is known as \"spherical\"\n",
    "#because each dimension is uncorrelated and independent of the other\n",
    "r = np.random.randn(10000, 2)\n",
    "print(r[0:3])\n",
    "plt.rcParams['figure.figsize'] = [5,5]\n",
    "plt.scatter(r[:,0], r[:,1])"
   ]
  },
  {
   "cell_type": "code",
   "execution_count": 256,
   "metadata": {},
   "outputs": [
    {
     "data": {
      "text/plain": [
       "(-25, 25)"
      ]
     },
     "execution_count": 256,
     "metadata": {},
     "output_type": "execute_result"
    },
    {
     "data": {
      "image/png": "[encoded data removed]",
      "text/plain": [
       "<matplotlib.figure.Figure at 0x110fc1f90>"
      ]
     },
     "metadata": {},
     "output_type": "display_data"
    }
   ],
   "source": [
    "#elliptical gaussian: different variance for each dimension\n",
    "r2 = r.copy()\n",
    "r2[:,1] = 5 * r[:,1] + 2\n",
    "plt.rcParams['figure.figsize'] = [5,5]\n",
    "plt.scatter(r2[:,0], r2[:,1])\n",
    "plt.xlim(-25, 25)\n",
    "plt.ylim(-25, 25)\n",
    "#calling plt.axis('equal') will scale the axes to be equal"
   ]
  },
  {
   "cell_type": "markdown",
   "metadata": {},
   "source": [
    "### Sampling from a general multivariate normal\n",
    "A general multivariate normal distribution: where the dimensions are not necessarily independent from one another. I think this just means two variables that are correlated, and both are normally distributed."
   ]
  },
  {
   "cell_type": "code",
   "execution_count": 264,
   "metadata": {},
   "outputs": [
    {
     "data": {
      "text/plain": [
       "<matplotlib.collections.PathCollection at 0x111453050>"
      ]
     },
     "execution_count": 264,
     "metadata": {},
     "output_type": "execute_result"
    },
    {
     "data": {
      "image/png": "[encoded data removed]",
      "text/plain": [
       "<matplotlib.figure.Figure at 0x1113ff6d0>"
      ]
     },
     "metadata": {},
     "output_type": "display_data"
    }
   ],
   "source": [
    "from scipy.stats import multivariate_normal as mvn\n",
    "#define a covariance matrix\n",
    "#variance of 1 in the first dimension, variance of 3 in the second,\n",
    "#and covariance betweeen them is 0.8\n",
    "cov = np.array([[1, 0.8], [0.8, 3]])\n",
    "#means are 0 and 2\n",
    "mu = np.array([0,2])\n",
    "#generate random values\n",
    "r = mvn.rvs(mean=mu, cov=cov, size=1000)\n",
    "plt.axis('equal')\n",
    "plt.scatter(r[:,0], r[:,1])\n",
    "#note that there is another method in numpy for this:\n",
    "#np.random.multivariate_normal(mean, cov, size)"
   ]
  },
  {
   "cell_type": "markdown",
   "metadata": {},
   "source": [
    "### Other interesting Scipy functions"
   ]
  },
  {
   "cell_type": "markdown",
   "metadata": {},
   "source": [
    "Just a quick tour of other interesting methods; no examples.\n",
    "#### scipy.io.loadmat \n",
    "Loads a MATLAB file (cool!)\n",
    "#### scipy.io.wavfile.read\n",
    "Loads a wav file as data. This could be an interesting area to explore.\n",
    "#### scipy.signal\n",
    "Has methods for signal convolution.\n",
    "#### Fast Fourier transform\n",
    "Another area to learn about; point is that this, oddly, is in Numpy, not Scipy."
   ]
  },
  {
   "cell_type": "markdown",
   "metadata": {},
   "source": [
    "## Section 6. Exercises\n",
    "### Ex. 1\n",
    "Multiply v and A 25 times. Store the magnitude of the difference of v and v prime and then plot them magnitudes.\n",
    "\n",
    "The point behind this problem has to do with eigenvalues; review later."
   ]
  },
  {
   "cell_type": "code",
   "execution_count": 350,
   "metadata": {},
   "outputs": [
    {
     "name": "stdout",
     "output_type": "stream",
     "text": [
      "[8.16496581e-02 3.74165739e-02 4.89897949e-03 2.24499443e-03\n",
      " 2.93938769e-04 1.34699666e-04 1.76363261e-05 8.08197996e-06\n",
      " 1.05817957e-06 4.84918797e-07 6.34907742e-08 2.90951278e-08\n",
      " 3.80944644e-09 1.74570763e-09 2.28566780e-10 1.04742444e-10\n",
      " 1.37140199e-11 6.28459498e-12 8.22937285e-13 3.77115757e-13\n",
      " 4.93585604e-14 2.26546034e-14 3.01451619e-15 1.36539378e-15\n",
      " 1.35973996e-16]\n"
     ]
    },
    {
     "data": {
      "text/plain": [
       "[<matplotlib.lines.Line2D at 0x1102d57d0>]"
      ]
     },
     "execution_count": 350,
     "metadata": {},
     "output_type": "execute_result"
    },
    {
     "data": {
      "image/png": "[encoded data removed]",
      "text/plain": [
       "<matplotlib.figure.Figure at 0x11167be50>"
      ]
     },
     "metadata": {},
     "output_type": "display_data"
    }
   ],
   "source": [
    "A = np.array([[0.3, 0.6, 0.1],\n",
    "     [0.5, 0.2, 0.3],\n",
    "     [0.4, 0.1, 0.5]])\n",
    "v = np.array([1/3.0, 1/3.0, 1/3.0])\n",
    "\n",
    "pts = np.array([0.0] * 25)\n",
    "for i in xrange(0,25):\n",
    "    vprime = v.dot(A)\n",
    "    #print(vprime)\n",
    "    #print(v)\n",
    "    #print(np.linalg.norm(vprime - v))\n",
    "    pts[i] = np.linalg.norm(vprime - v)\n",
    "    #print(\"=============\")\n",
    "    v = vprime\n",
    "plt.plot(xrange(0, 25), pts)"
   ]
  },
  {
   "cell_type": "code",
   "execution_count": 323,
   "metadata": {},
   "outputs": [
    {
     "name": "stdout",
     "output_type": "stream",
     "text": [
      "[1 2]\n",
      "[[1 2 3]\n",
      " [3 4 5]]\n"
     ]
    },
    {
     "data": {
      "text/plain": [
       "array([ 7, 10, 13])"
      ]
     },
     "execution_count": 323,
     "metadata": {},
     "output_type": "execute_result"
    }
   ],
   "source": [
    "\n",
    "0.3*0.3 + 0.3*0.6 + 0.3*0.1\n",
    "0.3*0.3 + 0.3*0.5 + 0.3*0.4\n",
    "v.dot(A[2])\n",
    "\n",
    "X = np.array([[1,2,3],[3,4,5]])\n",
    "z = np.array([1,2])\n",
    "print(z)\n",
    "print(X)\n",
    "z.dot(X)"
   ]
  },
  {
   "cell_type": "markdown",
   "metadata": {},
   "source": [
    "### Ex. 2. Demonstrate Central Limit Theorem\n",
    "If $Y = X_1 + X_2 + X_3 + \\dots + X_n$, where X are IID, then as n approaches infinity, Y approaches a Gaussian distribution.\n",
    "\n",
    "I can't follow the phrase--what a shock--but this seems to be saying that, as sample size grows, the sampling distribution becomes closer to normal, regardless of the population's distribution."
   ]
  },
  {
   "cell_type": "code",
   "execution_count": 360,
   "metadata": {},
   "outputs": [
    {
     "data": {
      "text/plain": [
       "(array([  3.,   3.,   5.,  14.,  19.,  34.,  47.,  72.,  94., 114., 119.,\n",
       "        113., 105.,  91.,  52.,  52.,  25.,  14.,  18.,   6.]),\n",
       " array([0.47073724, 0.47342867, 0.47612011, 0.47881155, 0.48150298,\n",
       "        0.48419442, 0.48688586, 0.48957729, 0.49226873, 0.49496017,\n",
       "        0.4976516 , 0.50034304, 0.50303448, 0.50572591, 0.50841735,\n",
       "        0.51110879, 0.51380022, 0.51649166, 0.5191831 , 0.52187453,\n",
       "        0.52456597]),\n",
       " <a list of 20 Patch objects>)"
      ]
     },
     "execution_count": 360,
     "metadata": {},
     "output_type": "execute_result"
    },
    {
     "data": {
      "image/png": "[encoded data removed]",
      "text/plain": [
       "<matplotlib.figure.Figure at 0x110323210>"
      ]
     },
     "metadata": {},
     "output_type": "display_data"
    }
   ],
   "source": [
    "from scipy.stats import uniform\n",
    "Y = np.array([0.0]*1000)\n",
    "for i in xrange(0, 1000):\n",
    "    samp = uniform.rvs(size=1000)\n",
    "    Y[i] = np.mean(samp)\n",
    "plt.hist(Y, bins=20)\n",
    "#Expected mean is 0.5\n",
    "#Expected variance: "
   ]
  },
  {
   "cell_type": "markdown",
   "metadata": {},
   "source": [
    "### Ex. 3. Mean image for classes in MNIST\n",
    "Calculate the matrix of average values for each of the ten digit classes."
   ]
  },
  {
   "cell_type": "code",
   "execution_count": 387,
   "metadata": {},
   "outputs": [
    {
     "data": {
      "image/png": "[encoded data removed]",
      "text/plain": [
       "<matplotlib.figure.Figure at 0x1121b0250>"
      ]
     },
     "metadata": {},
     "output_type": "display_data"
    },
    {
     "data": {
      "image/png": "[encoded data removed]",
      "text/plain": [
       "<matplotlib.figure.Figure at 0x1145aea50>"
      ]
     },
     "metadata": {},
     "output_type": "display_data"
    },
    {
     "data": {
      "image/png": "[encoded data removed]",
      "text/plain": [
       "<matplotlib.figure.Figure at 0x114609190>"
      ]
     },
     "metadata": {},
     "output_type": "display_data"
    },
    {
     "data": {
      "image/png": "[encoded data removed]",
      "text/plain": [
       "<matplotlib.figure.Figure at 0x114624a50>"
      ]
     },
     "metadata": {},
     "output_type": "display_data"
    },
    {
     "data": {
      "image/png": "[encoded data removed]",
      "text/plain": [
       "<matplotlib.figure.Figure at 0x11457ab50>"
      ]
     },
     "metadata": {},
     "output_type": "display_data"
    },
    {
     "data": {
      "image/png": "[encoded data removed]",
      "text/plain": [
       "<matplotlib.figure.Figure at 0x1145290d0>"
      ]
     },
     "metadata": {},
     "output_type": "display_data"
    },
    {
     "data": {
      "image/png": "[encoded data removed]",
      "text/plain": [
       "<matplotlib.figure.Figure at 0x1144767d0>"
      ]
     },
     "metadata": {},
     "output_type": "display_data"
    },
    {
     "data": {
      "image/png": "[encoded data removed]",
      "text/plain": [
       "<matplotlib.figure.Figure at 0x110479a90>"
      ]
     },
     "metadata": {},
     "output_type": "display_data"
    },
    {
     "data": {
      "image/png": "[encoded data removed]",
      "text/plain": [
       "<matplotlib.figure.Figure at 0x110fe4a10>"
      ]
     },
     "metadata": {},
     "output_type": "display_data"
    },
    {
     "data": {
      "image/png": "[encoded data removed]",
      "text/plain": [
       "<matplotlib.figure.Figure at 0x110a2d490>"
      ]
     },
     "metadata": {},
     "output_type": "display_data"
    }
   ],
   "source": [
    "imgs = np.array([[0.0] * 28 * 28] * 10)\n",
    "for i in xrange(0,10):\n",
    "    for j in xrange(0,28*28):\n",
    "        m = np.mean(M[M[:,0]==i, j+1])\n",
    "        imgs[i, j] = m\n",
    "for i in xrange(0, 10):\n",
    "    plt.rcParams['figure.figsize'] = [1,1]\n",
    "    plt.imshow(255-imgs[i].reshape(28,28), cmap=\"gray\")\n",
    "    plt.axis('off')\n",
    "    plt.show()"
   ]
  },
  {
   "cell_type": "markdown",
   "metadata": {},
   "source": [
    "### Ex. 4. Flip image 90 degrees"
   ]
  },
  {
   "cell_type": "code",
   "execution_count": 434,
   "metadata": {},
   "outputs": [
    {
     "name": "stdout",
     "output_type": "stream",
     "text": [
      "2018-07-05 15:01:53.391640\n",
      "Took avg of 0.41939 ms\n"
     ]
    },
    {
     "data": {
      "image/png": "[encoded data removed]",
      "text/plain": [
       "<matplotlib.figure.Figure at 0x114856510>"
      ]
     },
     "metadata": {},
     "output_type": "display_data"
    },
    {
     "data": {
      "image/png": "[encoded data removed]",
      "text/plain": [
       "<matplotlib.figure.Figure at 0x11505db10>"
      ]
     },
     "metadata": {},
     "output_type": "display_data"
    }
   ],
   "source": [
    "dt0 = datetime.now()\n",
    "for x in range(0, 100):\n",
    "    im2 = np.copy(im)\n",
    "    for i in xrange(0, 28):\n",
    "        for j in xrange(0, 28):\n",
    "            im2[j, 27-i] = im[i, j]\n",
    "dt1 = datetime.now() - dt0\n",
    "print(\"Took avg of \" + str(dt1.total_seconds()*10) + \" ms\")\n",
    "plt.imshow(255 - im, cmap=\"gray\")\n",
    "plt.show()\n",
    "plt.imshow(255 - im2, cmap=\"gray\")\n",
    "plt.show()"
   ]
  },
  {
   "cell_type": "code",
   "execution_count": 435,
   "metadata": {},
   "outputs": [
    {
     "name": "stdout",
     "output_type": "stream",
     "text": [
      "Took avg of 0.0244 ms\n"
     ]
    },
    {
     "data": {
      "text/plain": [
       "<matplotlib.image.AxesImage at 0x115124a50>"
      ]
     },
     "execution_count": 435,
     "metadata": {},
     "output_type": "execute_result"
    },
    {
     "data": {
      "image/png": "[encoded data removed]",
      "text/plain": [
       "<matplotlib.figure.Figure at 0x114b60c90>"
      ]
     },
     "metadata": {},
     "output_type": "display_data"
    }
   ],
   "source": [
    "dt0 = datetime.now()\n",
    "for i in xrange(0, 100):\n",
    "    im2 = np.rot90(im, k=3)\n",
    "dt1 = datetime.now() - dt0\n",
    "print(\"Took avg of \" + str(dt1.total_seconds()*10) + \" ms\")\n",
    "plt.imshow(255 - im2, cmap=\"gray\")"
   ]
  },
  {
   "cell_type": "markdown",
   "metadata": {},
   "source": [
    "### Ex. 5. Test for matrix symmetry\n",
    "Skipping the manual method; it would be similar to the above, only reflection."
   ]
  },
  {
   "cell_type": "code",
   "execution_count": 441,
   "metadata": {},
   "outputs": [
    {
     "name": "stdout",
     "output_type": "stream",
     "text": [
      "[[1 3]\n",
      " [3 1]]\n",
      "True\n",
      "[[1 4]\n",
      " [3 1]]\n",
      "False\n"
     ]
    }
   ],
   "source": [
    "def is_symmetric(matrix):\n",
    "    return np.allclose(matrix, matrix.T, atol=1e-8)\n",
    "A = np.array([[1,3],[3,1]])\n",
    "print(A)\n",
    "print(is_symmetric(A))\n",
    "B = np.array([[1,4],[3,1]])\n",
    "print(B)\n",
    "print(is_symmetric(B))"
   ]
  },
  {
   "cell_type": "markdown",
   "metadata": {},
   "source": [
    "### Ex. 6. Generate and plot dataset"
   ]
  },
  {
   "cell_type": "code",
   "execution_count": 458,
   "metadata": {},
   "outputs": [
    {
     "data": {
      "text/plain": [
       "<matplotlib.collections.PathCollection at 0x1141e4190>"
      ]
     },
     "execution_count": 458,
     "metadata": {},
     "output_type": "execute_result"
    },
    {
     "data": {
      "image/png": "[encoded data removed]",
      "text/plain": [
       "<matplotlib.figure.Figure at 0x1145b8310>"
      ]
     },
     "metadata": {},
     "output_type": "display_data"
    }
   ],
   "source": [
    "datax = np.random.uniform(low=-1, high=1, size=500)\n",
    "datay = np.random.uniform(low=-1, high=1, size=500)\n",
    "col = np.array([\"b\"] * 500)\n",
    "for i in xrange(0, 500):\n",
    "    if datax[i] < 0 and datay[i] > 0:\n",
    "        col[i] = \"r\"\n",
    "    if datax[i] > 0 and datay[i] < 0:\n",
    "        col[i] = \"r\"\n",
    "plt.rcParams['figure.figsize'] = [5,5]\n",
    "plt.scatter(datax, datay, c=col)"
   ]
  },
  {
   "cell_type": "markdown",
   "metadata": {},
   "source": [
    "### Ex. 7. Generate and plot dataset\n",
    "Concentric circles"
   ]
  },
  {
   "cell_type": "code",
   "execution_count": null,
   "metadata": {},
   "outputs": [],
   "source": [
    "r = np.random.randn()"
   ]
  }
 ],
 "metadata": {
  "kernelspec": {
   "display_name": "Python 2",
   "language": "python",
   "name": "python2"
  },
  "language_info": {
   "codemirror_mode": {
    "name": "ipython",
    "version": 2
   },
   "file_extension": ".py",
   "mimetype": "text/x-python",
   "name": "python",
   "nbconvert_exporter": "python",
   "pygments_lexer": "ipython2",
   "version": "2.7.13"
  }
 },
 "nbformat": 4,
 "nbformat_minor": 2
}
