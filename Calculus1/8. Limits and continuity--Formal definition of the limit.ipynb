{
 "cells": [
  {
   "cell_type": "code",
   "execution_count": 19,
   "metadata": {},
   "outputs": [
    {
     "data": {
      "text/html": [
       "\n",
       "<style>\n",
       ".MathJax_Display {\n",
       "  text-align: left !important;\n",
       "  background-color: #FFF5EE;\n",
       "  padding: 3px 3px 3px 15px;\n",
       "  margin-left: 35px;\n",
       "  margin-right: 35px;\n",
       "  width: auto !important;\n",
       "}\n",
       ".MathJax_Display span {\n",
       "  text-align: left !important;\n",
       "}\n",
       "p {\n",
       "  font-size: 12pt;\n",
       "}\n",
       "</style>\n"
      ],
      "text/plain": [
       "<IPython.core.display.HTML object>"
      ]
     },
     "execution_count": 19,
     "metadata": {},
     "output_type": "execute_result"
    }
   ],
   "source": [
    "from IPython.core.display import HTML\n",
    "HTML(\"\"\"\n",
    "<style>\n",
    ".MathJax_Display {\n",
    "  text-align: left !important;\n",
    "  background-color: #FFF5EE;\n",
    "  padding: 3px 3px 3px 15px;\n",
    "  margin-left: 35px;\n",
    "  margin-right: 35px;\n",
    "  width: auto !important;\n",
    "}\n",
    ".MathJax_Display span {\n",
    "  text-align: left !important;\n",
    "}\n",
    "p {\n",
    "  font-size: 12pt;\n",
    "}\n",
    "</style>\n",
    "\"\"\")"
   ]
  },
  {
   "cell_type": "markdown",
   "metadata": {},
   "source": [
    "\n",
    "### Precise definition of the limit\n",
    "\n",
    "The limit\n",
    "\n",
    "$$\\lim_{x\\to a} f(x) = L$$\n",
    "\n",
    "If for every number $\\epsilon > 0$ there is some number $\\delta > 0$ such that\n",
    "\n",
    "$|f(x) - L| < \\epsilon$ whenever $|x - a| < \\delta$\n",
    "\n",
    "### Workbook\n",
    "\n",
    "#### 1.\n",
    "\n",
    "Find the limit.\n",
    "$$\\lim_{x\\to -7} x^2\\sqrt{x+7}$$\n",
    "\n",
    "The plugin method works.\n",
    "\n",
    "$$\\lim_{x\\to -7} x^2 \\sqrt{x+7} = (-7)^2 \\sqrt{0} = 0$$\n",
    "\n",
    "### 2.\n",
    "\n",
    "The graph if $f(x)$ is shown. What does the graph show about the value of $\\lim_{x\\to -1^{+}} f(x)$?\n",
    "\n",
    "(The graph is a horizontal line at y=1 from $-\\infty$ to -1, where there is a hole, and a quadratic function from $-1$ on, with a point at $(-1, -2)$ and a vertex at $(0, -3)$).\n",
    "\n",
    "The limit at -1, approaching from the right, is -2.\n",
    "\n",
    "### 3.\n",
    "\n",
    "The table shows values of $k(x)$. What is $\\lim_{x\\to -5^{-}} k(x)$?\n",
    "\n",
    "|x   |-5.1  |-5.01|-5.001 |-5|-4.999|-4.9|-----|\n",
    "|----|------|-----|-------|--|------|----|-----|\n",
    "|k(x)|-392.1|-3812|-38,012|? |37,988|3788|368.1|\n",
    "\n",
    "\n",
    "The obvious, and apparently intended answer, is 38,000. However it is possible that it would be some other value.\n",
    "\n",
    "### 4.\n",
    "\n",
    "What is $\\lim_{x\\to -2^{-}} h(x)$?\n",
    "\n",
    "$h(x) = \n",
    "\\begin{array}{cc}\n",
    "  \\{ & \n",
    "    \\begin{array}{cc}\n",
    "      -2x-1 & x\\le -2 \\\\\n",
    "      x & -2\\leq x\\leq 2 \\\\\n",
    "      0 & 100\\leq x\n",
    "    \\end{array}\n",
    "\\end{array}\n",
    "$"
   ]
  },
  {
   "cell_type": "markdown",
   "metadata": {},
   "source": [
    "The limit is $3$.\n",
    "\n",
    "### 5. \n",
    "What is $\\lim_{x\\to 6^{+}} g(x)$?\n",
    "\n",
    "$$\\lim_{x\\to 6^{+}} \\frac{x^2+x-42}{x-6}$$\n",
    "$$\\lim_{x\\to 6^{+}} \\frac{(x-6)(x+7)}{x-6}$$\n",
    "$$\\lim_{x\\to 6^{+}} x+7 = 13$$\n"
   ]
  }
 ],
 "metadata": {
  "kernelspec": {
   "display_name": "Python 2",
   "language": "python",
   "name": "python2"
  },
  "language_info": {
   "codemirror_mode": {
    "name": "ipython",
    "version": 2
   },
   "file_extension": ".py",
   "mimetype": "text/x-python",
   "name": "python",
   "nbconvert_exporter": "python",
   "pygments_lexer": "ipython2",
   "version": "2.7.13"
  }
 },
 "nbformat": 4,
 "nbformat_minor": 2
}
