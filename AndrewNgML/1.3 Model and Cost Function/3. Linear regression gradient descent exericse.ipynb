{
 "cells": [
  {
   "cell_type": "code",
   "execution_count": 283,
   "metadata": {},
   "outputs": [
    {
     "name": "stdout",
     "output_type": "stream",
     "text": [
      "Total error: 0.019233006363776898\n",
      "MSE: 0.000192330063637769\n",
      "[0.015084122123766521, 1.0001716469348818]\n",
      "steps: 32\n",
      "final alpha: 0.0001\n",
      "32\n"
     ]
    },
    {
     "data": {
      "image/png": "[encoded data removed]",
      "text/plain": [
       "<matplotlib.figure.Figure at 0x1069a0310>"
      ]
     },
     "metadata": {},
     "output_type": "display_data"
    }
   ],
   "source": [
    "import numpy as np\n",
    "import matplotlib.pyplot as plt\n",
    "def hypothesis(x, theta):\n",
    "    return theta[1] * x + theta[0]\n",
    "def costfunc(x, y, theta):\n",
    "    return np.sum((y - hypothesis(x, theta))**2)\n",
    "#partial derivative of theta_0\n",
    "def dcostfunc0(x, y, theta):\n",
    "    m = x.shape[0]\n",
    "    return (1./m) * np.sum(hypothesis(x, theta) - y)\n",
    "#partial derivative of theta_1\n",
    "def dcostfunc1(x, y, theta):\n",
    "    m = x.shape[0]\n",
    "    return (1./m) * np.sum((hypothesis(x, theta) - y) * x)\n",
    "def adjust(x, y, theta, alpha):\n",
    "    tmp0 = theta[0] - alpha * dcostfunc0(x, y, theta)\n",
    "    tmp1 = theta[1] - alpha * dcostfunc1(x, y, theta)\n",
    "    return [tmp0, tmp1]\n",
    "x = np.array(np.arange(0,100))\n",
    "y = np.array(np.arange(0,100))\n",
    "noise = np.random.randint(0, 50, (100))/1000.\n",
    "y = y + noise\n",
    "theta = [0, 0]\n",
    "alpha = 0.0001\n",
    "\n",
    "count = 0\n",
    "c = costfunc(x, y, theta)\n",
    "prev = c\n",
    "alphafactor = 0.95\n",
    "costs = []\n",
    "while (count < 10000):\n",
    "    theta = adjust(x, y, theta, alpha)\n",
    "    c = costfunc(x, y, theta)\n",
    "    if np.abs(prev - c) / prev < 1e-4:\n",
    "        break\n",
    "    #else:\n",
    "    #    print([c, prev, alpha])\n",
    "    if (c > prev):\n",
    "        alpha = alpha * alphafactor\n",
    "        alphafactor = alphafactor * 0.6\n",
    "    #    print(np.abs(prev - c) / c)\n",
    "    prev = c\n",
    "    costs.append(c)\n",
    "    #print(\"cost\", c)\n",
    "    count += 1\n",
    "#for i in range(0,1500):\n",
    "#  theta = adjust(x, y, theta, alpha)\n",
    "totalerr = costfunc(x, y, theta)\n",
    "print(\"Total error: \" + str(totalerr))\n",
    "print(\"MSE: \" + str(totalerr / x.shape[0]))\n",
    "\n",
    "print(theta)\n",
    "print(\"steps: \" + str(count))\n",
    "print(\"final alpha: \" + str(alpha))\n",
    "print(len(costs))\n",
    "plt.plot(np.arange(0, len(costs)), costs)\n",
    "plt.show()"
   ]
  },
  {
   "cell_type": "code",
   "execution_count": 284,
   "metadata": {},
   "outputs": [
    {
     "name": "stdout",
     "output_type": "stream",
     "text": [
      "slope: 1.0000837743774373\n",
      "intercept: 0.02104316831684372\n"
     ]
    }
   ],
   "source": [
    "#([(x - (0.99977535408*x + 0.0149473903))**2 for x in np.arange(1,100)])\n",
    "xy_bar = np.mean(x*y)\n",
    "x_bar = np.mean(x)\n",
    "y_bar = np.mean(y)\n",
    "x2_bar = np.mean(x*x)\n",
    "x_bar2 = x_bar**2\n",
    "m = (xy_bar - x_bar * y_bar) / (x2_bar - x_bar2)\n",
    "a = y_bar - m * x_bar\n",
    "print(\"slope: \" + str(m))\n",
    "print(\"intercept: \" + str(a))\n"
   ]
  },
  {
   "cell_type": "code",
   "execution_count": 287,
   "metadata": {},
   "outputs": [
    {
     "name": "stdout",
     "output_type": "stream",
     "text": [
      "[0.02104317 1.00008377]\n"
     ]
    }
   ],
   "source": [
    "#Use (X'X)^-1 X'y\n",
    "def getWeights(x, y):\n",
    "    x = x.reshape(x.shape[0], 1)\n",
    "    xones = np.ones(x.shape[0]).reshape(x.shape[0], 1)\n",
    "    x = np.hstack((xones, x))\n",
    "    return np.linalg.inv(x.T.dot(x)).dot(x.T).dot(y)\n",
    "print getWeights(x, y)"
   ]
  },
  {
   "cell_type": "code",
   "execution_count": 282,
   "metadata": {},
   "outputs": [
    {
     "name": "stdout",
     "output_type": "stream",
     "text": [
      "[[4 5 6 7]\n",
      " [3 4 8 7]\n",
      " [3 1 3 2]\n",
      " [4 3 7 8]]\n",
      "[[1]\n",
      " [2]\n",
      " [3]\n",
      " [4]]\n",
      "[[ 0.93406593]\n",
      " [-1.23076923]\n",
      " [ 0.35164835]\n",
      " [ 0.18681319]]\n"
     ]
    }
   ],
   "source": [
    "b = np.array([1,2,3,4]).reshape(4,1)\n",
    "A = np.array([[4,5,6,7],[3,4,8,7],[3,1,3,2],[4,3,7,8]])\n",
    "print (A)\n",
    "print(b)\n",
    "x1 = np.linalg.solve(A,b).reshape(4,1)\n",
    "print(x1)\n",
    "#print (A.dot(x1))\n"
   ]
  },
  {
   "cell_type": "code",
   "execution_count": 291,
   "metadata": {},
   "outputs": [
    {
     "name": "stdout",
     "output_type": "stream",
     "text": [
      "[[0.1 0.1]\n",
      " [0.2 0.2]]\n"
     ]
    },
    {
     "ename": "LinAlgError",
     "evalue": "Singular matrix",
     "output_type": "error",
     "traceback": [
      "\u001b[0;31m---------------------------------------------------------------------------\u001b[0m",
      "\u001b[0;31mLinAlgError\u001b[0m                               Traceback (most recent call last)",
      "\u001b[0;32m<ipython-input-291-63a68f340803>\u001b[0m in \u001b[0;36m<module>\u001b[0;34m()\u001b[0m\n\u001b[1;32m      3\u001b[0m \u001b[0;31m#pseudo-inverse always gives answer\u001b[0m\u001b[0;34m\u001b[0m\u001b[0;34m\u001b[0m\u001b[0m\n\u001b[1;32m      4\u001b[0m \u001b[0;32mprint\u001b[0m\u001b[0;34m(\u001b[0m\u001b[0mnp\u001b[0m\u001b[0;34m.\u001b[0m\u001b[0mlinalg\u001b[0m\u001b[0;34m.\u001b[0m\u001b[0mpinv\u001b[0m\u001b[0;34m(\u001b[0m\u001b[0mA\u001b[0m\u001b[0;34m)\u001b[0m\u001b[0;34m)\u001b[0m\u001b[0;34m\u001b[0m\u001b[0m\n\u001b[0;32m----> 5\u001b[0;31m \u001b[0mnp\u001b[0m\u001b[0;34m.\u001b[0m\u001b[0mlinalg\u001b[0m\u001b[0;34m.\u001b[0m\u001b[0minv\u001b[0m\u001b[0;34m(\u001b[0m\u001b[0mA\u001b[0m\u001b[0;34m)\u001b[0m\u001b[0;34m\u001b[0m\u001b[0m\n\u001b[0m",
      "\u001b[0;32m/usr/local/lib/python2.7/site-packages/numpy/linalg/linalg.pyc\u001b[0m in \u001b[0;36minv\u001b[0;34m(a)\u001b[0m\n\u001b[1;32m    526\u001b[0m     \u001b[0msignature\u001b[0m \u001b[0;34m=\u001b[0m \u001b[0;34m'D->D'\u001b[0m \u001b[0;32mif\u001b[0m \u001b[0misComplexType\u001b[0m\u001b[0;34m(\u001b[0m\u001b[0mt\u001b[0m\u001b[0;34m)\u001b[0m \u001b[0;32melse\u001b[0m \u001b[0;34m'd->d'\u001b[0m\u001b[0;34m\u001b[0m\u001b[0m\n\u001b[1;32m    527\u001b[0m     \u001b[0mextobj\u001b[0m \u001b[0;34m=\u001b[0m \u001b[0mget_linalg_error_extobj\u001b[0m\u001b[0;34m(\u001b[0m\u001b[0m_raise_linalgerror_singular\u001b[0m\u001b[0;34m)\u001b[0m\u001b[0;34m\u001b[0m\u001b[0m\n\u001b[0;32m--> 528\u001b[0;31m     \u001b[0mainv\u001b[0m \u001b[0;34m=\u001b[0m \u001b[0m_umath_linalg\u001b[0m\u001b[0;34m.\u001b[0m\u001b[0minv\u001b[0m\u001b[0;34m(\u001b[0m\u001b[0ma\u001b[0m\u001b[0;34m,\u001b[0m \u001b[0msignature\u001b[0m\u001b[0;34m=\u001b[0m\u001b[0msignature\u001b[0m\u001b[0;34m,\u001b[0m \u001b[0mextobj\u001b[0m\u001b[0;34m=\u001b[0m\u001b[0mextobj\u001b[0m\u001b[0;34m)\u001b[0m\u001b[0;34m\u001b[0m\u001b[0m\n\u001b[0m\u001b[1;32m    529\u001b[0m     \u001b[0;32mreturn\u001b[0m \u001b[0mwrap\u001b[0m\u001b[0;34m(\u001b[0m\u001b[0mainv\u001b[0m\u001b[0;34m.\u001b[0m\u001b[0mastype\u001b[0m\u001b[0;34m(\u001b[0m\u001b[0mresult_t\u001b[0m\u001b[0;34m,\u001b[0m \u001b[0mcopy\u001b[0m\u001b[0;34m=\u001b[0m\u001b[0mFalse\u001b[0m\u001b[0;34m)\u001b[0m\u001b[0;34m)\u001b[0m\u001b[0;34m\u001b[0m\u001b[0m\n\u001b[1;32m    530\u001b[0m \u001b[0;34m\u001b[0m\u001b[0m\n",
      "\u001b[0;32m/usr/local/lib/python2.7/site-packages/numpy/linalg/linalg.pyc\u001b[0m in \u001b[0;36m_raise_linalgerror_singular\u001b[0;34m(err, flag)\u001b[0m\n\u001b[1;32m     87\u001b[0m \u001b[0;34m\u001b[0m\u001b[0m\n\u001b[1;32m     88\u001b[0m \u001b[0;32mdef\u001b[0m \u001b[0m_raise_linalgerror_singular\u001b[0m\u001b[0;34m(\u001b[0m\u001b[0merr\u001b[0m\u001b[0;34m,\u001b[0m \u001b[0mflag\u001b[0m\u001b[0;34m)\u001b[0m\u001b[0;34m:\u001b[0m\u001b[0;34m\u001b[0m\u001b[0m\n\u001b[0;32m---> 89\u001b[0;31m     \u001b[0;32mraise\u001b[0m \u001b[0mLinAlgError\u001b[0m\u001b[0;34m(\u001b[0m\u001b[0;34m\"Singular matrix\"\u001b[0m\u001b[0;34m)\u001b[0m\u001b[0;34m\u001b[0m\u001b[0m\n\u001b[0m\u001b[1;32m     90\u001b[0m \u001b[0;34m\u001b[0m\u001b[0m\n\u001b[1;32m     91\u001b[0m \u001b[0;32mdef\u001b[0m \u001b[0m_raise_linalgerror_nonposdef\u001b[0m\u001b[0;34m(\u001b[0m\u001b[0merr\u001b[0m\u001b[0;34m,\u001b[0m \u001b[0mflag\u001b[0m\u001b[0;34m)\u001b[0m\u001b[0;34m:\u001b[0m\u001b[0;34m\u001b[0m\u001b[0m\n",
      "\u001b[0;31mLinAlgError\u001b[0m: Singular matrix"
     ]
    }
   ],
   "source": [
    "#Example of noninvertible matrix\n",
    "A = np.array([[1, 2], [1, 2]])\n",
    "#pseudo-inverse always gives answer\n",
    "print(np.linalg.pinv(A))\n",
    "#but inverse will report \"singular matrix\"\n",
    "np.linalg.inv(A)"
   ]
  },
  {
   "cell_type": "markdown",
   "metadata": {},
   "source": [
    "Open questions: \n",
    "\n",
    "- How to determine a good (or optimal?) value for alpha\n",
    "- Generalize the derivatative function for any member of theta\n",
    "- Adapt to use samples of entire data set; so generate very large data set with some noise and then sample from it\n",
    "  - Proper methodology? Sample size? Use several samples each time and do averages? How does this work?\n",
    "- Turn x into 2-d matrix with 1's in the first column, adjust functions accordingly"
   ]
  }
 ],
 "metadata": {
  "kernelspec": {
   "display_name": "Python 2",
   "language": "python",
   "name": "python2"
  },
  "language_info": {
   "codemirror_mode": {
    "name": "ipython",
    "version": 2
   },
   "file_extension": ".py",
   "mimetype": "text/x-python",
   "name": "python",
   "nbconvert_exporter": "python",
   "pygments_lexer": "ipython2",
   "version": "2.7.13"
  }
 },
 "nbformat": 4,
 "nbformat_minor": 2
}
