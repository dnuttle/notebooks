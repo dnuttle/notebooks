{
 "cells": [
  {
   "cell_type": "markdown",
   "metadata": {},
   "source": [
    "# 1001 Calculus Problems Chapter 1"
   ]
  },
  {
   "cell_type": "code",
   "execution_count": 1,
   "metadata": {},
   "outputs": [],
   "source": [
    "%matplotlib inline\n",
    "\n",
    "import matplotlib\n",
    "import numpy as np\n",
    "import matplotlib.pyplot as plt"
   ]
  },
  {
   "cell_type": "code",
   "execution_count": 2,
   "metadata": {},
   "outputs": [
    {
     "data": {
      "text/html": [
       "<style>\n",
       ".MathJax_Display {\n",
       "    text-align: left !important;\n",
       "    font-size: 12pt;\n",
       "    padding-bottom: 6px;\n",
       "}\n",
       "</style>"
      ],
      "text/plain": [
       "<IPython.core.display.HTML object>"
      ]
     },
     "metadata": {},
     "output_type": "display_data"
    }
   ],
   "source": [
    "%%html\n",
    "<style>\n",
    ".MathJax_Display {\n",
    "    text-align: left !important;\n",
    "    font-size: 12pt;\n",
    "    padding-bottom: 6px;\n",
    "}\n",
    "</style>"
   ]
  },
  {
   "cell_type": "code",
   "execution_count": 107,
   "metadata": {},
   "outputs": [
    {
     "data": {
      "text/html": [
       "\n",
       "<script src=\"processing.min.js\"></script>\n",
       "<script>\n",
       "    var processingCode = `\n",
       "void setup() {\n",
       "    size(250,250);\n",
       "}\n",
       "void draw() {\n",
       "    ellipse(100,100,100,100);\n",
       "}\n",
       "`;\n",
       "    var myCanvas = document.getElementById(\"canvas1\");\n",
       "    var jsCode = Processing.compile(processingCode);\n",
       "    var processingInstance = new Processing(myCanvas, jsCode);\n",
       "</script>\n",
       "<canvas id=\"canvas1\"></canvas>\n",
       "    "
      ],
      "text/plain": [
       "<IPython.core.display.HTML object>"
      ]
     },
     "execution_count": 107,
     "metadata": {},
     "output_type": "execute_result"
    }
   ],
   "source": [
    "#Example of using Processing in a Jupyter notebook\n",
    "#May be useful for drawing geometric objects\n",
    "#Note that the processing.js file must go in same folder as the notebook file unless you specify relative path\n",
    "from IPython.display import HTML\n",
    "def html_templ(cid):\n",
    "    ret = \"\"\"\n",
    "<script src=\"processing.min.js\"></script>\n",
    "<script>\n",
    "    var processingCode = `{}`;\n",
    "    var myCanvas = document.getElementById(\"CANVASID\");\n",
    "    var jsCode = Processing.compile(processingCode);\n",
    "    var processingInstance = new Processing(myCanvas, jsCode);\n",
    "</script>\n",
    "<canvas id=\"CANVASID\"></canvas>\n",
    "    \"\"\"\n",
    "    ret = ret.replace(\"CANVASID\", cid);\n",
    "    return ret;\n",
    "processing_code=\"\"\"\n",
    "void setup() {\n",
    "    size(250,250);\n",
    "}\n",
    "void draw() {\n",
    "    ellipse(100,100,100,100);\n",
    "}\n",
    "\"\"\"\n",
    "HTML(html_templ(\"canvas1\").format(processing_code))"
   ]
  },
  {
   "cell_type": "code",
   "execution_count": 2,
   "metadata": {},
   "outputs": [
    {
     "data": {
      "text/html": [
       "\n",
       "<script src=\"processing.min.js\"></script>\n",
       "<script>\n",
       "    var processingCode = `\n",
       "void setup() {\n",
       "    size(980,250);\n",
       "}\n",
       "void draw() {\n",
       "    ellipse(300,125,160,160);\n",
       "}\n",
       "`;\n",
       "    var myCanvas = document.getElementById(\"canvas2\");\n",
       "    var jsCode = Processing.compile(processingCode);\n",
       "    var processingInstance = new Processing(myCanvas, jsCode);\n",
       "</script>\n",
       "<canvas id=\"canvas2\"></canvas>\n",
       "    "
      ],
      "text/plain": [
       "<IPython.core.display.HTML object>"
      ]
     },
     "execution_count": 2,
     "metadata": {},
     "output_type": "execute_result"
    }
   ],
   "source": [
    "#For each subsequent Processing, just define the code and use a new canvas ID\n",
    "processing_code=\"\"\"\n",
    "void setup() {\n",
    "    size(980,250);\n",
    "}\n",
    "void draw() {\n",
    "    ellipse(300,125,160,160);\n",
    "}\n",
    "\"\"\"\n",
    "#HTML(html_templ(\"canvas2\").format(processing_code))"
   ]
  },
  {
   "cell_type": "code",
   "execution_count": 15,
   "metadata": {},
   "outputs": [],
   "source": [
    "%matplotlib inline\n",
    "\n",
    "import matplotlib\n",
    "import numpy as np\n",
    "import matplotlib.pyplot as plt"
   ]
  },
  {
   "cell_type": "markdown",
   "metadata": {},
   "source": [
    "### 1. $\\frac{1}{2}+\\frac{3}{4}-\\frac{5}{6}$\n",
    "$$= \\frac{6}{12}+\\frac{9}{12}-\\frac{10}{12}=\\frac{5}{12}$$"
   ]
  },
  {
   "cell_type": "code",
   "execution_count": 4,
   "metadata": {},
   "outputs": [
    {
     "data": {
      "text/plain": [
       "True"
      ]
     },
     "execution_count": 4,
     "metadata": {},
     "output_type": "execute_result"
    }
   ],
   "source": [
    "round((1.0/2.0) + (3.0/4.0) - (5.0/6.0), 5) == round(5.0/12.0, 5)"
   ]
  },
  {
   "cell_type": "markdown",
   "metadata": {},
   "source": [
    "### 2. $\\frac{11}{3} + \\frac{3}{5} + \\frac{17}{20}$\n",
    "$$= \\frac{220}{60}+\\frac{36}{60}+\\frac{51}{60}=\\frac{307}{60}$$"
   ]
  },
  {
   "cell_type": "code",
   "execution_count": 5,
   "metadata": {},
   "outputs": [
    {
     "data": {
      "text/plain": [
       "True"
      ]
     },
     "execution_count": 5,
     "metadata": {},
     "output_type": "execute_result"
    }
   ],
   "source": [
    "round((11.0/3.0) + (3.0/5.0) + (17.0/20.0), 5) == round(307.0/60.0, 5)"
   ]
  },
  {
   "cell_type": "markdown",
   "metadata": {},
   "source": [
    "### 3. $\\left( \\frac{2}{3}\\right)(21)\\left(\\frac{11}{14}\\right)$\n",
    "$$=\\left(\\frac{1}{3}\\right)(21)\\left(\\frac{11}{7}\\right)=\\left(\\frac{1}{3}\\right)(3)(11)=11$$"
   ]
  },
  {
   "cell_type": "markdown",
   "metadata": {},
   "source": [
    "### 4. $\\frac{5}{6} / \\frac{15}{22}$\n",
    "$$= \\left(\\frac{5}{6}\\right)\\left(\\frac{22}{15}\\right)=\\frac{110}{90}=\\frac{11}{9}$$"
   ]
  },
  {
   "cell_type": "code",
   "execution_count": 6,
   "metadata": {},
   "outputs": [
    {
     "data": {
      "text/plain": [
       "True"
      ]
     },
     "execution_count": 6,
     "metadata": {},
     "output_type": "execute_result"
    }
   ],
   "source": [
    "round((5.0/6.0)/(15.0/22.0), 5) == round(11.0/9.0, 5)"
   ]
  },
  {
   "cell_type": "markdown",
   "metadata": {},
   "source": [
    "### 5. $\\frac{5}{yx} + \\frac{7}{x^2} + \\frac{10x}{y}$\n",
    "$$= \\frac{5x}{yx^2} + \\frac{7y}{yx^2} + \\frac{10x^3y}{yx^2}$$\n",
    "$$=\\frac{10x^3 + 5x+7y}{yx^2}$$"
   ]
  },
  {
   "cell_type": "code",
   "execution_count": 7,
   "metadata": {},
   "outputs": [
    {
     "data": {
      "text/plain": [
       "True"
      ]
     },
     "execution_count": 7,
     "metadata": {},
     "output_type": "execute_result"
    }
   ],
   "source": [
    "x=2\n",
    "y=3\n",
    "5.0/(y*x) + (7.0/(x**2)) + (10.0*x)/y == (10.0*x**3 + 5.0*x + 7.0 * y)/(y * x**2)"
   ]
  },
  {
   "cell_type": "markdown",
   "metadata": {},
   "source": [
    "### 6. $\\frac{x}{x-1} - \\frac{x-4}{x+1}$\n",
    "$$= \\frac{x(x+1)}{x^2-1} - \\frac{(x-4)(x-1)}{x^2-1}=\\frac{x^2+x-(x^2-5x+4)}{x^2-1}=\\frac{x^2+x-x^2+5x-4}{x^2-1}$$\n",
    "$$=\\frac{6x-4}{x^2-1}$$"
   ]
  },
  {
   "cell_type": "markdown",
   "metadata": {},
   "source": [
    "### 7. $\\left( \\frac{x^2-1}{xy^2} \\right) \\left( \\frac{y^3}{x+1} \\right)$\n",
    "$$= \\frac{(x+1)(x-1)y^3}{(xy^2)(x+1)}= \\frac{(x-1)y^3}{xy^2}$$\n",
    "$$ = \\frac{(x-1)y}{x}$$"
   ]
  },
  {
   "cell_type": "markdown",
   "metadata": {},
   "source": [
    "### 8. $\\frac{\\frac{x^2-5x+6}{6xy^3}}{\\frac{x^2+3x-10}{10x^3y^2}}$\n",
    "$$= \\frac{x^2-5x+6}{6xy^3} \\cdot \\frac{10x^3y^2}{x^2+3x-10}= \\frac{(x-3)(x-2)}{6xy^3}\\cdot\\frac{10x^3y^2}{(x+5)(x-2)}=\\frac{x-3}{3y}\\cdot\\frac{5x^2}{x+5}$$\n",
    "$$=\\frac{5x^2(x-3)}{3y(x+5)}$$"
   ]
  },
  {
   "cell_type": "markdown",
   "metadata": {},
   "source": [
    "### 9. $\\frac{x^3y^4z^5}{y^2z^{-8}}$\n",
    "$$=x^3y^2z^{13}$$"
   ]
  },
  {
   "cell_type": "markdown",
   "metadata": {},
   "source": [
    "### 10. $\\frac{(x+3)^2x^4(y+15)^{14}}{x^6(x+3)(y+5)^{17}}$\n",
    "$$=\\frac{x+3}{x^2(y+5)^3}$$"
   ]
  },
  {
   "cell_type": "markdown",
   "metadata": {},
   "source": [
    "### 11. $\\left( \\frac{4x^2y^{100}z^{-3}}{18x^{15}y^4z^8} \\right)^0$\n",
    "$$=\\left( \\frac{2y^{96}}{9x^{17}z^{11}} \\right)^0$$\n",
    "$$=1$$ (when $x\\ne0, y\\ne0, z\\ne0$)"
   ]
  },
  {
   "cell_type": "markdown",
   "metadata": {},
   "source": [
    "### 12. $\\frac{x^4y^3z^2 + x^2yz^4}{x^2yz}$\n",
    "$$=x^2y^2z + z^3$$"
   ]
  },
  {
   "cell_type": "markdown",
   "metadata": {},
   "source": [
    "### 13. $\\frac{(x^2y^3)^4(y^4)^0z^{-2}}{(xz^2)^3y^{-5}}$\n",
    "$$=\\frac{x^8y^{12}y^5}{x^3z^6z^2}=\\frac{x^5y^{17}}{x^3z^8}$$\n",
    "$$=\\frac{x^2y^{17}}{z^8}$$"
   ]
  },
  {
   "cell_type": "markdown",
   "metadata": {},
   "source": [
    "### 14. $\\sqrt{50}$\n",
    "$$=\\sqrt{25 \\cdot 2} = \\sqrt{5^2 \\cdot 2}$$\n",
    "$$=5\\sqrt{2}$$"
   ]
  },
  {
   "cell_type": "markdown",
   "metadata": {},
   "source": [
    "### 15. $\\frac{\\sqrt{8}\\sqrt{20}}{\\sqrt{50}\\sqrt{12}}$\n",
    "$$= \\frac{\\sqrt{2^2 \\cdot 2}\\sqrt{2^2 \\cdot 5}}{\\sqrt{5^2 \\cdot 2}\\sqrt{2^2 \\cdot 3}} = \\frac{2\\sqrt{2} \\cdot 2\\sqrt{5}}{5\\sqrt{2} \\cdot 2\\sqrt{3}}= \\frac{2\\sqrt{5}}{5\\sqrt{3}}$$\n",
    "$$ = \\frac{2\\sqrt{15}}{15}$$"
   ]
  },
  {
   "cell_type": "markdown",
   "metadata": {},
   "source": [
    "### 16. $\\sqrt{20x^4y^6z^{11}}\\sqrt{5xy^2z^7}$\n",
    "$$=\\sqrt{100x^5y^8z^{18}}$$\n",
    "$$=10x^2y^4z^9\\sqrt{x}$$"
   ]
  },
  {
   "cell_type": "markdown",
   "metadata": {},
   "source": [
    "### 17. $\\sqrt[3]{x^4y^8z^5}\\sqrt[3]{x^7y^4z^10}$\n",
    "$$= \\sqrt[3]{x^{11}y^{12}z^{15}}$$\n",
    "$$ = x^3y^4z^5 \\sqrt[3]{x^2}$$"
   ]
  },
  {
   "cell_type": "markdown",
   "metadata": {},
   "source": [
    "### 18. $\\frac{\\sqrt[3]{8x^3y^6}\\sqrt[5]{x^{10}y^{14}}}{\\sqrt[7]{x^{14}y^{14}}}$\n",
    "$$=\\frac{2xy^2 \\cdot x^2y^2\\sqrt[5]{y^4}}{x^2y^2}$$\n",
    "$$= 2xy^2 \\cdot \\sqrt[5]{y^4}$$"
   ]
  },
  {
   "cell_type": "markdown",
   "metadata": {},
   "source": [
    "### 19. $4^{1/3}x^{3/8}y^{1/4}z^{5/12}$\n",
    "$$=\\sqrt[3]{4}\\cdot\\sqrt[8]{x^3}\\cdot\\sqrt[4]{y}\\cdot\\sqrt[12]{z^5}$$"
   ]
  },
  {
   "cell_type": "markdown",
   "metadata": {},
   "source": [
    "### 20. $\\sqrt[3]{4x^2y}\\sqrt[5]{z^4}$\n",
    "$$=4^{1/3} \\cdot x^{2/3}\\cdot y^{1/3} \\cdot z^{4/5}$$"
   ]
  },
  {
   "cell_type": "markdown",
   "metadata": {},
   "source": [
    "In 21-23, use horizontal line test to identify one-to-one functions."
   ]
  },
  {
   "cell_type": "markdown",
   "metadata": {},
   "source": [
    "### 21.\n",
    "(A) $y=x^2+4x+6$"
   ]
  },
  {
   "cell_type": "code",
   "execution_count": 8,
   "metadata": {},
   "outputs": [
    {
     "data": {
      "text/plain": [
       "[<matplotlib.lines.Line2D at 0x10743f9d0>]"
      ]
     },
     "execution_count": 8,
     "metadata": {},
     "output_type": "execute_result"
    },
    {
     "data": {
      "image/png": "[encoded data removed]",
      "text/plain": [
       "<matplotlib.figure.Figure at 0x10743f990>"
      ]
     },
     "metadata": {},
     "output_type": "display_data"
    }
   ],
   "source": [
    "x=np.arange(-6.0,2.0,0.1)\n",
    "y = x**2 + 4*x\n",
    "plt.grid()\n",
    "plt.plot(x,y)"
   ]
  },
  {
   "cell_type": "markdown",
   "metadata": {},
   "source": [
    "(B) $y = |2x|-1$"
   ]
  },
  {
   "cell_type": "code",
   "execution_count": 9,
   "metadata": {},
   "outputs": [
    {
     "data": {
      "text/plain": [
       "[<matplotlib.lines.Line2D at 0x105f40790>]"
      ]
     },
     "execution_count": 9,
     "metadata": {},
     "output_type": "execute_result"
    },
    {
     "data": {
      "image/png": "[encoded data removed]",
      "text/plain": [
       "<matplotlib.figure.Figure at 0x1074802d0>"
      ]
     },
     "metadata": {},
     "output_type": "display_data"
    }
   ],
   "source": [
    "x=np.arange(-2.0, 2.0, 0.1)\n",
    "y=abs(2*x) - 1\n",
    "plt.grid()\n",
    "plt.plot(x, y)"
   ]
  },
  {
   "cell_type": "markdown",
   "metadata": {},
   "source": [
    "(C) $y=\\frac{1}{x^2}$"
   ]
  },
  {
   "cell_type": "code",
   "execution_count": 10,
   "metadata": {},
   "outputs": [
    {
     "data": {
      "text/plain": [
       "[<matplotlib.lines.Line2D at 0x107606050>]"
      ]
     },
     "execution_count": 10,
     "metadata": {},
     "output_type": "execute_result"
    },
    {
     "data": {
      "image/png": "[encoded data removed]",
      "text/plain": [
       "<matplotlib.figure.Figure at 0x107606090>"
      ]
     },
     "metadata": {},
     "output_type": "display_data"
    }
   ],
   "source": [
    "x=np.arange(-2,2.1, 0.1)\n",
    "y=1.0/(x**2)\n",
    "plt.ylim(0,9)\n",
    "plt.grid()\n",
    "plt.plot(x, y)"
   ]
  },
  {
   "cell_type": "markdown",
   "metadata": {},
   "source": [
    "(D) $y = 3x+8$"
   ]
  },
  {
   "cell_type": "code",
   "execution_count": 11,
   "metadata": {},
   "outputs": [
    {
     "data": {
      "text/plain": [
       "[<matplotlib.lines.Line2D at 0x1076fad90>]"
      ]
     },
     "execution_count": 11,
     "metadata": {},
     "output_type": "execute_result"
    },
    {
     "data": {
      "image/png": "[encoded data removed]",
      "text/plain": [
       "<matplotlib.figure.Figure at 0x1076fad10>"
      ]
     },
     "metadata": {},
     "output_type": "display_data"
    }
   ],
   "source": [
    "y=3*x + 8\n",
    "plt.grid()\n",
    "plt.plot(x,y)"
   ]
  },
  {
   "cell_type": "markdown",
   "metadata": {},
   "source": [
    "(E) $y=\\sqrt{25-x^2}$"
   ]
  },
  {
   "cell_type": "code",
   "execution_count": 12,
   "metadata": {},
   "outputs": [
    {
     "data": {
      "text/plain": [
       "[<matplotlib.lines.Line2D at 0x107606ad0>]"
      ]
     },
     "execution_count": 12,
     "metadata": {},
     "output_type": "execute_result"
    },
    {
     "data": {
      "image/png": "[encoded data removed]",
      "text/plain": [
       "<matplotlib.figure.Figure at 0x1077e8310>"
      ]
     },
     "metadata": {},
     "output_type": "display_data"
    }
   ],
   "source": [
    "y=(25-x**2)**0.5\n",
    "plt.grid()\n",
    "plt.plot(x,y)"
   ]
  },
  {
   "cell_type": "markdown",
   "metadata": {},
   "source": [
    "### 22.\n",
    "(A) $y=x^2-4$"
   ]
  },
  {
   "cell_type": "code",
   "execution_count": 13,
   "metadata": {},
   "outputs": [
    {
     "data": {
      "text/plain": [
       "[<matplotlib.lines.Line2D at 0x107625f10>]"
      ]
     },
     "execution_count": 13,
     "metadata": {},
     "output_type": "execute_result"
    },
    {
     "data": {
      "image/png": "[encoded data removed]",
      "text/plain": [
       "<matplotlib.figure.Figure at 0x1078b1090>"
      ]
     },
     "metadata": {},
     "output_type": "display_data"
    }
   ],
   "source": [
    "y=x**2-4\n",
    "plt.grid()\n",
    "plt.plot(x,y)"
   ]
  },
  {
   "cell_type": "markdown",
   "metadata": {},
   "source": [
    "(B) $y=x^2-4, x \\ge 0$"
   ]
  },
  {
   "cell_type": "code",
   "execution_count": 14,
   "metadata": {},
   "outputs": [
    {
     "data": {
      "text/plain": [
       "[<matplotlib.lines.Line2D at 0x1078b1b10>]"
      ]
     },
     "execution_count": 14,
     "metadata": {},
     "output_type": "execute_result"
    },
    {
     "data": {
      "image/png": "[encoded data removed]",
      "text/plain": [
       "<matplotlib.figure.Figure at 0x10798d990>"
      ]
     },
     "metadata": {},
     "output_type": "display_data"
    }
   ],
   "source": [
    "x = np.arange(0.0, 2.0, 0.1)\n",
    "y = x**2 - 4\n",
    "plt.grid()\n",
    "plt.plot(x,y)"
   ]
  },
  {
   "cell_type": "markdown",
   "metadata": {},
   "source": [
    "(C) $y=x^2-4, -2 \\le x \\le 8$"
   ]
  },
  {
   "cell_type": "code",
   "execution_count": 15,
   "metadata": {},
   "outputs": [
    {
     "data": {
      "text/plain": [
       "[<matplotlib.lines.Line2D at 0x10798de10>]"
      ]
     },
     "execution_count": 15,
     "metadata": {},
     "output_type": "execute_result"
    },
    {
     "data": {
      "image/png": "[encoded data removed]",
      "text/plain": [
       "<matplotlib.figure.Figure at 0x107a92c90>"
      ]
     },
     "metadata": {},
     "output_type": "display_data"
    }
   ],
   "source": [
    "x = np.arange(-4.0, 8.1, 0.1)\n",
    "y = x**2-4\n",
    "plt.grid()\n",
    "plt.plot(x, y)"
   ]
  },
  {
   "cell_type": "markdown",
   "metadata": {},
   "source": [
    "(D) $y=x^2-4, -12 \\le x \\le 6$"
   ]
  },
  {
   "cell_type": "code",
   "execution_count": 16,
   "metadata": {},
   "outputs": [
    {
     "data": {
      "text/plain": [
       "[<matplotlib.lines.Line2D at 0x107a9bdd0>]"
      ]
     },
     "execution_count": 16,
     "metadata": {},
     "output_type": "execute_result"
    },
    {
     "data": {
      "image/png": "[encoded data removed]",
      "text/plain": [
       "<matplotlib.figure.Figure at 0x107aadb90>"
      ]
     },
     "metadata": {},
     "output_type": "display_data"
    }
   ],
   "source": [
    "x=np.arange(-12.0, 6.1, 0.1)\n",
    "y=x**2 - 4\n",
    "plt.grid()\n",
    "plt.plot(x,y)"
   ]
  },
  {
   "cell_type": "markdown",
   "metadata": {},
   "source": [
    "(E) $y=x^2-4, -5.3 \\le x \\le 0.1$"
   ]
  },
  {
   "cell_type": "code",
   "execution_count": 17,
   "metadata": {},
   "outputs": [
    {
     "data": {
      "text/plain": [
       "[<matplotlib.lines.Line2D at 0x10798de90>]"
      ]
     },
     "execution_count": 17,
     "metadata": {},
     "output_type": "execute_result"
    },
    {
     "data": {
      "image/png": "[encoded data removed]",
      "text/plain": [
       "<matplotlib.figure.Figure at 0x107c631d0>"
      ]
     },
     "metadata": {},
     "output_type": "display_data"
    }
   ],
   "source": [
    "x=np.arange(-5.3, 0.2, 0.01)\n",
    "y=x**2 - 4\n",
    "plt.grid()\n",
    "plt.plot(x,y)"
   ]
  },
  {
   "cell_type": "code",
   "execution_count": 18,
   "metadata": {},
   "outputs": [
    {
     "data": {
      "text/plain": [
       "[<matplotlib.lines.Line2D at 0x107abac50>]"
      ]
     },
     "execution_count": 18,
     "metadata": {},
     "output_type": "execute_result"
    },
    {
     "data": {
      "image/png": "[encoded data removed]",
      "text/plain": [
       "<matplotlib.figure.Figure at 0x107c47b90>"
      ]
     },
     "metadata": {},
     "output_type": "display_data"
    }
   ],
   "source": [
    "#Extreme closeup cam!\n",
    "plt.xlim(-0.1, 0.1)\n",
    "plt.ylim(-4.001, -3.99)\n",
    "plt.grid()\n",
    "plt.plot(x,y)"
   ]
  },
  {
   "cell_type": "markdown",
   "metadata": {},
   "source": [
    "**24-29.** Find the inverse of the one-to-one function algebraically."
   ]
  },
  {
   "cell_type": "markdown",
   "metadata": {},
   "source": [
    "### 24. $f(x) = 4-5x$"
   ]
  },
  {
   "cell_type": "markdown",
   "metadata": {},
   "source": [
    "$$x = 4-5y$$\n",
    "$$x-4 = 5y$$\n",
    "$$y=\\frac{1}{5}x - \\frac{4}{5}$$"
   ]
  },
  {
   "cell_type": "markdown",
   "metadata": {},
   "source": [
    "### 25. $f(x) = x^2 - 4x, x \\ge 2$"
   ]
  },
  {
   "cell_type": "markdown",
   "metadata": {},
   "source": [
    "$$x = y^2 - 4y = (y-2)^244$$\n",
    "$$x+4 = (y-2)^2$$\n",
    "$$y-2 = \\sqrt{x+4}$$\n",
    "$$y = \\sqrt{x+4} + 2, \\text{range } y \\ge 2$$"
   ]
  },
  {
   "cell_type": "markdown",
   "metadata": {},
   "source": [
    "### 26. $f(x) = \\sqrt{8-5x}$"
   ]
  },
  {
   "cell_type": "markdown",
   "metadata": {},
   "source": [
    "$$x = \\sqrt{8-5y}$$\n",
    "$$x^2 = 8 - 5y$$\n",
    "$$y = -\\frac{1}{5}x^2 + \\frac{8}{5}$$"
   ]
  },
  {
   "cell_type": "markdown",
   "metadata": {},
   "source": [
    "### 27. $f(x) = 3x^5 + 7$"
   ]
  },
  {
   "cell_type": "markdown",
   "metadata": {},
   "source": [
    "$$x = 3y^5 + 7$$\n",
    "$$3y^5 = x - 7$$\n",
    "$$y^5 = \\frac{1}{3}x - \\frac{7}{3}$$\n",
    "$$ y = \\sqrt[5]{\\frac{1}{3}x - \\frac{7}{3}}$$"
   ]
  },
  {
   "cell_type": "markdown",
   "metadata": {},
   "source": [
    "### 28. $f(x) = \\frac{2-\\sqrt{x}}{2+\\sqrt{x}}$"
   ]
  },
  {
   "cell_type": "markdown",
   "metadata": {},
   "source": [
    "$$x = \\frac{2-\\sqrt{y}}{2+\\sqrt{y}}$$"
   ]
  },
  {
   "cell_type": "markdown",
   "metadata": {},
   "source": [
    "$$2x + x\\sqrt{y} = 2 - \\sqrt{y}$$"
   ]
  },
  {
   "cell_type": "markdown",
   "metadata": {},
   "source": [
    "$$2x - 2 = -x\\sqrt{y} - \\sqrt{y}$$"
   ]
  },
  {
   "cell_type": "markdown",
   "metadata": {},
   "source": [
    "$$2x - 2 = \\sqrt{y}(-x-1)$$"
   ]
  },
  {
   "cell_type": "markdown",
   "metadata": {},
   "source": [
    "$$\\sqrt{y} = \\frac{2x-2}{-x-1}$$"
   ]
  },
  {
   "cell_type": "markdown",
   "metadata": {},
   "source": [
    "$$y = \\left( \\frac{2x-2}{-x-1} \\right)^2= \\frac{4x^2-8x+4}{x^2+2x+1}, -1 \\le x \\le 1$$\n"
   ]
  },
  {
   "cell_type": "code",
   "execution_count": 97,
   "metadata": {},
   "outputs": [
    {
     "data": {
      "text/plain": [
       "[<matplotlib.lines.Line2D at 0x10c7de1d0>]"
      ]
     },
     "execution_count": 97,
     "metadata": {},
     "output_type": "execute_result"
    },
    {
     "data": {
      "image/png": "[encoded data removed]",
      "text/plain": [
       "<matplotlib.figure.Figure at 0x10c752250>"
      ]
     },
     "metadata": {},
     "output_type": "display_data"
    }
   ],
   "source": [
    "x = np.arange(0, 6.1, 0.01)\n",
    "f = lambda x: (2.0 - x**0.5)/(2.0 + x**0.5)\n",
    "y = (2-x**0.5)/(2+x**0.5)\n",
    "plt.plot(x, f(x))\n",
    "f = lambda x: (4.0*x**2 - 8.0*x + 4) / (x**2 + 2.0*x + 1.0)\n",
    "plt.xlim(-1, 6)\n",
    "plt.ylim(-1, 4)\n",
    "plt.grid()\n",
    "plt.plot(x, f(x))"
   ]
  },
  {
   "cell_type": "markdown",
   "metadata": {},
   "source": [
    "Not sure how to justify the limit on the domain but the graph makes it obvious."
   ]
  },
  {
   "cell_type": "markdown",
   "metadata": {},
   "source": [
    "### 29. $f(x) = \\frac{2x-1}{x+4}$"
   ]
  },
  {
   "cell_type": "markdown",
   "metadata": {},
   "source": [
    "$$x=\\frac{2y-1}{y+4}$$"
   ]
  },
  {
   "cell_type": "markdown",
   "metadata": {},
   "source": [
    "$$xy + 4x = 2y-1$$"
   ]
  },
  {
   "cell_type": "markdown",
   "metadata": {},
   "source": [
    "$$xy-2y = -4x-1$$"
   ]
  },
  {
   "cell_type": "markdown",
   "metadata": {},
   "source": [
    "$$y(x-2) = -4x-1$$"
   ]
  },
  {
   "cell_type": "markdown",
   "metadata": {},
   "source": [
    "$$y=-\\frac{4x+1}{x-2}$$"
   ]
  },
  {
   "cell_type": "markdown",
   "metadata": {},
   "source": [
    "### 30.\n",
    "The set of points ${(0,1),(3,4),(5,-6)}$ is on the graph of $f(x)$, which is a one-to-one function. Which points belong to the graph of $f^{-1}(x)$?"
   ]
  },
  {
   "cell_type": "markdown",
   "metadata": {},
   "source": [
    "$${(1,0), (4,3), (-6,5)}$$"
   ]
  },
  {
   "cell_type": "markdown",
   "metadata": {},
   "source": [
    "### 31.\n",
    "$f(x)$ is a one-to-one function with domain $[-2,4)$ and range $(-1,2)$. What are the doman and range of $f^{-1}(x)$?"
   ]
  },
  {
   "cell_type": "markdown",
   "metadata": {},
   "source": [
    "Domain: $(-1, 2)$  \n",
    "Range: $[-2, 4)$"
   ]
  },
  {
   "cell_type": "markdown",
   "metadata": {},
   "source": [
    "### 32.\n",
    "Suppose that $f(x)$ is a one-to-one function. What is an expression for the inverse of $g(x) = f(x+c)$?"
   ]
  },
  {
   "cell_type": "markdown",
   "metadata": {},
   "source": [
    "$$g^{-1}(x) = f^{-1}(x) - c$$"
   ]
  },
  {
   "cell_type": "markdown",
   "metadata": {},
   "source": [
    "### 33. $3x+7=13$"
   ]
  },
  {
   "cell_type": "markdown",
   "metadata": {},
   "source": [
    "$$3x=6$$\n",
    "$$x=2$$"
   ]
  },
  {
   "cell_type": "markdown",
   "metadata": {},
   "source": [
    "### 34. $2(x+2) = 3(x+2)$"
   ]
  },
  {
   "cell_type": "markdown",
   "metadata": {},
   "source": [
    "$$x+2 = \\frac{3}{2}x + 3$$\n",
    "$$x = \\frac{3}{2}x + 1$$\n",
    "$$x - \\frac{3}{2}x = 1$$\n",
    "$$-\\frac{1}{2}x = 1$$\n",
    "$$x = -2$$"
   ]
  },
  {
   "cell_type": "code",
   "execution_count": 3,
   "metadata": {},
   "outputs": [
    {
     "data": {
      "text/plain": [
       "True"
      ]
     },
     "execution_count": 3,
     "metadata": {},
     "output_type": "execute_result"
    }
   ],
   "source": [
    "x=-2.0\n",
    "round(2.0 * (x + 2.0), 5) == round(3.0 * (x + 2.0), 5)"
   ]
  },
  {
   "cell_type": "markdown",
   "metadata": {},
   "source": [
    "### 35. $-4(x+1) - 2x = 7x + 3(x-8)$"
   ]
  },
  {
   "cell_type": "markdown",
   "metadata": {},
   "source": [
    "$$-4x-4-2x = 7x+3x-24$$\n",
    "$$-6x-4 = 10x-24$$\n",
    "$$16x = 20$$\n",
    "$$x = \\frac{5}{4}$$"
   ]
  },
  {
   "cell_type": "code",
   "execution_count": 2,
   "metadata": {},
   "outputs": [
    {
     "data": {
      "text/plain": [
       "True"
      ]
     },
     "execution_count": 2,
     "metadata": {},
     "output_type": "execute_result"
    }
   ],
   "source": [
    "x=1.25\n",
    "round(-4.0*(x+1.0) - 2.0 * x, 5) == round(7.0 * x + 3.0 * (x - 8.0), 5)"
   ]
  },
  {
   "cell_type": "markdown",
   "metadata": {},
   "source": [
    "### 36. $\\frac{5}{3}x + 5 = \\frac{1}{3}x + 10$"
   ]
  },
  {
   "cell_type": "markdown",
   "metadata": {},
   "source": [
    "$$5x + 15 = x + 30$$\n",
    "$$4x = 15$$\n",
    "$$x = \\frac{15}{4}$$"
   ]
  },
  {
   "cell_type": "code",
   "execution_count": 5,
   "metadata": {},
   "outputs": [
    {
     "data": {
      "text/plain": [
       "True"
      ]
     },
     "execution_count": 5,
     "metadata": {},
     "output_type": "execute_result"
    }
   ],
   "source": [
    "x = 15.0/4.0\n",
    "round((5.0/3.0) * x + 5.0, 5) == round((1.0/3.0) * x + 10, 5)"
   ]
  },
  {
   "cell_type": "markdown",
   "metadata": {},
   "source": [
    "### 37. $\\sqrt{2}(x+3) = \\sqrt{5}(x+\\sqrt{20})$"
   ]
  },
  {
   "cell_type": "markdown",
   "metadata": {},
   "source": [
    "$$\\sqrt{2}(x+3) = \\sqrt{5}x + \\sqrt{100} = \\sqrt{5}x + 10$$\n",
    "$$2(x+3) = \\sqrt{10}x + 10\\sqrt{2}$$ \n",
    "$$x(2-\\sqrt{10}) = 10\\sqrt{2} - 6$$\n",
    "$$x = \\frac{10\\sqrt{2} - 6}{2-\\sqrt{10}}$$"
   ]
  },
  {
   "cell_type": "code",
   "execution_count": 18,
   "metadata": {},
   "outputs": [
    {
     "data": {
      "text/plain": [
       "True"
      ]
     },
     "execution_count": 18,
     "metadata": {},
     "output_type": "execute_result"
    }
   ],
   "source": [
    "x = ((10*2**0.5) - 6)/(2-10**0.5)\n",
    "round(2**0.5*(x+3), 5) == round(5**0.5* (x + 20**0.5), 5)\n"
   ]
  },
  {
   "cell_type": "markdown",
   "metadata": {},
   "source": [
    "### 38. $x^2 - 4x -21 = 0$"
   ]
  },
  {
   "cell_type": "markdown",
   "metadata": {},
   "source": [
    "$$(x-7)(x33) = 0$$\n",
    "$$x = -3, 7$$"
   ]
  },
  {
   "cell_type": "code",
   "execution_count": 86,
   "metadata": {},
   "outputs": [
    {
     "data": {
      "text/plain": [
       "True"
      ]
     },
     "execution_count": 86,
     "metadata": {},
     "output_type": "execute_result"
    }
   ],
   "source": [
    "roots = [-3,7]\n",
    "f = lambda x: x**2.0 - 4.0 * x - 21\n",
    "round(f(roots[0]), 5) == 0"
   ]
  },
  {
   "cell_type": "code",
   "execution_count": 88,
   "metadata": {},
   "outputs": [
    {
     "data": {
      "text/plain": [
       "True"
      ]
     },
     "execution_count": 88,
     "metadata": {},
     "output_type": "execute_result"
    }
   ],
   "source": [
    "round(f(roots[1]), 5) == 0"
   ]
  },
  {
   "cell_type": "code",
   "execution_count": 89,
   "metadata": {},
   "outputs": [
    {
     "data": {
      "text/plain": [
       "[<matplotlib.lines.Line2D at 0x10c56a210>]"
      ]
     },
     "execution_count": 89,
     "metadata": {},
     "output_type": "execute_result"
    },
    {
     "data": {
      "image/png": "[encoded data removed]",
      "text/plain": [
       "<matplotlib.figure.Figure at 0x10c334f90>"
      ]
     },
     "metadata": {},
     "output_type": "display_data"
    }
   ],
   "source": [
    "x = np.arange(-4, 8, 0.1)\n",
    "y = x**2 - 4*x -21\n",
    "plt.grid()\n",
    "plt.plot(x,y)\n",
    "plt.plot(roots, [0,0], 'ro')"
   ]
  },
  {
   "cell_type": "markdown",
   "metadata": {},
   "source": [
    "### 39. $x^2+8x-17=0$"
   ]
  },
  {
   "cell_type": "markdown",
   "metadata": {},
   "source": [
    "$$(x+4)^2 - 16 - 17 = 0$$\n",
    "$$x + 4 = \\pm \\sqrt{33}$$\n",
    "$$x = -4 \\pm \\sqrt{33}$$"
   ]
  },
  {
   "cell_type": "code",
   "execution_count": 90,
   "metadata": {},
   "outputs": [
    {
     "data": {
      "text/plain": [
       "True"
      ]
     },
     "execution_count": 90,
     "metadata": {},
     "output_type": "execute_result"
    }
   ],
   "source": [
    "roots = [-4.0 + 33**0.5, -4.0 - 33**0.5]\n",
    "f = lambda x:x**2 + 8.0 * x - 17.0\n",
    "round(f(roots[0]), 5) == 0"
   ]
  },
  {
   "cell_type": "code",
   "execution_count": 91,
   "metadata": {},
   "outputs": [
    {
     "data": {
      "text/plain": [
       "True"
      ]
     },
     "execution_count": 91,
     "metadata": {},
     "output_type": "execute_result"
    }
   ],
   "source": [
    "round(f(roots[1]), 5) == 0"
   ]
  },
  {
   "cell_type": "code",
   "execution_count": 92,
   "metadata": {},
   "outputs": [
    {
     "data": {
      "text/plain": [
       "[<matplotlib.lines.Line2D at 0x10c5eacd0>]"
      ]
     },
     "execution_count": 92,
     "metadata": {},
     "output_type": "execute_result"
    },
    {
     "data": {
      "image/png": "[encoded data removed]",
      "text/plain": [
       "<matplotlib.figure.Figure at 0x10c1d58d0>"
      ]
     },
     "metadata": {},
     "output_type": "display_data"
    }
   ],
   "source": [
    "x = np.arange(-4 - 33**0.5 - 1, -4 + 33**0.5 + 1, 0.1)\n",
    "y = x**2 + 8*x - 17\n",
    "plt.grid()\n",
    "plt.plot(x,y)\n",
    "plt.plot(roots, [0,0], 'ro')"
   ]
  },
  {
   "cell_type": "markdown",
   "metadata": {},
   "source": [
    "### 40. $2x^2 + 3x - 4 = 0$"
   ]
  },
  {
   "cell_type": "markdown",
   "metadata": {},
   "source": [
    "$$x^2 + \\frac{3}{2}x - 2 = 0$$\n",
    "$$(x + \\frac{3}{4})^2 - \\frac{9}{16} - 2 = 0$$\n",
    "$$x + \\frac{3}{4} = \\pm \\sqrt{\\frac{41}{16}} = \\pm \\frac{\\sqrt{41}}{4}$$\n",
    "$$x = \\frac{-3 \\pm \\sqrt{41}}{4}$$"
   ]
  },
  {
   "cell_type": "code",
   "execution_count": 81,
   "metadata": {},
   "outputs": [
    {
     "data": {
      "text/plain": [
       "0.0"
      ]
     },
     "execution_count": 81,
     "metadata": {},
     "output_type": "execute_result"
    }
   ],
   "source": [
    "roots=[(-3.0 + 41.0**0.5)/4.0, (-3.0 - 41.0**0.5)/4.0]\n",
    "x = (-3 + 41**0.5)/4\n",
    "f = lambda x: 2.0 *x**2 + 3.0 * x - 4.0\n",
    "round(f(roots[0]), 5) #== 0"
   ]
  },
  {
   "cell_type": "code",
   "execution_count": 72,
   "metadata": {},
   "outputs": [
    {
     "data": {
      "text/plain": [
       "True"
      ]
     },
     "execution_count": 72,
     "metadata": {},
     "output_type": "execute_result"
    }
   ],
   "source": [
    "x = (-3 - 41**0.5)/4\n",
    "round(f(x), 5) == 0"
   ]
  },
  {
   "cell_type": "code",
   "execution_count": 84,
   "metadata": {},
   "outputs": [
    {
     "data": {
      "text/plain": [
       "[<matplotlib.lines.Line2D at 0x10c423510>]"
      ]
     },
     "execution_count": 84,
     "metadata": {},
     "output_type": "execute_result"
    },
    {
     "data": {
      "image/png": "[encoded data removed]",
      "text/plain": [
       "<matplotlib.figure.Figure at 0x10c336c90>"
      ]
     },
     "metadata": {},
     "output_type": "display_data"
    }
   ],
   "source": [
    "x = np.arange((-3 - 41**0.5)/4.0 -0.1, (-3 + 41**0.5)/4 + 0.1, 0.1)\n",
    "plt.grid()\n",
    "plt.plot(x,f(x))\n",
    "plt.plot(roots, [0,0], 'ro')"
   ]
  },
  {
   "cell_type": "markdown",
   "metadata": {},
   "source": [
    "### 41. $6x^2 + 5x - 4 = 0$"
   ]
  },
  {
   "cell_type": "markdown",
   "metadata": {},
   "source": [
    "$$\\frac{-5 \\pm \\sqrt{(5)^2 - 4(6)(-4)}}{12}$$\n",
    "$$= \\frac{-5 \\pm \\sqrt{121}}{12}$$\n",
    "$$=\\frac{-5 \\pm 11}{12}$$\n",
    "$$=\\frac{-16}{12}, \\frac{6}{12}$$\n",
    "$$=\\frac{-4}{3}, \\frac{1}{2}$$"
   ]
  },
  {
   "cell_type": "code",
   "execution_count": 93,
   "metadata": {},
   "outputs": [
    {
     "data": {
      "text/plain": [
       "True"
      ]
     },
     "execution_count": 93,
     "metadata": {},
     "output_type": "execute_result"
    }
   ],
   "source": [
    "roots = [-4.0/3.0, 1.0/2.0]\n",
    "f = lambda x:6.0 * x**2 + 5.0 * x - 4.0\n",
    "round(f(roots[0]), 5) == 0"
   ]
  },
  {
   "cell_type": "code",
   "execution_count": 94,
   "metadata": {},
   "outputs": [
    {
     "data": {
      "text/plain": [
       "True"
      ]
     },
     "execution_count": 94,
     "metadata": {},
     "output_type": "execute_result"
    }
   ],
   "source": [
    "round(f(roots[1]), 5) == 0"
   ]
  },
  {
   "cell_type": "code",
   "execution_count": 95,
   "metadata": {},
   "outputs": [
    {
     "data": {
      "text/plain": [
       "[<matplotlib.lines.Line2D at 0x10c728890>]"
      ]
     },
     "execution_count": 95,
     "metadata": {},
     "output_type": "execute_result"
    },
    {
     "data": {
      "image/png": "[encoded data removed]",
      "text/plain": [
       "<matplotlib.figure.Figure at 0x10c5afd10>"
      ]
     },
     "metadata": {},
     "output_type": "display_data"
    }
   ],
   "source": [
    "x = np.arange(-1.7, 1.0, 0.1)\n",
    "y = 6.0 * x**2 + 5.0 * x - 4.0\n",
    "plt.grid()\n",
    "plt.plot(x, y)\n",
    "plt.plot(roots, [0,0], 'ro')"
   ]
  },
  {
   "cell_type": "markdown",
   "metadata": {},
   "source": [
    "### 42. $3x^2 + 4x - 2 = 0$"
   ]
  },
  {
   "cell_type": "markdown",
   "metadata": {},
   "source": [
    "$$\\frac{-4 \\pm \\sqrt{(4)^2 - 4(3)-2)}}{6}$$\n",
    "$$=\\frac{-4 \\pm \\sqrt{16 + 24}}{6}$$\n",
    "$$=\\frac{-4 \\pm 2 \\sqrt{10}}{6}$$\n",
    "$$=\\frac{-2 \\pm \\sqrt{10}}{3}$$"
   ]
  },
  {
   "cell_type": "code",
   "execution_count": 99,
   "metadata": {},
   "outputs": [
    {
     "data": {
      "text/plain": [
       "True"
      ]
     },
     "execution_count": 99,
     "metadata": {},
     "output_type": "execute_result"
    }
   ],
   "source": [
    "roots = [(-2.0 - 10**0.5)/3.0, (-2.0 + 10**0.5)/3.0]\n",
    "f = lambda x: 3.0 * x**2 + 4.0 * x - 2.0\n",
    "round(f(roots[0]), 5) == 0"
   ]
  },
  {
   "cell_type": "code",
   "execution_count": 100,
   "metadata": {},
   "outputs": [
    {
     "data": {
      "text/plain": [
       "True"
      ]
     },
     "execution_count": 100,
     "metadata": {},
     "output_type": "execute_result"
    }
   ],
   "source": [
    "round(f(roots[1]), 5) == 0"
   ]
  },
  {
   "cell_type": "code",
   "execution_count": 106,
   "metadata": {},
   "outputs": [
    {
     "data": {
      "text/plain": [
       "[<matplotlib.lines.Line2D at 0x10cd55050>]"
      ]
     },
     "execution_count": 106,
     "metadata": {},
     "output_type": "execute_result"
    },
    {
     "data": {
      "image/png": "[encoded data removed]",
      "text/plain": [
       "<matplotlib.figure.Figure at 0x10cad8890>"
      ]
     },
     "metadata": {},
     "output_type": "display_data"
    }
   ],
   "source": [
    "x = np.arange(roots[0]-0.1, roots[1]+0.1, 0.1)\n",
    "plt.grid()\n",
    "plt.plot(x, f(x))\n",
    "plt.plot(roots, [0,0], 'ro')"
   ]
  },
  {
   "cell_type": "markdown",
   "metadata": {},
   "source": [
    "### 43. $x^{10} + 7x^5 + 10=0$"
   ]
  },
  {
   "cell_type": "markdown",
   "metadata": {},
   "source": [
    "$$\\frac{-7 \\pm \\sqrt{7^2 - 4(1)(10)}}{2}$$"
   ]
  },
  {
   "cell_type": "markdown",
   "metadata": {},
   "source": [
    "$$\\frac{-1 \\pm \\sqrt{49-40}}{2}$$"
   ]
  },
  {
   "cell_type": "markdown",
   "metadata": {},
   "source": [
    "$$\\frac{-1 \\pm 3}{2}$$"
   ]
  },
  {
   "cell_type": "markdown",
   "metadata": {},
   "source": [
    "$$x^5 = -2, 1$$ "
   ]
  },
  {
   "cell_type": "markdown",
   "metadata": {},
   "source": [
    "$$x=\\sqrt[5]{-2}, 1 = -1.1487, 1$$"
   ]
  },
  {
   "cell_type": "markdown",
   "metadata": {},
   "source": [
    "$$(x^5 + 5)(x^5 + 2) = 0$$\n",
    "$$x^5 = -5, -2$$\n",
    "$$x = -1.3798, -1.1487$$"
   ]
  },
  {
   "cell_type": "code",
   "execution_count": 19,
   "metadata": {},
   "outputs": [
    {
     "data": {
      "text/plain": [
       "[<matplotlib.lines.Line2D at 0x1084e38d0>]"
      ]
     },
     "execution_count": 19,
     "metadata": {},
     "output_type": "execute_result"
    },
    {
     "data": {
      "image/png": "[encoded data removed]",
      "text/plain": [
       "<matplotlib.figure.Figure at 0x107f15f90>"
      ]
     },
     "metadata": {},
     "output_type": "display_data"
    }
   ],
   "source": [
    "f = lambda x:x**10 + 7*x**5 + 10.0\n",
    "roots = [-5**0.2, -2**0.2]\n",
    "x = np.arange(roots[0]-0.1, roots[1]+0.1, 0.01)\n",
    "plt.grid()\n",
    "plt.plot(x, f(x))\n",
    "plt.plot(roots, [0,0], 'ro')"
   ]
  },
  {
   "cell_type": "code",
   "execution_count": 14,
   "metadata": {},
   "outputs": [
    {
     "data": {
      "text/plain": [
       "-1.379729661461215"
      ]
     },
     "execution_count": 14,
     "metadata": {},
     "output_type": "execute_result"
    }
   ],
   "source": [
    "-5**.2"
   ]
  },
  {
   "cell_type": "markdown",
   "metadata": {},
   "source": [
    "Solve the polynomial equations by factoring."
   ]
  },
  {
   "cell_type": "markdown",
   "metadata": {},
   "source": [
    "### 44. $3x^4 + 2x^3 - 5x^2 = 0$"
   ]
  },
  {
   "cell_type": "markdown",
   "metadata": {},
   "source": [
    "$$x^2(3x^2 + 2x - 5) = 0$$\n",
    "One root is $x=0$, now focus on $3x^2 + 2x - 5$"
   ]
  },
  {
   "cell_type": "markdown",
   "metadata": {},
   "source": [
    "$$x = \\frac{-2 \\pm \\sqrt{2^2 - 4(3)(-5)}}{6}$$"
   ]
  },
  {
   "cell_type": "markdown",
   "metadata": {},
   "source": [
    "$$x = \\frac{-2 \\pm \\sqrt{64}}{6}$$"
   ]
  },
  {
   "cell_type": "markdown",
   "metadata": {},
   "source": [
    "$$x=\\frac{-2 \\pm 8}{6}$$"
   ]
  },
  {
   "cell_type": "markdown",
   "metadata": {},
   "source": [
    "$$x = -\\frac{5}{3}, 0, 1$$"
   ]
  },
  {
   "cell_type": "code",
   "execution_count": 23,
   "metadata": {},
   "outputs": [
    {
     "data": {
      "text/plain": [
       "[<matplotlib.lines.Line2D at 0x107d01b50>]"
      ]
     },
     "execution_count": 23,
     "metadata": {},
     "output_type": "execute_result"
    },
    {
     "data": {
      "image/png": "[encoded data removed]",
      "text/plain": [
       "<matplotlib.figure.Figure at 0x1085aff10>"
      ]
     },
     "metadata": {},
     "output_type": "display_data"
    }
   ],
   "source": [
    "f = lambda x:3*x**4 + 2*x**3 - 5*x**2\n",
    "roots = [-5.0/3.0, 0.0, 1.0]\n",
    "x = np.arange(roots[0]-0.1, roots[2]+0.1, 0.1)\n",
    "plt.grid()\n",
    "plt.plot(x, f(x))\n",
    "plt.plot(roots, [0,0,0], 'ro')"
   ]
  },
  {
   "cell_type": "markdown",
   "metadata": {},
   "source": [
    "### 45. $x^8 + 12x^4 + 35 = 0$"
   ]
  },
  {
   "cell_type": "markdown",
   "metadata": {},
   "source": [
    "$$(x^4 +5)(x^4 +7) = 0$$\n",
    "$$x = \\pm \\sqrt[4]{-5}$$\n",
    "No real solutions."
   ]
  },
  {
   "cell_type": "code",
   "execution_count": 28,
   "metadata": {},
   "outputs": [
    {
     "data": {
      "text/plain": [
       "[<matplotlib.lines.Line2D at 0x1089fbfd0>]"
      ]
     },
     "execution_count": 28,
     "metadata": {},
     "output_type": "execute_result"
    },
    {
     "data": {
      "image/png": "[encoded data removed]",
      "text/plain": [
       "<matplotlib.figure.Figure at 0x108759cd0>"
      ]
     },
     "metadata": {},
     "output_type": "display_data"
    }
   ],
   "source": [
    "f = lambda x:x**8 + 12*x**4 + 35.0\n",
    "x = np.arange(-2, 2, 0.1)\n",
    "plt.ylim(-10,100)\n",
    "plt.grid()\n",
    "plt.plot(x, f(x))\n"
   ]
  },
  {
   "cell_type": "markdown",
   "metadata": {},
   "source": [
    "### 46. $x^4 + 3x^2-4=0$"
   ]
  },
  {
   "cell_type": "markdown",
   "metadata": {},
   "source": [
    "$$(x^2+4)(x^2-1)=0$$"
   ]
  },
  {
   "cell_type": "markdown",
   "metadata": {},
   "source": [
    "$$x^2 = -4, 1$$"
   ]
  },
  {
   "cell_type": "markdown",
   "metadata": {},
   "source": [
    "$$x = \\pm \\sqrt{-4}, \\pm \\sqrt{1}$$\n",
    "$$x = -1, 1$$"
   ]
  },
  {
   "cell_type": "code",
   "execution_count": 30,
   "metadata": {},
   "outputs": [
    {
     "data": {
      "text/plain": [
       "[<matplotlib.lines.Line2D at 0x108ae5dd0>]"
      ]
     },
     "execution_count": 30,
     "metadata": {},
     "output_type": "execute_result"
    },
    {
     "data": {
      "image/png": "[encoded data removed]",
      "text/plain": [
       "<matplotlib.figure.Figure at 0x108829110>"
      ]
     },
     "metadata": {},
     "output_type": "display_data"
    }
   ],
   "source": [
    "f = lambda x:x**4 + 3*x**2 - 4.0\n",
    "roots = [-1.0, 1.0]\n",
    "x = np.arange(roots[0]-0.1, roots[1]+0.1, 0.01)\n",
    "plt.grid()\n",
    "plt.plot(x, f(x))\n",
    "plt.plot(roots, [0,0], 'ro')"
   ]
  },
  {
   "cell_type": "markdown",
   "metadata": {},
   "source": [
    "### 47.  $x^4 - 81 = 0$"
   ]
  },
  {
   "cell_type": "markdown",
   "metadata": {},
   "source": [
    "$$(x^2+9)(x^2-9)=0$$"
   ]
  },
  {
   "cell_type": "markdown",
   "metadata": {},
   "source": [
    "$$(x^2+9)(x+3)(x-3)=0$$"
   ]
  },
  {
   "cell_type": "markdown",
   "metadata": {},
   "source": [
    "$$x=3, -3$$"
   ]
  },
  {
   "cell_type": "code",
   "execution_count": 35,
   "metadata": {},
   "outputs": [
    {
     "data": {
      "text/plain": [
       "[<matplotlib.lines.Line2D at 0x108d68150>]"
      ]
     },
     "execution_count": 35,
     "metadata": {},
     "output_type": "execute_result"
    },
    {
     "data": {
      "image/png": "[encoded data removed]",
      "text/plain": [
       "<matplotlib.figure.Figure at 0x108afda10>"
      ]
     },
     "metadata": {},
     "output_type": "display_data"
    }
   ],
   "source": [
    "f = lambda x:x**4 - 81.0\n",
    "roots = [-3.0, 3.0]\n",
    "x = np.arange(roots[0]-2, roots[1]++2, 0.1)\n",
    "plt.grid()\n",
    "plt.plot(x, f(x))\n",
    "plt.plot(roots, [0,0], 'ro')"
   ]
  },
  {
   "cell_type": "markdown",
   "metadata": {},
   "source": [
    "### 48. $|5x-7| = 2$"
   ]
  },
  {
   "cell_type": "markdown",
   "metadata": {},
   "source": [
    "$$5x-7=2, 5x-7=-2$$"
   ]
  },
  {
   "cell_type": "markdown",
   "metadata": {},
   "source": [
    "$$5x=9, 5x=5$$"
   ]
  },
  {
   "cell_type": "markdown",
   "metadata": {},
   "source": [
    "$$x=1, \\frac{9}{5}$$"
   ]
  },
  {
   "cell_type": "markdown",
   "metadata": {},
   "source": [
    "### 49. $|4x-5|+18=13$"
   ]
  },
  {
   "cell_type": "markdown",
   "metadata": {},
   "source": [
    "$$|4x-5| = -5$$"
   ]
  },
  {
   "cell_type": "markdown",
   "metadata": {},
   "source": [
    "No solutions."
   ]
  },
  {
   "cell_type": "markdown",
   "metadata": {},
   "source": [
    "### 50. $|x^2-6x|=27$"
   ]
  },
  {
   "cell_type": "markdown",
   "metadata": {},
   "source": [
    "$$x^2-6x = 27, x^2-6x=-27$$"
   ]
  },
  {
   "cell_type": "markdown",
   "metadata": {},
   "source": [
    "$$x^2-6x-27=0, x^2-6x+27 = 0$$"
   ]
  },
  {
   "cell_type": "markdown",
   "metadata": {},
   "source": [
    "$$(x-9)(x+3)=0$$"
   ]
  },
  {
   "cell_type": "markdown",
   "metadata": {},
   "source": [
    "$$x=-3, 9$$"
   ]
  },
  {
   "cell_type": "markdown",
   "metadata": {},
   "source": [
    "(No solutions from $x^2-6x+27$)"
   ]
  },
  {
   "cell_type": "markdown",
   "metadata": {},
   "source": [
    "### 51. $|15x-5| = |35-5x|$"
   ]
  },
  {
   "cell_type": "markdown",
   "metadata": {},
   "source": [
    "$15x-5 = 35-5x, 20x = 40, x=2$"
   ]
  },
  {
   "cell_type": "markdown",
   "metadata": {},
   "source": [
    "$15x -5 = -35 + 5x, 10x=-2, x=-3$"
   ]
  },
  {
   "cell_type": "markdown",
   "metadata": {},
   "source": [
    "$$x=-3, 2$$"
   ]
  },
  {
   "cell_type": "markdown",
   "metadata": {},
   "source": [
    "### 52. $\\frac{x+1}{x-4}=0$"
   ]
  },
  {
   "cell_type": "markdown",
   "metadata": {},
   "source": [
    "$$x+1 = 0$$"
   ]
  },
  {
   "cell_type": "markdown",
   "metadata": {},
   "source": [
    "$$x=-1$$"
   ]
  },
  {
   "cell_type": "markdown",
   "metadata": {},
   "source": [
    "### 53. $\\frac{1}{x+2} + \\frac{1}{x} = 1$"
   ]
  },
  {
   "cell_type": "markdown",
   "metadata": {},
   "source": [
    "$$\\frac{x}{x^2+2x} + \\frac{x+2}{x^2+2x}=1$$"
   ]
  },
  {
   "cell_type": "markdown",
   "metadata": {},
   "source": [
    "$$\\frac{-x^2+2}{x^2+2x}=0$$"
   ]
  },
  {
   "cell_type": "markdown",
   "metadata": {},
   "source": [
    "$$x=\\frac{0 \\pm \\sqrt{(0)^2 - 4(-1)(2)}}{-2}$$"
   ]
  },
  {
   "cell_type": "markdown",
   "metadata": {},
   "source": [
    "$$x=\\frac{0 \\pm \\sqrt{8}}{-1} = \\frac{0 \\pm 2\\sqrt{2}}{-1} = \\sqrt{2}, -\\sqrt{2} = -1.414, 1.414$$"
   ]
  },
  {
   "cell_type": "markdown",
   "metadata": {},
   "source": [
    "### 54. $\\frac{x+5}{x+2} = \\frac{x-4}{x-10}$"
   ]
  },
  {
   "cell_type": "markdown",
   "metadata": {},
   "source": [
    "$$(x+5)(x-10) = (x+2)(x-4)$$"
   ]
  },
  {
   "cell_type": "markdown",
   "metadata": {},
   "source": [
    "$$x^2-5x-50 = x^2-2x-8$$"
   ]
  },
  {
   "cell_type": "markdown",
   "metadata": {},
   "source": [
    "$$3x=-42$$"
   ]
  },
  {
   "cell_type": "markdown",
   "metadata": {},
   "source": [
    "$$x=-14$$"
   ]
  },
  {
   "cell_type": "markdown",
   "metadata": {},
   "source": [
    "### 55. $\\frac{1}{x-2} - \\frac{2}{x-3} = \\frac{-1}{x^2-5x+6}$"
   ]
  },
  {
   "cell_type": "markdown",
   "metadata": {},
   "source": [
    "$$(x-3) - (2(x-2)) = -1$$"
   ]
  },
  {
   "cell_type": "markdown",
   "metadata": {},
   "source": [
    "$$-x+1 = -1$$"
   ]
  },
  {
   "cell_type": "markdown",
   "metadata": {},
   "source": [
    "$$-x = -2$$"
   ]
  },
  {
   "cell_type": "markdown",
   "metadata": {},
   "source": [
    "$$x = 2$$"
   ]
  },
  {
   "cell_type": "markdown",
   "metadata": {},
   "source": [
    "But x cannot be 2. No real solutions."
   ]
  },
  {
   "cell_type": "markdown",
   "metadata": {},
   "source": [
    "### 56. $x^2 - 4x - 32 < 0$"
   ]
  },
  {
   "cell_type": "markdown",
   "metadata": {},
   "source": [
    "$$(x+4)(x-8) < 0$$"
   ]
  },
  {
   "cell_type": "markdown",
   "metadata": {},
   "source": [
    "$$x=-4, x=8$$"
   ]
  },
  {
   "cell_type": "markdown",
   "metadata": {},
   "source": [
    "Now test each interval.  \n",
    "$x < -4$: positive  \n",
    "$-4 < x < 8$: negative  \n",
    "$8 < x$: positive"
   ]
  },
  {
   "cell_type": "markdown",
   "metadata": {},
   "source": [
    "$$-4 \\lt x \\lt 8$$"
   ]
  },
  {
   "cell_type": "markdown",
   "metadata": {},
   "source": [
    "### 57. $2x^4 + 2x^3 \\ge 12x^2$"
   ]
  },
  {
   "cell_type": "markdown",
   "metadata": {},
   "source": [
    "$$2x^4 + 2x^3 -12x^2 \\ge0$$"
   ]
  },
  {
   "cell_type": "markdown",
   "metadata": {},
   "source": [
    "$$2x^2(x^2 + x - 6) \\ge 0$$"
   ]
  },
  {
   "cell_type": "markdown",
   "metadata": {},
   "source": [
    "$$2x^2(x+3)(x-2) \\ge 0$$"
   ]
  },
  {
   "cell_type": "markdown",
   "metadata": {},
   "source": [
    "$$x=0, x=-3, x=2$$"
   ]
  },
  {
   "cell_type": "markdown",
   "metadata": {},
   "source": [
    "Test each interval.  \n",
    "$-3 > x$: positive  \n",
    "$-3 < x < 0$: negative  \n",
    "$0 < x < 2$: negative  \n",
    "$x > 2$: positive"
   ]
  },
  {
   "cell_type": "markdown",
   "metadata": {},
   "source": [
    "$$x \\le -3, x = 0, x \\ge 2$$"
   ]
  },
  {
   "cell_type": "markdown",
   "metadata": {},
   "source": [
    "### 58. $\\frac{(x+1)(x-2)}{x+3} \\lt 0$"
   ]
  },
  {
   "cell_type": "markdown",
   "metadata": {},
   "source": [
    "$$(x+1)(x-2) \\lt 0, x \\lt -1, x \\lt 2, x \\ne -3$$"
   ]
  },
  {
   "cell_type": "markdown",
   "metadata": {},
   "source": [
    "Must check intervals between each of the points.\n",
    "\n",
    "$x < -3$: negative\n",
    "$-3 < x < -1$: positive\n",
    "$-1 < x < 2$: negative\n",
    "$2 < x$: positive"
   ]
  },
  {
   "cell_type": "markdown",
   "metadata": {},
   "source": [
    "$$x \\lt -3 \\cup -1 \\lt x \\lt2$$"
   ]
  },
  {
   "cell_type": "markdown",
   "metadata": {},
   "source": [
    "### 59. $\\frac{1}{x-1} + \\frac{1}{x+1} \\gt \\frac{3}{4}$"
   ]
  },
  {
   "cell_type": "markdown",
   "metadata": {},
   "source": [
    "$$(x+1)+(x-1) > \\frac{3(x+1)(x-1)}{4}$$"
   ]
  },
  {
   "cell_type": "markdown",
   "metadata": {},
   "source": [
    "$$2x > \\frac{3}{4}x^2-\\frac{3}{4}$$"
   ]
  },
  {
   "cell_type": "markdown",
   "metadata": {},
   "source": [
    "$$\\frac{3}{4}x^2-2x-\\frac{3}{4} < 0$$"
   ]
  },
  {
   "cell_type": "markdown",
   "metadata": {},
   "source": [
    "$$3x^2 - 8x -3 < 0$$"
   ]
  },
  {
   "cell_type": "markdown",
   "metadata": {},
   "source": [
    "$$\\frac{-(-8) \\pm \\sqrt{(-8)^2 - 4(3)(-3)}}{6} = \\frac{8 \\pm \\sqrt{100}}{6} = \\frac{8\\pm 10}{6} = 3, -\\frac{1}{3}$$"
   ]
  },
  {
   "cell_type": "markdown",
   "metadata": {},
   "source": [
    "Check each interval.  Note that $x \\ne -1, 1$.  \n",
    "$x < -1$: negative  \n",
    "$-1 < x < -1/3$: positive  \n",
    "$-1/3 < x < 1$: negative  \n",
    "$1 < x < 3$: positive\n",
    "$3 < x$: negative"
   ]
  },
  {
   "cell_type": "markdown",
   "metadata": {},
   "source": [
    "$$-1 \\lt x \\lt -\\frac{1}{3}, 1 \\lt x \\lt 3$$"
   ]
  },
  {
   "cell_type": "markdown",
   "metadata": {},
   "source": [
    "### 60. $|2x-1| < 4$"
   ]
  },
  {
   "cell_type": "markdown",
   "metadata": {},
   "source": [
    "$$-4 > 2x-1 < 4$$\n",
    "$$-3 > 2x < 5$$\n",
    "$$-\\frac{3}{2} > x < \\frac{5}{2}$$\n",
    "$$\\left(-\\frac{3}{2}, \\frac{5}{2}\\right)$$"
   ]
  },
  {
   "cell_type": "markdown",
   "metadata": {},
   "source": [
    "### 61. $|5x-7| > 2$"
   ]
  },
  {
   "cell_type": "markdown",
   "metadata": {},
   "source": [
    "$$-2 < 5x - 7 \\cup 5x - 7 > 2$$\n",
    "$$5 < 5x \\cup 5x > 9$$\n",
    "$$1 < x \\cup x > \\frac{9}{5}$$"
   ]
  },
  {
   "cell_type": "markdown",
   "metadata": {},
   "source": [
    "### 62. $|-3x+1| \\le 5$"
   ]
  },
  {
   "cell_type": "markdown",
   "metadata": {},
   "source": [
    "$$-5 \\ge -3x + 1 \\le 5$$\n",
    "$$-6 \\ge -3x \\le 4$$\n",
    "$$-2 \\ge -x \\le \\frac{4}{3}$$\n",
    "$$2 \\le x \\ge -\\frac{4}{3}$$\n",
    "$$[-\\frac{4}{3}, 2]$$"
   ]
  },
  {
   "cell_type": "markdown",
   "metadata": {},
   "source": [
    "### 63. What is the slope of the line that goes through the points $(1, 2)$ and $(5, 9)$?"
   ]
  },
  {
   "cell_type": "markdown",
   "metadata": {},
   "source": [
    "$$m = \\frac{\\Delta y}{\\Delta x} = \\frac{9-2}{5-1} = \\frac{7}{4}$$"
   ]
  },
  {
   "cell_type": "markdown",
   "metadata": {},
   "source": [
    "### 64. What is the equation of the line that has a slope of 4 and goes through the point $(0,5)$?"
   ]
  },
  {
   "cell_type": "markdown",
   "metadata": {},
   "source": [
    "$$y = mx + b$$\n",
    "$$y - 5 = 4(x-0)$$\n",
    "$$y = 4x + 5$$"
   ]
  },
  {
   "cell_type": "markdown",
   "metadata": {},
   "source": [
    "### 65. What is the equation of the line that goes through the points $(-2, 3)$ and $(4, 8)$?"
   ]
  },
  {
   "cell_type": "markdown",
   "metadata": {},
   "source": [
    "$$m = \\frac{8-3}{4-(-2)} = \\frac{5}{6}$$\n",
    "$$y - 8 = \\frac{5}{6}(x-4)$$\n",
    "$$y = \\frac{5}{6}x - \\frac{20}{6} + 8$$\n",
    "$$y = \\frac{5}{6}x + \\frac{14}{3}$$"
   ]
  },
  {
   "cell_type": "markdown",
   "metadata": {},
   "source": [
    "### 66. Find the equation of the line that goes through the point $(1,5)$ and is parallel to the line $y=\\frac{3}{4}x + 8$."
   ]
  },
  {
   "cell_type": "markdown",
   "metadata": {},
   "source": [
    "$$m = \\frac{3}{4}$$  \n",
    "$$y - 5 = \\frac{3}{4}(x-1)$$  \n",
    "$$y = \\frac{3}{4}x - \\frac{3}{4} + 5$$  \n",
    "$$y = \\frac{3}{4}x + \\frac{17}{4}$$"
   ]
  },
  {
   "cell_type": "markdown",
   "metadata": {},
   "source": [
    "### 67. Find the equation of the line that goes through the point $(3,-4)$ and is perpendicular to the line that goes through the points $(3,-4)$ and $(-6,2)$."
   ]
  },
  {
   "cell_type": "markdown",
   "metadata": {},
   "source": [
    "$$m_p = \\frac{-4-2}{3-(-6)} = \\frac{-6}{9} = -\\frac{2}{3}$$\n",
    "$$m = -\\frac{1}{m_p} = \\frac{3}{2}$$\n",
    "$$y - (-4) = \\frac{3}{2}(x-3)$$\n",
    "$$y + 4 = \\frac{3}{2}x - \\frac{9}{2}$$\n",
    "$$y = \\frac{3}{2}x - \\frac{17}{2}$$"
   ]
  },
  {
   "cell_type": "markdown",
   "metadata": {},
   "source": [
    "### 68. What is the equation of the graph of $y = \\sqrt{x}$ after you stretch it vertically by a factor of 2, shift the graph 3 units to the right, and then shift it 4 units upward?"
   ]
  },
  {
   "cell_type": "markdown",
   "metadata": {},
   "source": [
    "$$y = 2\\sqrt{x - 3} + 4$$"
   ]
  },
  {
   "cell_type": "code",
   "execution_count": 10,
   "metadata": {},
   "outputs": [
    {
     "data": {
      "text/plain": [
       "[<matplotlib.lines.Line2D at 0x10aa26d90>]"
      ]
     },
     "execution_count": 10,
     "metadata": {},
     "output_type": "execute_result"
    },
    {
     "data": {
      "image/png": "[encoded data removed]",
      "text/plain": [
       "<matplotlib.figure.Figure at 0x10a95a890>"
      ]
     },
     "metadata": {},
     "output_type": "display_data"
    }
   ],
   "source": [
    "f = lambda x: x**0.5\n",
    "x = np.arange(0, 7, 0.1)\n",
    "y = f(x)\n",
    "plt.grid()\n",
    "plt.ylim(0, 8)\n",
    "plt.plot(x, y)\n",
    "f = lambda x:2*(x - 3.0)**0.5 + 4\n",
    "x = np.arange(3, 7, 0.1)\n",
    "y = f(x)\n",
    "plt.plot(x, y)"
   ]
  },
  {
   "cell_type": "markdown",
   "metadata": {},
   "source": [
    "### 69. Find the vertex form of the parabola that passes through the point $(0,2)$ and has a vertex at $(-2,-4)$."
   ]
  },
  {
   "cell_type": "markdown",
   "metadata": {},
   "source": [
    "$$y - 2 = -\\frac{3}{2}(x-0)^2$$"
   ]
  },
  {
   "cell_type": "code",
   "execution_count": 25,
   "metadata": {},
   "outputs": [
    {
     "data": {
      "text/plain": [
       "[<matplotlib.lines.Line2D at 0x10b618a90>]"
      ]
     },
     "execution_count": 25,
     "metadata": {},
     "output_type": "execute_result"
    },
    {
     "data": {
      "image/png": "[encoded data removed]",
      "text/plain": [
       "<matplotlib.figure.Figure at 0x10b618b10>"
      ]
     },
     "metadata": {},
     "output_type": "display_data"
    }
   ],
   "source": [
    "x = np.arange(-2.5, 2.5, 0.1)\n",
    "f = lambda x: -(3./2.)*x**2 + 2\n",
    "y = f(x)\n",
    "plt.ylim(-5, 3)\n",
    "plt.grid()\n",
    "plt.plot(x, y)"
   ]
  },
  {
   "cell_type": "markdown",
   "metadata": {},
   "source": [
    "### 70. Find the vertex form of the parabola that passes through the point $(1,2)$ and has a vertext at $(-1,6)$."
   ]
  },
  {
   "cell_type": "markdown",
   "metadata": {},
   "source": [
    "$$\\Delta x = 2$$\n",
    "$$\\Delta y = -4$$\n",
    "$$m = \\frac{2^2}{-4} = -1$$\n",
    "$$y - 6 = -(x+1)^2$$"
   ]
  },
  {
   "cell_type": "code",
   "execution_count": 27,
   "metadata": {},
   "outputs": [
    {
     "data": {
      "text/plain": [
       "[<matplotlib.lines.Line2D at 0x10b5e7950>]"
      ]
     },
     "execution_count": 27,
     "metadata": {},
     "output_type": "execute_result"
    },
    {
     "data": {
      "image/png": "[encoded data removed]",
      "text/plain": [
       "<matplotlib.figure.Figure at 0x10b5e7e90>"
      ]
     },
     "metadata": {},
     "output_type": "display_data"
    }
   ],
   "source": [
    "x = np.arange(-4, 2, 0.1)\n",
    "f = lambda x: -(x+1.)**2 + 6\n",
    "y = f(x)\n",
    "plt.grid()\n",
    "plt.plot(x,y)"
   ]
  },
  {
   "cell_type": "markdown",
   "metadata": {},
   "source": [
    "### 71. A parabola has the vertex form $y=3(x+1)^2 + 44$. What is the vertex form of this parabola if it's shifted 6 units to the right and 2 units down?"
   ]
  },
  {
   "cell_type": "markdown",
   "metadata": {},
   "source": [
    "$$y = 3(x+1-6)^2 + 44 - 2$$\n",
    "$$y = 3(x-5)^2 + 42$$"
   ]
  },
  {
   "cell_type": "code",
   "execution_count": 37,
   "metadata": {},
   "outputs": [
    {
     "data": {
      "text/plain": [
       "[<matplotlib.lines.Line2D at 0x10bf93150>]"
      ]
     },
     "execution_count": 37,
     "metadata": {},
     "output_type": "execute_result"
    },
    {
     "data": {
      "image/png": "[encoded data removed]",
      "text/plain": [
       "<matplotlib.figure.Figure at 0x10bf930d0>"
      ]
     },
     "metadata": {},
     "output_type": "display_data"
    }
   ],
   "source": [
    "x = np.arange(-5, 10, 0.1)\n",
    "f = lambda x: 3.*(x+1.)**2 + 44.\n",
    "plt.xlim(-5, 10)\n",
    "plt.ylim(41, 70)\n",
    "plt.grid()\n",
    "y = f(x)\n",
    "plt.plot(x,y)\n",
    "\n",
    "f = lambda x: 3.*(x-5.)**2 + 42.\n",
    "y = f(x)\n",
    "plt.plot(x,y)"
   ]
  },
  {
   "cell_type": "markdown",
   "metadata": {},
   "source": [
    "### 72. What is the equation of the graph $y=e^x$ after you compress the graph horizontally by a factor of 2, reflect it across the y axis, and shift it down 5 units?"
   ]
  },
  {
   "cell_type": "markdown",
   "metadata": {},
   "source": [
    "$$y=-2e^{x}-5$$"
   ]
  },
  {
   "cell_type": "code",
   "execution_count": 14,
   "metadata": {},
   "outputs": [
    {
     "data": {
      "text/plain": [
       "[<matplotlib.lines.Line2D at 0x10b6a9210>]"
      ]
     },
     "execution_count": 14,
     "metadata": {},
     "output_type": "execute_result"
    },
    {
     "data": {
      "image/png": "[encoded data removed]",
      "text/plain": [
       "<matplotlib.figure.Figure at 0x10b2bff50>"
      ]
     },
     "metadata": {},
     "output_type": "display_data"
    }
   ],
   "source": [
    "from math import exp\n",
    "x=np.arange(-3, 3, 0.1)\n",
    "f = lambda x:-2.*np.exp(x)-5\n",
    "y=f(x)\n",
    "plt.grid()\n",
    "plt.ylim(-15, 10)\n",
    "plt.plot(x, y)\n",
    "f = lambda x:np.exp(x)\n",
    "y = f(x)\n",
    "plt.plot(x,y)"
   ]
  },
  {
   "cell_type": "markdown",
   "metadata": {},
   "source": [
    "### 73. What is the equation of the graph $y=|x|$ after you stretch the graph horizontally by a factor of 5, reflect it across the x axis, and shift it up 3 units?"
   ]
  },
  {
   "cell_type": "markdown",
   "metadata": {},
   "source": [
    "$$y=\\frac{1}{5}|-x| + 3$$"
   ]
  },
  {
   "cell_type": "code",
   "execution_count": 16,
   "metadata": {},
   "outputs": [
    {
     "data": {
      "text/plain": [
       "[<matplotlib.lines.Line2D at 0x10b9226d0>]"
      ]
     },
     "execution_count": 16,
     "metadata": {},
     "output_type": "execute_result"
    },
    {
     "data": {
      "image/png": "[encoded data removed]",
      "text/plain": [
       "<matplotlib.figure.Figure at 0x10b922810>"
      ]
     },
     "metadata": {},
     "output_type": "display_data"
    }
   ],
   "source": [
    "x = np.arange(-5, 5, 0.1)\n",
    "f = lambda x: 0.2*np.abs(-x) + 3\n",
    "y = f(x)\n",
    "plt.grid()\n",
    "plt.plot(x, y)\n",
    "f = lambda x: np.abs(x)\n",
    "y = f(x)\n",
    "plt.plot(x, y)"
   ]
  },
  {
   "cell_type": "markdown",
   "metadata": {},
   "source": [
    "### 74. Find the equation of the third-degree polynomial that goes through the points $(-4,0)$, $(-2,0)$, $(0,3)$ and $(1,0)$."
   ]
  },
  {
   "cell_type": "markdown",
   "metadata": {},
   "source": [
    "Solutions are $x=-4, -2, 1$\n",
    "\n",
    "$$y=m(x+4)(x+2)(x-1)$$\n",
    "$$y=m(x^2+6x+8)(x-1)$$\n",
    "$$y=m(x^3-x^2+6x^2-6x+8x-8)$$\n",
    "$$y=m(x^3+5x^2+2x-8)$$\n",
    "We know that when $x=0$, $y=3$ so $-8m = 3$ and thus $m=-\\frac{3}{8}$.\n",
    "$$y=-\\frac{3}{8}x^3 - \\frac{15}{8}x^2 -\\frac{3}{4}x + 3$$"
   ]
  },
  {
   "cell_type": "code",
   "execution_count": 36,
   "metadata": {},
   "outputs": [
    {
     "data": {
      "text/plain": [
       "[<matplotlib.lines.Line2D at 0x10c48fa50>]"
      ]
     },
     "execution_count": 36,
     "metadata": {},
     "output_type": "execute_result"
    },
    {
     "data": {
      "image/png": "[encoded data removed]",
      "text/plain": [
       "<matplotlib.figure.Figure at 0x10c92ed90>"
      ]
     },
     "metadata": {},
     "output_type": "display_data"
    }
   ],
   "source": [
    "x = [-4,-2, 0, 1]\n",
    "y = [0,0,3,0]\n",
    "plt.grid()\n",
    "plt.plot(x,y, 'ro')\n",
    "x = np.arange(-5,2,0.1)\n",
    "f = lambda x: (-3./8)*x**3 - (15./8.)*x**2 - (3./4.)*x + 3.\n",
    "y = f(x)\n",
    "plt.plot(x,y)"
   ]
  },
  {
   "cell_type": "markdown",
   "metadata": {},
   "source": [
    "### 75. Find the equation of the fourth-degree polynomial that goes through the point $(1,4)$ and has the roots $-1, 2, 3$ where $3$ is a repeated root."
   ]
  },
  {
   "cell_type": "markdown",
   "metadata": {},
   "source": [
    "$$y=m(x+1)(x-2)(x-3)(x-3)$$\n",
    "$$y=m(x^2-x-2)(x^2-6x+9)$$\n",
    "$$y=m(x^4-6x^3+9x^2-x^3+6x^2-9x-2x^2+12x-18)$$\n",
    "$$y=m(x^4-7x^3+13x^2+3x-18)$$\n",
    "$$4 = m(1^4-7(1^3)+13(1^2)+3(1)-18)$$\n",
    "$$4 = -8m$$\n",
    "$$m = -\\frac{1}{2}$$\n",
    "$$y = -\\frac{1}{2}x^4 + \\frac{7}{2}x^3 - \\frac{13}{2}x^2 - \\frac{3}{2}x + 9$$"
   ]
  },
  {
   "cell_type": "code",
   "execution_count": 52,
   "metadata": {},
   "outputs": [
    {
     "data": {
      "text/plain": [
       "[<matplotlib.lines.Line2D at 0x10c740dd0>]"
      ]
     },
     "execution_count": 52,
     "metadata": {},
     "output_type": "execute_result"
    },
    {
     "data": {
      "image/png": "[encoded data removed]",
      "text/plain": [
       "<matplotlib.figure.Figure at 0x10d2e4850>"
      ]
     },
     "metadata": {},
     "output_type": "display_data"
    }
   ],
   "source": [
    "x = [-1,2,3,1]\n",
    "y = [0,0,0,4]\n",
    "plt.grid()\n",
    "plt.plot(x,y,'ro')\n",
    "\n",
    "x = np.arange(-1.1, 3.2, 0.1)\n",
    "f = lambda x: -0.5*x**4 + (7./2.)*x**3 - (13./2.)*x**2 - (3./2.)*x + 9\n",
    "y=f(x)\n",
    "plt.plot(x,y)"
   ]
  },
  {
   "cell_type": "markdown",
   "metadata": {},
   "source": [
    "### 76. A parabola crosses the x axis at the points $(-4, 0)$ and $(6, 0)$. If the point $(0,8)$ is on the parabola, what is the equation of the parabola?"
   ]
  },
  {
   "cell_type": "markdown",
   "metadata": {},
   "source": [
    "$$y = m(x+4)(x-6)$$\n",
    "$$y = m(x^2 -2x -24)$$\n",
    "$$8 = m(0^2 - 2(0) - 24)$$\n",
    "$$8 = -24m$$\n",
    "$$m = -\\frac{1}{3}$$\n",
    "$$y = -\\frac{1}{3}x^2 +\\frac{2}{3}x + 8$$"
   ]
  },
  {
   "cell_type": "code",
   "execution_count": 56,
   "metadata": {},
   "outputs": [
    {
     "data": {
      "text/plain": [
       "[<matplotlib.lines.Line2D at 0x10bb9a110>]"
      ]
     },
     "execution_count": 56,
     "metadata": {},
     "output_type": "execute_result"
    },
    {
     "data": {
      "image/png": "[encoded data removed]",
      "text/plain": [
       "<matplotlib.figure.Figure at 0x10d8ae410>"
      ]
     },
     "metadata": {},
     "output_type": "display_data"
    }
   ],
   "source": [
    "x = [-4, 6, 0]\n",
    "y = [0,0,8]\n",
    "plt.grid()\n",
    "plt.plot(x,y,'ro')\n",
    "x = np.arange(-4.1, 6.1, 0.1)\n",
    "f = lambda x:(-1./3.)*x**2 + (2./3.)*x + 8\n",
    "y=f(x)\n",
    "plt.plot(x,y)"
   ]
  },
  {
   "cell_type": "markdown",
   "metadata": {},
   "source": [
    "### 77. A parabola crosses the x axis at the points $(-8,0)$ and $(-2,0)$ and the point $(-4,-12)$ is on the parabola. What is the equation of the parabola?"
   ]
  },
  {
   "cell_type": "markdown",
   "metadata": {},
   "source": [
    "$$y=m(x+8)(x+2)$$\n",
    "$$y = m(x^2 + 10x + 16)$$\n",
    "$$-12 = m((-4)^2 + 10(-4) + 16)$$\n",
    "$$-12 = m(-8)$$\n",
    "$$m = \\frac{3}{2}$$\n",
    "$$y = \\frac{3}{2}x^2 + 15x + 24$$"
   ]
  },
  {
   "cell_type": "code",
   "execution_count": 58,
   "metadata": {},
   "outputs": [
    {
     "data": {
      "text/plain": [
       "[<matplotlib.lines.Line2D at 0x10db24790>]"
      ]
     },
     "execution_count": 58,
     "metadata": {},
     "output_type": "execute_result"
    },
    {
     "data": {
      "image/png": "[encoded data removed]",
      "text/plain": [
       "<matplotlib.figure.Figure at 0x10d999810>"
      ]
     },
     "metadata": {},
     "output_type": "display_data"
    }
   ],
   "source": [
    "x=[-8,-2,-4]\n",
    "y=[0,0,-12]\n",
    "plt.grid()\n",
    "plt.plot(x,y,'ro')\n",
    "x = np.arange(-8.2,-1.8,0.1)\n",
    "f = lambda x:1.5*x**2 + 15.*x + 24.\n",
    "y = f(x)\n",
    "plt.plot(x, y)"
   ]
  },
  {
   "cell_type": "markdown",
   "metadata": {},
   "source": [
    "For 78-80, the book has graphs for which domains and ranges are to be identified."
   ]
  },
  {
   "cell_type": "markdown",
   "metadata": {},
   "source": [
    "### 78.\n",
    "Domain: $[-2, \\infty)$  \n",
    "Range: $[1, \\infty)$"
   ]
  },
  {
   "cell_type": "markdown",
   "metadata": {},
   "source": [
    "### 79.\n",
    "Domain: $[-5,3]$  \n",
    "Range: $[-2,2]$"
   ]
  },
  {
   "cell_type": "markdown",
   "metadata": {},
   "source": [
    "### 80.\n",
    "Domain: $(-\\infty, -1) \\cup [2, \\infty)$  \n",
    "Range: $(-3,-1) \\cup [2,4)$"
   ]
  },
  {
   "cell_type": "markdown",
   "metadata": {},
   "source": [
    "For 81-82, find the end behavior of the given polynomials."
   ]
  },
  {
   "cell_type": "markdown",
   "metadata": {},
   "source": [
    "### 81. $f(x) = 3x^6 - 40x^5 + 33$"
   ]
  },
  {
   "cell_type": "markdown",
   "metadata": {},
   "source": [
    "$$\\lim_{x \\to -\\infty} = \\infty$$\n",
    "$$\\lim_{x \\to \\infty} = \\infty$$"
   ]
  },
  {
   "cell_type": "markdown",
   "metadata": {},
   "source": [
    "### 82. $f(x) = -7x^9  + 33x^8 -51x^7 + 19x^4 - 1$"
   ]
  },
  {
   "cell_type": "markdown",
   "metadata": {},
   "source": [
    "$$\\lim_{x \\to -\\infty} = \\infty$$\n",
    "$$\\lim_{x \\to \\infty} =  -\\infty$$"
   ]
  },
  {
   "cell_type": "markdown",
   "metadata": {},
   "source": [
    "Add the following polynomials."
   ]
  },
  {
   "cell_type": "markdown",
   "metadata": {},
   "source": [
    "### 83. $(5x + 6) + (-2x+6)$"
   ]
  },
  {
   "cell_type": "markdown",
   "metadata": {},
   "source": [
    "$$3x + 12$$"
   ]
  },
  {
   "cell_type": "code",
   "execution_count": null,
   "metadata": {},
   "outputs": [],
   "source": []
  }
 ],
 "metadata": {
  "kernelspec": {
   "display_name": "Python 2",
   "language": "python",
   "name": "python2"
  },
  "language_info": {
   "codemirror_mode": {
    "name": "ipython",
    "version": 2
   },
   "file_extension": ".py",
   "mimetype": "text/x-python",
   "name": "python",
   "nbconvert_exporter": "python",
   "pygments_lexer": "ipython2",
   "version": "2.7.13"
  }
 },
 "nbformat": 4,
 "nbformat_minor": 2
}
