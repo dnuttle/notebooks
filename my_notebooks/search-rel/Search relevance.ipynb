{
 "cells": [
  {
   "cell_type": "markdown",
   "metadata": {},
   "source": [
    "#Search Relevance"
   ]
  },
  {
   "cell_type": "markdown",
   "metadata": {},
   "source": [
    "##The Formula\n",
    "\n",
    "Show the whole formula\n",
    "\n",
    "relevance = cosine similarity * term frequency * inverse document frequency"
   ]
  },
  {
   "cell_type": "code",
   "execution_count": 6,
   "metadata": {},
   "outputs": [
    {
     "data": {
      "text/plain": [
       "0.0"
      ]
     },
     "execution_count": 6,
     "metadata": {},
     "output_type": "execute_result"
    }
   ],
   "source": [
    "def dot(x, y):\n",
    "    return sum(map(lambda x,y:x*y, x, y))\n",
    "def norm(x):\n",
    "    return sum(map(lambda x:x*x, x))**0.5\n",
    "def cs(x, y):\n",
    "    normx = norm(x)\n",
    "    normy = norm(y)\n",
    "    if normx == 0 or normy == 0:\n",
    "        return 0\n",
    "    return dot(x,y) / (normx * normy)\n",
    "doc1 = [1,0]\n",
    "doc2 = [0,6]\n",
    "cs(doc1, doc2)"
   ]
  },
  {
   "cell_type": "code",
   "execution_count": 39,
   "metadata": {},
   "outputs": [
    {
     "name": "stdout",
     "output_type": "stream",
     "text": [
      "22\n"
     ]
    }
   ],
   "source": [
    "doc1 = \"\"\"\n",
    "This is a document that may have some repeating terms. The idea is to determine which terms are in the document\n",
    "and get a count of how many times each term occurs. We want to tokenize the document, then stem it.\n",
    "\"\"\"\n",
    "from nltk import word_tokenize\n",
    "from nltk.corpus import stopwords\n",
    "doc2 = doc1.lower()\n",
    "terms = word_tokenize(doc2)\n",
    "terms = [word for word in terms if not word in stopwords.words('english')]\n",
    "print(len(terms))"
   ]
  },
  {
   "cell_type": "code",
   "execution_count": 40,
   "metadata": {},
   "outputs": [
    {
     "name": "stdout",
     "output_type": "stream",
     "text": [
      "defaultdict(<type 'int'>, {'count': 1, 'term': 1, 'terms': 2, 'want': 1, 'get': 1, 'may': 1, 'many': 1, 'idea': 1, ',': 1, '.': 3, 'determine': 1, 'tokenize': 1, 'repeating': 1, 'document': 3, 'occurs': 1, 'stem': 1, 'times': 1})\n"
     ]
    }
   ],
   "source": [
    "#defaultdict is a dict that uses a default value when a request is made for a key that is not stored in the dict.\n",
    "#so it's a kind of sparse dict.\n",
    "from collections import defaultdict\n",
    "dictionary = defaultdict(int)\n",
    "for term in terms:\n",
    "    dictionary[term] += 1\n",
    "print(dictionary)"
   ]
  },
  {
   "cell_type": "code",
   "execution_count": 27,
   "metadata": {},
   "outputs": [
    {
     "data": {
      "text/plain": [
       "[('and', 1),\n",
       " ('have', 1),\n",
       " ('then', 1),\n",
       " ('is', 2),\n",
       " ('some', 1),\n",
       " ('idea', 1),\n",
       " ('are', 1),\n",
       " ('determine', 1),\n",
       " ('in', 1),\n",
       " ('want', 1),\n",
       " ('how', 1),\n",
       " ('that', 1),\n",
       " (',', 1),\n",
       " ('.', 3),\n",
       " ('to', 2),\n",
       " ('which', 1),\n",
       " ('tokenize', 1),\n",
       " ('it', 1),\n",
       " ('document', 3),\n",
       " ('occurs', 1),\n",
       " ('count', 1),\n",
       " ('we', 1),\n",
       " ('terms', 2),\n",
       " ('get', 1),\n",
       " ('may', 1),\n",
       " ('each', 1),\n",
       " ('stem', 1),\n",
       " ('the', 3),\n",
       " ('a', 2),\n",
       " ('term', 1),\n",
       " ('this', 1),\n",
       " ('of', 1),\n",
       " ('times', 1),\n",
       " ('many', 1),\n",
       " ('repeating', 1)]"
      ]
     },
     "execution_count": 27,
     "metadata": {},
     "output_type": "execute_result"
    }
   ],
   "source": [
    "dictionary.items()"
   ]
  },
  {
   "cell_type": "markdown",
   "metadata": {},
   "source": [
    "$ \\text{Similarity} = \\text{cos_freq}(d, q) \\cdot \\sum_{i=1}^{n} [\\text{tf} (t_i) \\cdot \\text{idf}()]$"
   ]
  },
  {
   "cell_type": "code",
   "execution_count": null,
   "metadata": {},
   "outputs": [],
   "source": []
  }
 ],
 "metadata": {
  "kernelspec": {
   "display_name": "Python 2",
   "language": "python",
   "name": "python2"
  },
  "language_info": {
   "codemirror_mode": {
    "name": "ipython",
    "version": 2
   },
   "file_extension": ".py",
   "mimetype": "text/x-python",
   "name": "python",
   "nbconvert_exporter": "python",
   "pygments_lexer": "ipython2",
   "version": "2.7.13"
  }
 },
 "nbformat": 4,
 "nbformat_minor": 2
}
