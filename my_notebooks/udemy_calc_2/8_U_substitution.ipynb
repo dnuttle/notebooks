{
 "cells": [
  {
   "cell_type": "markdown",
   "metadata": {},
   "source": [
    "## Quiz 29: U-substitution in definite integrals"
   ]
  },
  {
   "cell_type": "markdown",
   "metadata": {},
   "source": [
    "### Question 1"
   ]
  },
  {
   "cell_type": "markdown",
   "metadata": {},
   "source": [
    "Use u-substitution to evaluate the definite integral.\n",
    "\n",
    "The lesson to learn from this question is that people who come up with calculus problems try to be as tricky as possible, and give you a problem that seems to look like you can't solve it with the tools you have so far. This is never correct, of course.\n",
    "\n",
    "In particular, when the question specifically asks for u-substitution, it is a given that there is a term in the original function that can be eliminated by substituting the derivative of $u$ in for $dx$. It's a question of finding it. And this may involve things like trig identities."
   ]
  },
  {
   "cell_type": "markdown",
   "metadata": {},
   "source": [
    "$$\\int_0^{\\pi/2} \\sin^5 x\\ dx$$"
   ]
  },
  {
   "cell_type": "markdown",
   "metadata": {},
   "source": [
    "The goal is always to find something in the original function that can be eliminated by the derivative of u. All we have in this function is $\\sin^5$, which can be broken down."
   ]
  },
  {
   "cell_type": "markdown",
   "metadata": {},
   "source": [
    "$$\\int_0^{\\pi/2} \\sin x \\cdot \\sin^4 x\\ dx$$"
   ]
  },
  {
   "cell_type": "markdown",
   "metadata": {},
   "source": [
    "Now the derivative of $u$ might be able to eliminate the $\\sin x$. To do that, $du/dx$ must be $c\\cdot \\sin x$. The antiderivative of $\\sin x$ is $-\\cos x$, so the goal is for $u$ to be $c \\cdot \\cos x$."
   ]
  },
  {
   "cell_type": "markdown",
   "metadata": {},
   "source": [
    "$$\\int_0^{\\pi/2} \\sin x \\cdot \\left( \\sin^2 x \\right)^2\\ dx = \\int_0^{\\pi/2} \\sin x \\cdot \\left( 1 - \\cos^2 x \\right)^2\\ dx$$"
   ]
  },
  {
   "cell_type": "markdown",
   "metadata": {},
   "source": [
    "Now $u$ can be set to $\\cos x$."
   ]
  },
  {
   "cell_type": "markdown",
   "metadata": {},
   "source": [
    "$$\\int_0^{\\pi/2} = \\sin x \\cdot (1 - u^2)^2\\ dx$$"
   ]
  },
  {
   "cell_type": "markdown",
   "metadata": {},
   "source": [
    "$$u = \\cos x$$"
   ]
  },
  {
   "cell_type": "markdown",
   "metadata": {},
   "source": [
    "$$du = -\\sin x\\ dx$$"
   ]
  },
  {
   "cell_type": "markdown",
   "metadata": {},
   "source": [
    "$$dx = \\frac{du}{-\\sin x}$$"
   ]
  },
  {
   "cell_type": "markdown",
   "metadata": {},
   "source": [
    "Next, expand the original function."
   ]
  },
  {
   "cell_type": "markdown",
   "metadata": {},
   "source": [
    "$$\\int_0^{\\pi/2} \\sin x \\cdot(1 - 2u^2 + u^4)\\ dx$$"
   ]
  },
  {
   "cell_type": "markdown",
   "metadata": {},
   "source": [
    "Substitute for $dx$ into the function."
   ]
  },
  {
   "cell_type": "markdown",
   "metadata": {},
   "source": [
    "$$\\int_0^{\\pi/2} \\sin x \\cdot (1-2u^2 + u^4) \\frac{du}{-\\sin x}$$"
   ]
  },
  {
   "cell_type": "markdown",
   "metadata": {},
   "source": [
    "Eliminate the $\\sin x$ and move the negative sign outside the integral."
   ]
  },
  {
   "cell_type": "markdown",
   "metadata": {},
   "source": [
    "$$-\\int_0^{\\pi/2} 1 - 2u^2 + u^4\\ du$$"
   ]
  },
  {
   "cell_type": "markdown",
   "metadata": {},
   "source": [
    "Integrate, substitute the original function for u back in, and solve."
   ]
  },
  {
   "cell_type": "markdown",
   "metadata": {},
   "source": [
    "$$-(u - \\frac{2}{3}u^3 + \\frac{1}{5}u^5)\\ \\Big|_0^{\\pi/2}$$"
   ]
  },
  {
   "cell_type": "markdown",
   "metadata": {},
   "source": [
    "$$-\\cos(x) + \\frac{2}{3}\\cos^3 x - \\frac{1}{5} \\cos^5 x\\ \\Big|_0^{\\pi/2}$$"
   ]
  },
  {
   "cell_type": "code",
   "execution_count": 10,
   "metadata": {},
   "outputs": [
    {
     "data": {
      "text/plain": [
       "True"
      ]
     },
     "execution_count": 10,
     "metadata": {},
     "output_type": "execute_result"
    }
   ],
   "source": [
    "from math import cos, pi\n",
    "f = lambda x:-cos(x) + (2.0/3.0) * cos(x)**3 - (1.0/5.0) * cos(x)**5\n",
    "#We know that 8/15 is correct answer, so validate\n",
    "round(f(pi/2) - f(0), 8) == round(8.0/15.0, 8)"
   ]
  },
  {
   "cell_type": "markdown",
   "metadata": {},
   "source": [
    "An interesting thing to note is that, with the interval $[0, \\pi/2]$ the exponents of the $\\cos$ terms are irrelevant, because $\\cos(0)=1$ and $\\cos(\\pi/2)=0$. I originally mistakenly put $\\frac{2}{3}\\cos^4 x$ instead of $\\frac{2}{3}\\cos^3 x$ and it gave the same answer."
   ]
  },
  {
   "cell_type": "markdown",
   "metadata": {},
   "source": [
    "Here is a much simpler problem."
   ]
  },
  {
   "cell_type": "markdown",
   "metadata": {},
   "source": [
    "$$\\int_0^{\\pi/2} \\sin x \\cos x\\ \\mathrm{d}x$$"
   ]
  },
  {
   "cell_type": "markdown",
   "metadata": {},
   "source": [
    "$$u = \\sin x$$\n",
    "$$\\mathrm{d}u = \\cos x \\mathrm{d}x$$\n",
    "$$\\mathrm{d}x = \\frac{\\mathrm{d}u}{\\cos x}$$"
   ]
  },
  {
   "cell_type": "markdown",
   "metadata": {},
   "source": [
    "$$\\int_0^{pi/2} u \\cos{x}\\ \\mathrm{d}x = \\int_0^{\\pi/2} u \\cos{x}\\ \\frac{\\mathrm{d}u}{\\cos x} = \\int_0^{\\pi/2} u\\ \\mathrm{d}u$$"
   ]
  },
  {
   "cell_type": "markdown",
   "metadata": {},
   "source": [
    "$$= \\frac{1}{2}u^2 \\Big|_0^{\\pi/2}$$"
   ]
  },
  {
   "cell_type": "markdown",
   "metadata": {},
   "source": [
    "$$= \\frac{1}{2}\\sin^2 x\\ \\Big|_0^{\\pi/2}$$"
   ]
  },
  {
   "cell_type": "markdown",
   "metadata": {},
   "source": [
    "$$=\\left( \\frac{1}{2}\\cdot 1\\right) - \\left(\\frac{1}{2} \\cdot 0\\right) = \\frac{1}{2}$$"
   ]
  },
  {
   "cell_type": "markdown",
   "metadata": {},
   "source": [
    "Now crosscheck that the integral is correct."
   ]
  },
  {
   "cell_type": "markdown",
   "metadata": {},
   "source": [
    "$$=\\frac{\\mathrm{d}y}{\\mathrm{d}x} \\frac{1}{2} \\sin^2 x = (2)(1/2) \\sin x \\cdot \\cos x = \\sin x \\cos x$$"
   ]
  },
  {
   "cell_type": "markdown",
   "metadata": {},
   "source": [
    "To pass a calculus course with flying colors, it is wise to know trig identities cold, and to have gone through as many of these trick questions as possible. Begin by knowing the fundamentals, as this easy problem demonstrates, and then keep seeking out the problems on which you skin your knees. They should not come as a surprise in a test; if they do, there has been a lack of adequate preparation."
   ]
  },
  {
   "cell_type": "code",
   "execution_count": null,
   "metadata": {},
   "outputs": [],
   "source": []
  }
 ],
 "metadata": {
  "kernelspec": {
   "display_name": "Python 2",
   "language": "python",
   "name": "python2"
  },
  "language_info": {
   "codemirror_mode": {
    "name": "ipython",
    "version": 2
   },
   "file_extension": ".py",
   "mimetype": "text/x-python",
   "name": "python",
   "nbconvert_exporter": "python",
   "pygments_lexer": "ipython2",
   "version": "2.7.13"
  }
 },
 "nbformat": 4,
 "nbformat_minor": 2
}
