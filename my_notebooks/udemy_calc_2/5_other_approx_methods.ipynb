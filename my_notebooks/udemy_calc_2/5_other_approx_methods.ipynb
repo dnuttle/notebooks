{
 "cells": [
  {
   "cell_type": "markdown",
   "metadata": {},
   "source": [
    "### Simpson's rule"
   ]
  },
  {
   "cell_type": "markdown",
   "metadata": {},
   "source": [
    "$$\\int_a^b f(x) dx \\approx \\frac{\\Delta x}{3} \\left[ f(x_0) + 4f(x_1) + 2f(x_2) + \\dots 2f(x_{n-2}) + 4f(x_{n-1}) + f(x_n) \\right]$$"
   ]
  },
  {
   "cell_type": "code",
   "execution_count": 42,
   "metadata": {},
   "outputs": [],
   "source": [
    "import numpy as np\n",
    "import matplotlib.pyplot as plt\n",
    "def simpsons(f, a, b, n):\n",
    "    if (n % 2.0 != 0):\n",
    "        raise ValueError(\"n must be even\")\n",
    "    delta = float(b-a)/n\n",
    "    points = np.append(np.arange(a, b, delta), b)\n",
    "    return (delta/3.0) * (f(points[0]) + 4.0 * sum(map(f, points[1:n:2])) + 2.0 * sum(map(f, points[2:n:2])) \\\n",
    "            + f(points[n-1]))"
   ]
  },
  {
   "cell_type": "code",
   "execution_count": 29,
   "metadata": {},
   "outputs": [
    {
     "data": {
      "text/plain": [
       "2.666136"
      ]
     },
     "execution_count": 29,
     "metadata": {},
     "output_type": "execute_result"
    }
   ],
   "source": [
    "simpsons(lambda x:x**2, 0, 2, 100)"
   ]
  },
  {
   "cell_type": "code",
   "execution_count": 30,
   "metadata": {},
   "outputs": [
    {
     "data": {
      "text/plain": [
       "2.616"
      ]
     },
     "execution_count": 30,
     "metadata": {},
     "output_type": "execute_result"
    }
   ],
   "source": [
    "f = lambda x:simpsons(lambda y:y**2, 0, 2, x)\n",
    "f(10)"
   ]
  },
  {
   "cell_type": "code",
   "execution_count": 45,
   "metadata": {
    "scrolled": true
   },
   "outputs": [
    {
     "data": {
      "text/plain": [
       "[<matplotlib.lines.Line2D at 0x1038d1810>]"
      ]
     },
     "execution_count": 45,
     "metadata": {},
     "output_type": "execute_result"
    },
    {
     "data": {
      "image/png": "[encoded data removed]",
      "text/plain": [
       "<matplotlib.figure.Figure at 0x1038d1890>"
      ]
     },
     "metadata": {},
     "output_type": "display_data"
    }
   ],
   "source": [
    "x=2*np.arange(1,30)\n",
    "y=map(f, 2*np.arange(1,30))\n",
    "plt.grid()\n",
    "plt.xlabel(\"n\")\n",
    "plt.ylabel(\"simpsons approx f(x)\")\n",
    "plt.plot(x,y)"
   ]
  },
  {
   "cell_type": "code",
   "execution_count": null,
   "metadata": {},
   "outputs": [],
   "source": []
  }
 ],
 "metadata": {
  "kernelspec": {
   "display_name": "Python 2",
   "language": "python",
   "name": "python2"
  },
  "language_info": {
   "codemirror_mode": {
    "name": "ipython",
    "version": 2
   },
   "file_extension": ".py",
   "mimetype": "text/x-python",
   "name": "python",
   "nbconvert_exporter": "python",
   "pygments_lexer": "ipython2",
   "version": "2.7.13"
  }
 },
 "nbformat": 4,
 "nbformat_minor": 2
}
