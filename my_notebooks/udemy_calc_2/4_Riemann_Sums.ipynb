{
 "cells": [
  {
   "cell_type": "code",
   "execution_count": 4,
   "metadata": {},
   "outputs": [],
   "source": [
    "import numpy as np"
   ]
  },
  {
   "cell_type": "code",
   "execution_count": 13,
   "metadata": {},
   "outputs": [],
   "source": [
    "# %load code.py\n",
    "def riemann(a, b, n, f, side='l'):\n",
    "  delta = (float(b)-float(a))/float(n)\n",
    "  if(side == 'l'):\n",
    "    return sum(map(f, np.linspace(a,b-delta,n))) * delta\n",
    "  elif(side == 'r'):\n",
    "    return sum(map(f, np.linspace(a, b-delta, n)+delta)) * delta\n",
    "  elif(side == 'm'):\n",
    "    return sum(map(f, np.linspace(a, b-delta, n)+delta/2.0)) * delta\n",
    "  else:\n",
    "    raise ValueError(\"side must be l, r or m\")"
   ]
  },
  {
   "cell_type": "code",
   "execution_count": 14,
   "metadata": {},
   "outputs": [
    {
     "data": {
      "text/plain": [
       "20.75"
      ]
     },
     "execution_count": 14,
     "metadata": {},
     "output_type": "execute_result"
    }
   ],
   "source": [
    "riemann(a=1, b=4, n=3, f=lambda n:n**2, side='m')"
   ]
  },
  {
   "cell_type": "code",
   "execution_count": 15,
   "metadata": {},
   "outputs": [
    {
     "data": {
      "text/plain": [
       "0.25"
      ]
     },
     "execution_count": 15,
     "metadata": {},
     "output_type": "execute_result"
    }
   ],
   "source": [
    "riemann(a=0, b=2, n=4, side='r', f=lambda x:2.0-x**2)"
   ]
  },
  {
   "cell_type": "code",
   "execution_count": 16,
   "metadata": {},
   "outputs": [
    {
     "data": {
      "text/plain": [
       "468.0"
      ]
     },
     "execution_count": 16,
     "metadata": {},
     "output_type": "execute_result"
    }
   ],
   "source": [
    "riemann(a=6,b=26,n=5,f=lambda x:(1.0/20.0)*x**2+x-7,side='m')"
   ]
  },
  {
   "cell_type": "code",
   "execution_count": 17,
   "metadata": {},
   "outputs": [
    {
     "data": {
      "text/plain": [
       "4.148148148148148"
      ]
     },
     "execution_count": 17,
     "metadata": {},
     "output_type": "execute_result"
    }
   ],
   "source": [
    "112/27.0"
   ]
  },
  {
   "cell_type": "markdown",
   "metadata": {},
   "source": [
    "## Quiz 18: Limit process to find area on [a, b]\n"
   ]
  },
  {
   "cell_type": "markdown",
   "metadata": {},
   "source": [
    "Question 1: Use the limit procdess to find the area of the region between the function and the x-axis over the given interval.  \n",
    "$f(x) = 4-x^2$ on the interval $[1,2]$"
   ]
  },
  {
   "cell_type": "markdown",
   "metadata": {},
   "source": [
    "Reference:  \n",
    "$$\\int_a^b f(x) dx = \\lim_{n \\to \\infty} \\sum_{i=1}^{n} f(x_i) \\Delta x$$\n",
    "$$\\Delta x = \\frac{b-a}{n}$$\n",
    "$$x_i = a + i \\Delta x$$\n",
    "$$\\sum_{i=1}^{n} i = \\frac{n(n+1)}{2}$$\n",
    "$$\\sum_{i=1}^{n} i^2 = \\frac{n(n+1)(2n+1)}{6}$$\n",
    "$$\\sum_{i=1}^{n} i^3 = \\frac{n^2(n+1)^2}{4}$$"
   ]
  },
  {
   "cell_type": "markdown",
   "metadata": {},
   "source": [
    "Solution:  \n",
    "$$\\Delta x = \\frac{2-1}{n} = \\frac{1}{n}$$"
   ]
  },
  {
   "cell_type": "markdown",
   "metadata": {},
   "source": [
    "$$x_i = a + i\\Delta x = 1 + i \\cdot \\frac{1}{n} = 1 + \\frac{i}{n}$$"
   ]
  },
  {
   "cell_type": "markdown",
   "metadata": {},
   "source": [
    "$$\\lim_{n \\to \\infty} \\sum_{i=1}^{n} f(x_i) \\Delta x = \\lim_{n \\to \\infty} \\sum_{i=1}^{n} f\\left(1+ \\frac{i}{n}\\right) \\cdot \\frac{1}{n} = \\lim_{n \\to \\infty} \\sum_{i=1}^{n} \\left[ 4 - \\left( 1 + \\frac{i}{n} \\right)^2 \\right] \\frac{1}{n}$$"
   ]
  },
  {
   "cell_type": "markdown",
   "metadata": {},
   "source": [
    "$$=\\lim_{n \\to \\infty} \\sum_{i=1}^{n} \\left[ 4 - \\left(1 + \\frac{2i}{n} + \\frac{i^2}{n^2}\\right) \\right] \\frac{1}{n} = \\lim_{n \\to \\infty} \\sum_{i=1}^{n} \\left[ 3 - \\frac{2i}{n}-\\frac{i^2}{n^2} \\right] \\frac{1}{n}$$"
   ]
  },
  {
   "cell_type": "markdown",
   "metadata": {},
   "source": [
    "$$=\\lim_{n \\to \\infty} \\sum_{i=1}^{n} \\left[ \\frac{3}{n} - \\frac{2i}{n^2} - \\frac{i^2}{n^3} \\right]$$"
   ]
  },
  {
   "cell_type": "markdown",
   "metadata": {},
   "source": [
    "$$=\\lim_{n \\to \\infty} \\left[ \\frac{3}{n} \\sum_{i=1}^{n} 1 - \\frac{2}{n^2} \\sum_{i=1}^{n} i - \\frac{1}{n^3} \\sum_{i=1}^{n} i^2 \\right]$$"
   ]
  },
  {
   "cell_type": "markdown",
   "metadata": {},
   "source": [
    "$$=\\lim_{n \\to \\infty} \\left[ \\frac{3}{n} \\cdot n - \\frac{2}{n^2} \\cdot \\frac{n(n+1)}{2} - \\frac{1}{n^3}  \\cdot \n",
    "\\frac{n(n+1)(2n+1)}{6} \\right]$$"
   ]
  },
  {
   "cell_type": "markdown",
   "metadata": {},
   "source": [
    "$$=\\lim_{n \\to \\infty} \\left[ \\frac{3n}{n} - \\frac{2n^2 + 2n}{2n^2} - \\frac{2n^3 + 3n^2 + n}{6n^3} \\right]$$"
   ]
  },
  {
   "cell_type": "markdown",
   "metadata": {},
   "source": [
    "$$=\\lim_{n \\to \\infty} \\left[ 3 - 1 - \\frac{1}{n} - \\frac{1}{3} - \\frac{1}{2n} - \\frac{1}{6n^2} \\right]$$"
   ]
  },
  {
   "cell_type": "markdown",
   "metadata": {},
   "source": [
    "$$=\\frac{5}{3}$$"
   ]
  },
  {
   "cell_type": "code",
   "execution_count": 8,
   "metadata": {},
   "outputs": [
    {
     "data": {
      "text/plain": [
       "True"
      ]
     },
     "execution_count": 8,
     "metadata": {},
     "output_type": "execute_result"
    }
   ],
   "source": [
    "#Confirmation\n",
    "f = lambda x: 4.0 * x - x**3/3.0\n",
    "round(f(2) - f(1), 5) == round(5.0/3.0, 5)"
   ]
  },
  {
   "cell_type": "markdown",
   "metadata": {},
   "source": [
    "Question 2: Use the limit process to find the net area of the region between the funciton and the x-axis over the given interval.  \n",
    "$f(x) = 4-x^2$ on the interval $[1,3]$"
   ]
  },
  {
   "cell_type": "markdown",
   "metadata": {},
   "source": [
    "$$\\Delta x = \\frac{b-a}{n} = \\frac{3-1}{n} = \\frac{2}{n}$$"
   ]
  },
  {
   "cell_type": "markdown",
   "metadata": {},
   "source": [
    "$$x_i = a + i\\Delta x = 1 + \\frac{2i}{n}$$"
   ]
  },
  {
   "cell_type": "markdown",
   "metadata": {},
   "source": [
    "$$\\lim_{n \\to \\infty} \\sum_{i=1}^{n} f(x_i) \\Delta x = \\lim_{n \\to \\infty} \\sum_{i=1}^{n} \\left[ 4 - \\left(1 + \\frac{2i}{n} \\right)^2 \\right] \\frac{2}{n} = \\lim_{n \\to \\infty} \\sum_{i=1}^{n} \\left[ 3 - \\frac{4i}{n} - \\frac{4i^2}{n^2} \\right] \\frac{2}{n}$$"
   ]
  },
  {
   "cell_type": "markdown",
   "metadata": {},
   "source": [
    "$$=\\lim_{n \\to \\infty} \\sum_{i=1}^{n} \\left[ \\frac{6}{n} - \\frac{8i}{n^2} - \\frac{8i^2}{n^3} \\right]$$"
   ]
  },
  {
   "cell_type": "markdown",
   "metadata": {},
   "source": [
    "$$=\\lim_{n \\to \\infty} \\left[ \\frac{6}{n} \\sum_{i=1}^{n} 1 - \\frac{8}{n^2} \\sum_{i=1}^{n} i - \\frac{8}{n^3} \\sum_{i = 1}^{n} i^2  \\right]$$"
   ]
  },
  {
   "cell_type": "markdown",
   "metadata": {},
   "source": [
    "$$=\\lim_{n \\to \\infty} \\left[ \\left( \\frac{6}{n} \\cdot n \\right) - \\left( \\frac{8}{n^2} \\cdot \\frac{n(n+1)}{2}  \\right) - \\left( \\frac{8}{n^3} \\cdot \\frac{2n^3 + 3n^2 + n}{6} \\right) \\right]$$"
   ]
  },
  {
   "cell_type": "markdown",
   "metadata": {},
   "source": [
    "$$=\\lim_{n \\to \\infty} \\left[ 6 - \\frac{8n^2 + 8n}{2n^2} - \\frac{8n^3 + 4n^2 + 8n}{3n^3} \\right]$$"
   ]
  },
  {
   "cell_type": "markdown",
   "metadata": {},
   "source": [
    "$$=\\lim_{n \\to \\infty} \\left[ 6 - 4 - \\frac{4}{n} - \\frac{8}{3} - \\frac{4}{3n} - \\frac{8}{3n^2} \\right]$$"
   ]
  },
  {
   "cell_type": "markdown",
   "metadata": {},
   "source": [
    "$$=-\\frac{2}{3}$$"
   ]
  },
  {
   "cell_type": "code",
   "execution_count": 11,
   "metadata": {},
   "outputs": [
    {
     "data": {
      "text/plain": [
       "True"
      ]
     },
     "execution_count": 11,
     "metadata": {},
     "output_type": "execute_result"
    }
   ],
   "source": [
    "#Confirmation\n",
    "round(f(3.0) - f(1.0), 5) == round(-2.0/3.0, 5)"
   ]
  },
  {
   "cell_type": "code",
   "execution_count": null,
   "metadata": {},
   "outputs": [],
   "source": []
  }
 ],
 "metadata": {
  "kernelspec": {
   "display_name": "Python 2",
   "language": "python",
   "name": "python2"
  },
  "language_info": {
   "codemirror_mode": {
    "name": "ipython",
    "version": 2
   },
   "file_extension": ".py",
   "mimetype": "text/x-python",
   "name": "python",
   "nbconvert_exporter": "python",
   "pygments_lexer": "ipython2",
   "version": "2.7.13"
  }
 },
 "nbformat": 4,
 "nbformat_minor": 2
}
